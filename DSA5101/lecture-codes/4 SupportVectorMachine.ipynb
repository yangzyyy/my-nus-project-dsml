{
 "cells": [
  {
   "cell_type": "markdown",
   "metadata": {},
   "source": [
    "# DSA5101 - Introduction to Big Data for Industry\n",
    "\n",
    "\n",
    "**Prepared by *Dr Li Xiaoli*** "
   ]
  },
  {
   "cell_type": "markdown",
   "metadata": {},
   "source": [
    "# Support Vector Machines (SVMs)"
   ]
  },
  {
   "cell_type": "markdown",
   "metadata": {},
   "source": [
    "## Introduction: SVMs are supervised learning techniques that analyze data used for both classification and regression analysis. \n",
    "\n",
    "## SVM for Classification\n",
    "\n",
    "## Given a set of training examples, each marked as belonging to one or the other of two categories, an SVM training algorithm builds a model that assigns new examples to one category or the other, making it a non-probabilistic binary linear classifier. \n",
    "\n",
    "## An SVM model is a representation of the examples as points in space, mapped so that the examples of the separate categories are divided by a clear gap that is as wide as possible, i.e. maximizing the margin between two classes. \n",
    "\n",
    "## New examples are then mapped into that same space and predicted to belong to a category based on which side of the gap they fall on."
   ]
  },
  {
   "cell_type": "markdown",
   "metadata": {},
   "source": [
    "![image info](http://www.alivelearn.net/wp-content/uploads/2009/10/svm_linear_2class.png)"
   ]
  },
  {
   "cell_type": "markdown",
   "metadata": {},
   "source": [
    "# SVM can be used for both classification (SVC) and Regression (SVR)"
   ]
  },
  {
   "cell_type": "code",
   "execution_count": 66,
   "metadata": {},
   "outputs": [],
   "source": [
    "from sklearn import svm"
   ]
  },
  {
   "cell_type": "markdown",
   "metadata": {},
   "source": [
    "# 1.  SVM for classification (SVC)"
   ]
  },
  {
   "cell_type": "code",
   "execution_count": 67,
   "metadata": {},
   "outputs": [
    {
     "name": "stdout",
     "output_type": "stream",
     "text": [
      "Help on class SVC in module sklearn.svm._classes:\n",
      "\n",
      "class SVC(sklearn.svm._base.BaseSVC)\n",
      " |  SVC(*, C=1.0, kernel='rbf', degree=3, gamma='scale', coef0=0.0, shrinking=True, probability=False, tol=0.001, cache_size=200, class_weight=None, verbose=False, max_iter=-1, decision_function_shape='ovr', break_ties=False, random_state=None)\n",
      " |  \n",
      " |  C-Support Vector Classification.\n",
      " |  \n",
      " |  The implementation is based on libsvm. The fit time scales at least\n",
      " |  quadratically with the number of samples and may be impractical\n",
      " |  beyond tens of thousands of samples. For large datasets\n",
      " |  consider using :class:`~sklearn.svm.LinearSVC` or\n",
      " |  :class:`~sklearn.linear_model.SGDClassifier` instead, possibly after a\n",
      " |  :class:`~sklearn.kernel_approximation.Nystroem` transformer.\n",
      " |  \n",
      " |  The multiclass support is handled according to a one-vs-one scheme.\n",
      " |  \n",
      " |  For details on the precise mathematical formulation of the provided\n",
      " |  kernel functions and how `gamma`, `coef0` and `degree` affect each\n",
      " |  other, see the corresponding section in the narrative documentation:\n",
      " |  :ref:`svm_kernels`.\n",
      " |  \n",
      " |  Read more in the :ref:`User Guide <svm_classification>`.\n",
      " |  \n",
      " |  Parameters\n",
      " |  ----------\n",
      " |  C : float, default=1.0\n",
      " |      Regularization parameter. The strength of the regularization is\n",
      " |      inversely proportional to C. Must be strictly positive. The penalty\n",
      " |      is a squared l2 penalty.\n",
      " |  \n",
      " |  kernel : {'linear', 'poly', 'rbf', 'sigmoid', 'precomputed'}, default='rbf'\n",
      " |      Specifies the kernel type to be used in the algorithm.\n",
      " |      It must be one of 'linear', 'poly', 'rbf', 'sigmoid', 'precomputed' or\n",
      " |      a callable.\n",
      " |      If none is given, 'rbf' will be used. If a callable is given it is\n",
      " |      used to pre-compute the kernel matrix from data matrices; that matrix\n",
      " |      should be an array of shape ``(n_samples, n_samples)``.\n",
      " |  \n",
      " |  degree : int, default=3\n",
      " |      Degree of the polynomial kernel function ('poly').\n",
      " |      Ignored by all other kernels.\n",
      " |  \n",
      " |  gamma : {'scale', 'auto'} or float, default='scale'\n",
      " |      Kernel coefficient for 'rbf', 'poly' and 'sigmoid'.\n",
      " |  \n",
      " |      - if ``gamma='scale'`` (default) is passed then it uses\n",
      " |        1 / (n_features * X.var()) as value of gamma,\n",
      " |      - if 'auto', uses 1 / n_features.\n",
      " |  \n",
      " |      .. versionchanged:: 0.22\n",
      " |         The default value of ``gamma`` changed from 'auto' to 'scale'.\n",
      " |  \n",
      " |  coef0 : float, default=0.0\n",
      " |      Independent term in kernel function.\n",
      " |      It is only significant in 'poly' and 'sigmoid'.\n",
      " |  \n",
      " |  shrinking : bool, default=True\n",
      " |      Whether to use the shrinking heuristic.\n",
      " |      See the :ref:`User Guide <shrinking_svm>`.\n",
      " |  \n",
      " |  probability : bool, default=False\n",
      " |      Whether to enable probability estimates. This must be enabled prior\n",
      " |      to calling `fit`, will slow down that method as it internally uses\n",
      " |      5-fold cross-validation, and `predict_proba` may be inconsistent with\n",
      " |      `predict`. Read more in the :ref:`User Guide <scores_probabilities>`.\n",
      " |  \n",
      " |  tol : float, default=1e-3\n",
      " |      Tolerance for stopping criterion.\n",
      " |  \n",
      " |  cache_size : float, default=200\n",
      " |      Specify the size of the kernel cache (in MB).\n",
      " |  \n",
      " |  class_weight : dict or 'balanced', default=None\n",
      " |      Set the parameter C of class i to class_weight[i]*C for\n",
      " |      SVC. If not given, all classes are supposed to have\n",
      " |      weight one.\n",
      " |      The \"balanced\" mode uses the values of y to automatically adjust\n",
      " |      weights inversely proportional to class frequencies in the input data\n",
      " |      as ``n_samples / (n_classes * np.bincount(y))``\n",
      " |  \n",
      " |  verbose : bool, default=False\n",
      " |      Enable verbose output. Note that this setting takes advantage of a\n",
      " |      per-process runtime setting in libsvm that, if enabled, may not work\n",
      " |      properly in a multithreaded context.\n",
      " |  \n",
      " |  max_iter : int, default=-1\n",
      " |      Hard limit on iterations within solver, or -1 for no limit.\n",
      " |  \n",
      " |  decision_function_shape : {'ovo', 'ovr'}, default='ovr'\n",
      " |      Whether to return a one-vs-rest ('ovr') decision function of shape\n",
      " |      (n_samples, n_classes) as all other classifiers, or the original\n",
      " |      one-vs-one ('ovo') decision function of libsvm which has shape\n",
      " |      (n_samples, n_classes * (n_classes - 1) / 2). However, one-vs-one\n",
      " |      ('ovo') is always used as multi-class strategy. The parameter is\n",
      " |      ignored for binary classification.\n",
      " |  \n",
      " |      .. versionchanged:: 0.19\n",
      " |          decision_function_shape is 'ovr' by default.\n",
      " |  \n",
      " |      .. versionadded:: 0.17\n",
      " |         *decision_function_shape='ovr'* is recommended.\n",
      " |  \n",
      " |      .. versionchanged:: 0.17\n",
      " |         Deprecated *decision_function_shape='ovo' and None*.\n",
      " |  \n",
      " |  break_ties : bool, default=False\n",
      " |      If true, ``decision_function_shape='ovr'``, and number of classes > 2,\n",
      " |      :term:`predict` will break ties according to the confidence values of\n",
      " |      :term:`decision_function`; otherwise the first class among the tied\n",
      " |      classes is returned. Please note that breaking ties comes at a\n",
      " |      relatively high computational cost compared to a simple predict.\n",
      " |  \n",
      " |      .. versionadded:: 0.22\n",
      " |  \n",
      " |  random_state : int, RandomState instance or None, default=None\n",
      " |      Controls the pseudo random number generation for shuffling the data for\n",
      " |      probability estimates. Ignored when `probability` is False.\n",
      " |      Pass an int for reproducible output across multiple function calls.\n",
      " |      See :term:`Glossary <random_state>`.\n",
      " |  \n",
      " |  Attributes\n",
      " |  ----------\n",
      " |  class_weight_ : ndarray of shape (n_classes,)\n",
      " |      Multipliers of parameter C for each class.\n",
      " |      Computed based on the ``class_weight`` parameter.\n",
      " |  \n",
      " |  classes_ : ndarray of shape (n_classes,)\n",
      " |      The classes labels.\n",
      " |  \n",
      " |  coef_ : ndarray of shape (n_classes * (n_classes - 1) / 2, n_features)\n",
      " |      Weights assigned to the features (coefficients in the primal\n",
      " |      problem). This is only available in the case of a linear kernel.\n",
      " |  \n",
      " |      `coef_` is a readonly property derived from `dual_coef_` and\n",
      " |      `support_vectors_`.\n",
      " |  \n",
      " |  dual_coef_ : ndarray of shape (n_classes -1, n_SV)\n",
      " |      Dual coefficients of the support vector in the decision\n",
      " |      function (see :ref:`sgd_mathematical_formulation`), multiplied by\n",
      " |      their targets.\n",
      " |      For multiclass, coefficient for all 1-vs-1 classifiers.\n",
      " |      The layout of the coefficients in the multiclass case is somewhat\n",
      " |      non-trivial. See the :ref:`multi-class section of the User Guide\n",
      " |      <svm_multi_class>` for details.\n",
      " |  \n",
      " |  fit_status_ : int\n",
      " |      0 if correctly fitted, 1 otherwise (will raise warning)\n",
      " |  \n",
      " |  intercept_ : ndarray of shape (n_classes * (n_classes - 1) / 2,)\n",
      " |      Constants in decision function.\n",
      " |  \n",
      " |  support_ : ndarray of shape (n_SV)\n",
      " |      Indices of support vectors.\n",
      " |  \n",
      " |  support_vectors_ : ndarray of shape (n_SV, n_features)\n",
      " |      Support vectors.\n",
      " |  \n",
      " |  n_support_ : ndarray of shape (n_classes,), dtype=int32\n",
      " |      Number of support vectors for each class.\n",
      " |  \n",
      " |  probA_ : ndarray of shape (n_classes * (n_classes - 1) / 2)\n",
      " |  probB_ : ndarray of shape (n_classes * (n_classes - 1) / 2)\n",
      " |      If `probability=True`, it corresponds to the parameters learned in\n",
      " |      Platt scaling to produce probability estimates from decision values.\n",
      " |      If `probability=False`, it's an empty array. Platt scaling uses the\n",
      " |      logistic function\n",
      " |      ``1 / (1 + exp(decision_value * probA_ + probB_))``\n",
      " |      where ``probA_`` and ``probB_`` are learned from the dataset [2]_. For\n",
      " |      more information on the multiclass case and training procedure see\n",
      " |      section 8 of [1]_.\n",
      " |  \n",
      " |  shape_fit_ : tuple of int of shape (n_dimensions_of_X,)\n",
      " |      Array dimensions of training vector ``X``.\n",
      " |  \n",
      " |  Examples\n",
      " |  --------\n",
      " |  >>> import numpy as np\n",
      " |  >>> from sklearn.pipeline import make_pipeline\n",
      " |  >>> from sklearn.preprocessing import StandardScaler\n",
      " |  >>> X = np.array([[-1, -1], [-2, -1], [1, 1], [2, 1]])\n",
      " |  >>> y = np.array([1, 1, 2, 2])\n",
      " |  >>> from sklearn.svm import SVC\n",
      " |  >>> clf = make_pipeline(StandardScaler(), SVC(gamma='auto'))\n",
      " |  >>> clf.fit(X, y)\n",
      " |  Pipeline(steps=[('standardscaler', StandardScaler()),\n",
      " |                  ('svc', SVC(gamma='auto'))])\n",
      " |  \n",
      " |  >>> print(clf.predict([[-0.8, -1]]))\n",
      " |  [1]\n",
      " |  \n",
      " |  See Also\n",
      " |  --------\n",
      " |  SVR : Support Vector Machine for Regression implemented using libsvm.\n",
      " |  \n",
      " |  LinearSVC : Scalable Linear Support Vector Machine for classification\n",
      " |      implemented using liblinear. Check the See Also section of\n",
      " |      LinearSVC for more comparison element.\n",
      " |  \n",
      " |  References\n",
      " |  ----------\n",
      " |  .. [1] `LIBSVM: A Library for Support Vector Machines\n",
      " |      <http://www.csie.ntu.edu.tw/~cjlin/papers/libsvm.pdf>`_\n",
      " |  \n",
      " |  .. [2] `Platt, John (1999). \"Probabilistic outputs for support vector\n",
      " |      machines and comparison to regularizedlikelihood methods.\"\n",
      " |      <http://citeseer.ist.psu.edu/viewdoc/summary?doi=10.1.1.41.1639>`_\n",
      " |  \n",
      " |  Method resolution order:\n",
      " |      SVC\n",
      " |      sklearn.svm._base.BaseSVC\n",
      " |      sklearn.base.ClassifierMixin\n",
      " |      sklearn.svm._base.BaseLibSVM\n",
      " |      sklearn.base.BaseEstimator\n",
      " |      builtins.object\n",
      " |  \n",
      " |  Methods defined here:\n",
      " |  \n",
      " |  __init__(self, *, C=1.0, kernel='rbf', degree=3, gamma='scale', coef0=0.0, shrinking=True, probability=False, tol=0.001, cache_size=200, class_weight=None, verbose=False, max_iter=-1, decision_function_shape='ovr', break_ties=False, random_state=None)\n",
      " |      Initialize self.  See help(type(self)) for accurate signature.\n",
      " |  \n",
      " |  ----------------------------------------------------------------------\n",
      " |  Data and other attributes defined here:\n",
      " |  \n",
      " |  __abstractmethods__ = frozenset()\n",
      " |  \n",
      " |  ----------------------------------------------------------------------\n",
      " |  Methods inherited from sklearn.svm._base.BaseSVC:\n",
      " |  \n",
      " |  decision_function(self, X)\n",
      " |      Evaluates the decision function for the samples in X.\n",
      " |      \n",
      " |      Parameters\n",
      " |      ----------\n",
      " |      X : array-like of shape (n_samples, n_features)\n",
      " |      \n",
      " |      Returns\n",
      " |      -------\n",
      " |      X : ndarray of shape (n_samples, n_classes * (n_classes-1) / 2)\n",
      " |          Returns the decision function of the sample for each class\n",
      " |          in the model.\n",
      " |          If decision_function_shape='ovr', the shape is (n_samples,\n",
      " |          n_classes).\n",
      " |      \n",
      " |      Notes\n",
      " |      -----\n",
      " |      If decision_function_shape='ovo', the function values are proportional\n",
      " |      to the distance of the samples X to the separating hyperplane. If the\n",
      " |      exact distances are required, divide the function values by the norm of\n",
      " |      the weight vector (``coef_``). See also `this question\n",
      " |      <https://stats.stackexchange.com/questions/14876/\n",
      " |      interpreting-distance-from-hyperplane-in-svm>`_ for further details.\n",
      " |      If decision_function_shape='ovr', the decision function is a monotonic\n",
      " |      transformation of ovo decision function.\n",
      " |  \n",
      " |  predict(self, X)\n",
      " |      Perform classification on samples in X.\n",
      " |      \n",
      " |      For an one-class model, +1 or -1 is returned.\n",
      " |      \n",
      " |      Parameters\n",
      " |      ----------\n",
      " |      X : {array-like, sparse matrix} of shape (n_samples, n_features) or                 (n_samples_test, n_samples_train)\n",
      " |          For kernel=\"precomputed\", the expected shape of X is\n",
      " |          (n_samples_test, n_samples_train).\n",
      " |      \n",
      " |      Returns\n",
      " |      -------\n",
      " |      y_pred : ndarray of shape (n_samples,)\n",
      " |          Class labels for samples in X.\n",
      " |  \n",
      " |  ----------------------------------------------------------------------\n",
      " |  Readonly properties inherited from sklearn.svm._base.BaseSVC:\n",
      " |  \n",
      " |  predict_log_proba\n",
      " |      Compute log probabilities of possible outcomes for samples in X.\n",
      " |      \n",
      " |      The model need to have probability information computed at training\n",
      " |      time: fit with attribute `probability` set to True.\n",
      " |      \n",
      " |      Parameters\n",
      " |      ----------\n",
      " |      X : array-like of shape (n_samples, n_features) or                 (n_samples_test, n_samples_train)\n",
      " |          For kernel=\"precomputed\", the expected shape of X is\n",
      " |          (n_samples_test, n_samples_train).\n",
      " |      \n",
      " |      Returns\n",
      " |      -------\n",
      " |      T : ndarray of shape (n_samples, n_classes)\n",
      " |          Returns the log-probabilities of the sample for each class in\n",
      " |          the model. The columns correspond to the classes in sorted\n",
      " |          order, as they appear in the attribute :term:`classes_`.\n",
      " |      \n",
      " |      Notes\n",
      " |      -----\n",
      " |      The probability model is created using cross validation, so\n",
      " |      the results can be slightly different than those obtained by\n",
      " |      predict. Also, it will produce meaningless results on very small\n",
      " |      datasets.\n",
      " |  \n",
      " |  predict_proba\n",
      " |      Compute probabilities of possible outcomes for samples in X.\n",
      " |      \n",
      " |      The model need to have probability information computed at training\n",
      " |      time: fit with attribute `probability` set to True.\n",
      " |      \n",
      " |      Parameters\n",
      " |      ----------\n",
      " |      X : array-like of shape (n_samples, n_features)\n",
      " |          For kernel=\"precomputed\", the expected shape of X is\n",
      " |          (n_samples_test, n_samples_train).\n",
      " |      \n",
      " |      Returns\n",
      " |      -------\n",
      " |      T : ndarray of shape (n_samples, n_classes)\n",
      " |          Returns the probability of the sample for each class in\n",
      " |          the model. The columns correspond to the classes in sorted\n",
      " |          order, as they appear in the attribute :term:`classes_`.\n",
      " |      \n",
      " |      Notes\n",
      " |      -----\n",
      " |      The probability model is created using cross validation, so\n",
      " |      the results can be slightly different than those obtained by\n",
      " |      predict. Also, it will produce meaningless results on very small\n",
      " |      datasets.\n",
      " |  \n",
      " |  probA_\n",
      " |  \n",
      " |  probB_\n",
      " |  \n",
      " |  ----------------------------------------------------------------------\n",
      " |  Methods inherited from sklearn.base.ClassifierMixin:\n",
      " |  \n",
      " |  score(self, X, y, sample_weight=None)\n",
      " |      Return the mean accuracy on the given test data and labels.\n",
      " |      \n",
      " |      In multi-label classification, this is the subset accuracy\n",
      " |      which is a harsh metric since you require for each sample that\n",
      " |      each label set be correctly predicted.\n",
      " |      \n",
      " |      Parameters\n",
      " |      ----------\n",
      " |      X : array-like of shape (n_samples, n_features)\n",
      " |          Test samples.\n",
      " |      \n",
      " |      y : array-like of shape (n_samples,) or (n_samples, n_outputs)\n",
      " |          True labels for `X`.\n",
      " |      \n",
      " |      sample_weight : array-like of shape (n_samples,), default=None\n",
      " |          Sample weights.\n",
      " |      \n",
      " |      Returns\n",
      " |      -------\n",
      " |      score : float\n",
      " |          Mean accuracy of ``self.predict(X)`` wrt. `y`.\n",
      " |  \n",
      " |  ----------------------------------------------------------------------\n",
      " |  Data descriptors inherited from sklearn.base.ClassifierMixin:\n",
      " |  \n",
      " |  __dict__\n",
      " |      dictionary for instance variables (if defined)\n",
      " |  \n",
      " |  __weakref__\n",
      " |      list of weak references to the object (if defined)\n",
      " |  \n",
      " |  ----------------------------------------------------------------------\n",
      " |  Methods inherited from sklearn.svm._base.BaseLibSVM:\n",
      " |  \n",
      " |  fit(self, X, y, sample_weight=None)\n",
      " |      Fit the SVM model according to the given training data.\n",
      " |      \n",
      " |      Parameters\n",
      " |      ----------\n",
      " |      X : {array-like, sparse matrix} of shape (n_samples, n_features)                 or (n_samples, n_samples)\n",
      " |          Training vectors, where n_samples is the number of samples\n",
      " |          and n_features is the number of features.\n",
      " |          For kernel=\"precomputed\", the expected shape of X is\n",
      " |          (n_samples, n_samples).\n",
      " |      \n",
      " |      y : array-like of shape (n_samples,)\n",
      " |          Target values (class labels in classification, real numbers in\n",
      " |          regression).\n",
      " |      \n",
      " |      sample_weight : array-like of shape (n_samples,), default=None\n",
      " |          Per-sample weights. Rescale C per sample. Higher weights\n",
      " |          force the classifier to put more emphasis on these points.\n",
      " |      \n",
      " |      Returns\n",
      " |      -------\n",
      " |      self : object\n",
      " |      \n",
      " |      Notes\n",
      " |      -----\n",
      " |      If X and y are not C-ordered and contiguous arrays of np.float64 and\n",
      " |      X is not a scipy.sparse.csr_matrix, X and/or y may be copied.\n",
      " |      \n",
      " |      If X is a dense array, then the other methods will not support sparse\n",
      " |      matrices as input.\n",
      " |  \n",
      " |  ----------------------------------------------------------------------\n",
      " |  Readonly properties inherited from sklearn.svm._base.BaseLibSVM:\n",
      " |  \n",
      " |  coef_\n",
      " |  \n",
      " |  n_support_\n",
      " |  \n",
      " |  ----------------------------------------------------------------------\n",
      " |  Methods inherited from sklearn.base.BaseEstimator:\n",
      " |  \n",
      " |  __getstate__(self)\n",
      " |  \n",
      " |  __repr__(self, N_CHAR_MAX=700)\n",
      " |      Return repr(self).\n",
      " |  \n",
      " |  __setstate__(self, state)\n",
      " |  \n",
      " |  get_params(self, deep=True)\n",
      " |      Get parameters for this estimator.\n",
      " |      \n",
      " |      Parameters\n",
      " |      ----------\n",
      " |      deep : bool, default=True\n",
      " |          If True, will return the parameters for this estimator and\n",
      " |          contained subobjects that are estimators.\n",
      " |      \n",
      " |      Returns\n",
      " |      -------\n",
      " |      params : dict\n",
      " |          Parameter names mapped to their values.\n",
      " |  \n",
      " |  set_params(self, **params)\n",
      " |      Set the parameters of this estimator.\n",
      " |      \n",
      " |      The method works on simple estimators as well as on nested objects\n",
      " |      (such as :class:`~sklearn.pipeline.Pipeline`). The latter have\n",
      " |      parameters of the form ``<component>__<parameter>`` so that it's\n",
      " |      possible to update each component of a nested object.\n",
      " |      \n",
      " |      Parameters\n",
      " |      ----------\n",
      " |      **params : dict\n",
      " |          Estimator parameters.\n",
      " |      \n",
      " |      Returns\n",
      " |      -------\n",
      " |      self : estimator instance\n",
      " |          Estimator instance.\n",
      "\n"
     ]
    }
   ],
   "source": [
    "help (svm.SVC)    # SVC: Support Vector Classification"
   ]
  },
  {
   "cell_type": "markdown",
   "metadata": {},
   "source": [
    "\n",
    "# Class SVC in module sklearn.svm.classes:\n",
    "\n",
    " class SVC(sklearn.svm.base.BaseSVC). C-Support Vector Classification.\n",
    "> The implementation is based on libsvm. The fit time complexity is more than quadratic with the number of samples which makes it hard to scale to dataset with more than a couple of 10000 samples.\n",
    "  \n",
    "> The multiclass support is handled according to a one-vs-one scheme.\n",
    " \n",
    "> **Parameters**\n",
    ">> C : float, optional (default=1.0).\n",
    "Penalty parameter C of the error term. The strength of the regularization is inversely proportional to C\n",
    "\n",
    ">> **kernel : string, optional (default='rbf')\n",
    " Specifies the kernel type to be used in the algorithm. It must be one of 'linear', 'poly', 'rbf', 'sigmoid', 'precomputed'. If none is given, 'rbf' will be used.** \n",
    "  \n",
    ">> degree : int, optional (default=3)\n",
    "Degree of the polynomial kernel function ('poly').\n",
    "Ignored by all other kernels.\n",
    "  \n",
    ">> gamma : float, optional (default='auto')\n",
    "Kernel coefficient for 'rbf', 'poly' and 'sigmoid'.\n",
    "If gamma is 'auto' then 1/n_features will be used instead.\n",
    "  \n",
    ">> coef0 : float, optional (default=0.0)\n",
    "Independent term in kernel function.\n",
    "It is only significant in 'poly' and 'sigmoid'.\n",
    "\n",
    ">> shrinking : bool, default=True\n",
    "Whether to use the shrinking heuristic.\n",
    "\n",
    ">> cache_size : float, optional\n",
    " Specify the size of the kernel cache (in MB).\n",
    "\n",
    ">> probability : boolean, optional (default=False)\n",
    " Whether to enable probability estimates. This must be enabled prior\n",
    " to calling `fit`, and will slow down that method.\n",
    "  \n",
    " \n",
    ">> tol : float, optional (default=1e-3)\n",
    "Tolerance for stopping criterion.\n",
    " \n",
    " \n",
    " \n",
    "\n",
    " \n",
    ">> class_weight : {dict, 'balanced'}, optional\n",
    "Set the parameter C of class i to class_weight[i]\\*C for\n",
    "SVC. If not given, all classes are supposed to have\n",
    "weight one.\n",
    "\n",
    "  \n",
    ">> verbose : bool, default: False\n",
    "Enable verbose output. Note that this setting takes advantage of a\n",
    "per-process runtime setting in libsvm that, if enabled, may not work\n",
    "properly in a multithreaded context.\n",
    "\n",
    ">> max_iter : int, optional (default=-1)\n",
    "Hard limit on iterations within solver, or -1 for no limit.\n",
    "\n",
    ">> **decision_function_shape : 'ovo', 'ovr' or None, default=None\n",
    " Whether to return a one-vs-rest ('ovr') decision function of shape\n",
    "(n_samples, n_classes) as all other classifiers, or the original\n",
    "one-vs-one ('ovo') decision function of libsvm which has shape\n",
    "(n_samples, n_classes * (n_classes - 1) / 2).\n",
    "The default of None will currently behave as 'ovo' for backward\n",
    "compatibility and raise a deprecation warning, but will change 'ovr'\n",
    "in 0.18.**\n",
    " \n",
    ">> random_state : int seed, RandomState instance, or None (default)\n",
    "The seed of the pseudo random number generator to use when\n",
    "shuffling the data for probability estimation.\n",
    " \n",
    "> **Attributes**\n",
    "\n",
    ">> **support_ : array-like, shape = [n_SV]\n",
    "Indices of support vectors.**\n",
    "  \n",
    ">> **support_vectors_ : array-like, shape = [n_SV, n_features]\n",
    "Support vectors.**\n",
    " \n",
    ">> **n_support_ : array-like, dtype=int32, shape = [n_class]\n",
    "Number of support vectors for each class.**\n",
    "  \n",
    ">> dual_coef_ : array, shape = [n_class-1, n_SV]\n",
    "   Coefficients of the support vector in the decision function.\n",
    " For multiclass, coefficient for all 1-vs-1 classifiers.\n",
    "The layout of the coefficients in the multiclass case is somewhat\n",
    "non-trivial. See the section about multi-class classification in the\n",
    "SVM section of the User Guide for details.\n",
    "  \n",
    ">> coef_ : array, shape = [n_class-1, n_features]\n",
    "Weights assigned to the features (coefficients in the primal\n",
    " problem). This is only available in the case of a linear kernel.\n",
    "\n",
    ">> `coef_` is a read-only property derived from `dual_coef_` and\n",
    " `support_vectors_`.\n",
    "\n",
    "\n",
    ">  **SVR\n",
    " Support Vector Machine for Regression implemented using libsvm.**\n",
    " \n",
    ">> **LinearSVC\n",
    "Scalable Linear Support Vector Machine for classification\n",
    " implemented using liblinear. Check the See also section of\n",
    "LinearSVC for more comparison element.**\n",
    "\n",
    ">> ...............\n"
   ]
  },
  {
   "cell_type": "markdown",
   "metadata": {},
   "source": [
    "## 1.1 A Simple Example for Binary Classification: Using default Kernel"
   ]
  },
  {
   "cell_type": "code",
   "execution_count": 68,
   "metadata": {},
   "outputs": [],
   "source": [
    "# Prepare a simple training data\n",
    "X = [[0, 0], [1, 1]]  # 2 2-D vector\n",
    "y = [0, 1]            # 2 correspondng labels\n",
    "# example [0, 0] with label 0, while example [1, 1]] with label 1"
   ]
  },
  {
   "cell_type": "code",
   "execution_count": 69,
   "metadata": {},
   "outputs": [
    {
     "data": {
      "text/plain": [
       "SVC()"
      ]
     },
     "execution_count": 69,
     "metadata": {},
     "output_type": "execute_result"
    }
   ],
   "source": [
    "clf = svm.SVC()       # Build a SVM classier  \n",
    "clf.fit(X, y)         # Fit the training data X and corresponding labels y"
   ]
  },
  {
   "cell_type": "code",
   "execution_count": 70,
   "metadata": {},
   "outputs": [
    {
     "data": {
      "text/plain": [
       "array([1])"
      ]
     },
     "execution_count": 70,
     "metadata": {},
     "output_type": "execute_result"
    }
   ],
   "source": [
    "# After being fitted to training data, the model can then be used to predict labeles for \n",
    "# newly given test/unlabelled examples\n",
    "clf.predict([[2, 2]])\n",
    "# Can you guess what the label should be the given example [2, 2]?"
   ]
  },
  {
   "cell_type": "code",
   "execution_count": 71,
   "metadata": {},
   "outputs": [
    {
     "data": {
      "text/plain": [
       "array([0])"
      ]
     },
     "execution_count": 71,
     "metadata": {},
     "output_type": "execute_result"
    }
   ],
   "source": [
    "# How about [0.2, 0.2]\n",
    "clf.predict([[0.3, 0.3]])"
   ]
  },
  {
   "cell_type": "markdown",
   "metadata": {},
   "source": [
    "### SVMs decision function depends on a subset of the training data, \n",
    "### called the support vectors.\n",
    "### Some properties of these support vectors can be found in attributes \n",
    "### support_vectors_, support_ and n_support:"
   ]
  },
  {
   "cell_type": "markdown",
   "metadata": {},
   "source": [
    "### Attributes "
   ]
  },
  {
   "cell_type": "code",
   "execution_count": 72,
   "metadata": {},
   "outputs": [
    {
     "data": {
      "text/plain": [
       "array([[0., 0.],\n",
       "       [1., 1.]])"
      ]
     },
     "execution_count": 72,
     "metadata": {},
     "output_type": "execute_result"
    }
   ],
   "source": [
    "# get support vectors\n",
    "clf.support_vectors_\n",
    "\n",
    "# we only have two training examples, and one for each class\n",
    "# Thus, they are all support vectors, and we have two support vectors, i.e. "
   ]
  },
  {
   "cell_type": "code",
   "execution_count": 73,
   "metadata": {},
   "outputs": [
    {
     "data": {
      "text/plain": [
       "array([0, 1])"
      ]
     },
     "execution_count": 73,
     "metadata": {},
     "output_type": "execute_result"
    }
   ],
   "source": [
    "# get indices of support vectors\n",
    "clf.support_ \n",
    "# The indices are 0 and 1 respectively"
   ]
  },
  {
   "cell_type": "code",
   "execution_count": 74,
   "metadata": {},
   "outputs": [
    {
     "data": {
      "text/plain": [
       "array([1, 1])"
      ]
     },
     "execution_count": 74,
     "metadata": {},
     "output_type": "execute_result"
    }
   ],
   "source": [
    "# get number of support vectors for each class\n",
    "clf.n_support_ \n",
    "# Each class get 1 support vector"
   ]
  },
  {
   "cell_type": "markdown",
   "metadata": {},
   "source": [
    "## 1.2 Second Example for Binary Classification: Using the Linear Kernel"
   ]
  },
  {
   "cell_type": "code",
   "execution_count": 75,
   "metadata": {},
   "outputs": [],
   "source": [
    "import numpy as np\n",
    "\n",
    "# Prepare a training data set with 11 examples, each represented as a 3-D vector\n",
    "X = np.array([[-1, -1, -1], [-3, -3, -3], [-99, -100, -101], [-999, -1000, -1001],\n",
    "              [-9999, -10000, -10001],[-99999, -10000, -10001],[-999999, -100000, -100001],\n",
    "              [2, 1, 3], [1, 1, 2], [99, 100, 101], [999, 1000, 1001]]) #11 3-D training examples\n",
    "y = np.array([1, 1, 1, 1, 1, 1, 1, 2, 2, 2, 2])  # 11 labels, belonging to two classes, 1 and 2; \n",
    "# First 7 examples with class 1, while the remaining 4 examples with class 2"
   ]
  },
  {
   "cell_type": "code",
   "execution_count": 76,
   "metadata": {},
   "outputs": [
    {
     "data": {
      "text/plain": [
       "SVC(kernel='linear')"
      ]
     },
     "execution_count": 76,
     "metadata": {},
     "output_type": "execute_result"
    }
   ],
   "source": [
    "# I would like to choose linear kernel (default rbf model)\n",
    "# from sklearn import svm\n",
    "clf = svm.SVC(kernel='linear')   # Build SVM classifier with linear kernel\n",
    "clf.fit(X, y)                    # fit the training data X and labels y"
   ]
  },
  {
   "cell_type": "code",
   "execution_count": 77,
   "metadata": {},
   "outputs": [
    {
     "name": "stdout",
     "output_type": "stream",
     "text": [
      "[2]\n"
     ]
    }
   ],
   "source": [
    "print(clf.predict([[3, 1, 2]]))"
   ]
  },
  {
   "cell_type": "code",
   "execution_count": 78,
   "metadata": {},
   "outputs": [
    {
     "name": "stdout",
     "output_type": "stream",
     "text": [
      "[1]\n"
     ]
    }
   ],
   "source": [
    "print(clf.predict([[-100, -20, -75]]))"
   ]
  },
  {
   "cell_type": "code",
   "execution_count": 79,
   "metadata": {},
   "outputs": [
    {
     "data": {
      "text/plain": [
       "array([[-1., -1., -1.],\n",
       "       [ 1.,  1.,  2.]])"
      ]
     },
     "execution_count": 79,
     "metadata": {},
     "output_type": "execute_result"
    }
   ],
   "source": [
    "# get support vectors\n",
    "clf.support_vectors_\n",
    "# The below two support vectors (each row is a support vector) near the class boundary"
   ]
  },
  {
   "cell_type": "code",
   "execution_count": 80,
   "metadata": {},
   "outputs": [
    {
     "data": {
      "text/plain": [
       "array([0, 8])"
      ]
     },
     "execution_count": 80,
     "metadata": {},
     "output_type": "execute_result"
    }
   ],
   "source": [
    "# get indices of support vectors\n",
    "clf.support_\n",
    "# The indices are 0 and 8 respectively; index starting with 0 ([-1., -1., -1.])\n",
    "# and [1, 1, 2]'s index is 8"
   ]
  },
  {
   "cell_type": "code",
   "execution_count": 81,
   "metadata": {},
   "outputs": [
    {
     "data": {
      "text/plain": [
       "array([1, 1])"
      ]
     },
     "execution_count": 81,
     "metadata": {},
     "output_type": "execute_result"
    }
   ],
   "source": [
    "clf.n_support_ \n",
    "#Each class get 1 support vector. While we have 11 examples, we only have 2 support vectors \n",
    "#that near class boundary"
   ]
  },
  {
   "cell_type": "markdown",
   "metadata": {},
   "source": [
    "## 1.3 A Simple Example for Multi-class classification"
   ]
  },
  {
   "cell_type": "markdown",
   "metadata": {
    "collapsed": true
   },
   "source": [
    "### SVC and NuSVC implement the “one-against-one” approach (Knerr et al., 1990) \n",
    "###  for multi-class classification.\n",
    "### If _n_ is the number of classes, then _n_ * (_n_ - 1) / 2 classifiers are constructed and each one trains data from two classes. \n",
    "### To provide a consistent interface with other classifiers, \n",
    "### the decision_function_shape option allows to aggregate the results of \n",
    "### the “one-against-one” classifiers to a decision function of shape (n_samples, n_classes):"
   ]
  },
  {
   "cell_type": "code",
   "execution_count": 82,
   "metadata": {},
   "outputs": [],
   "source": [
    "X = [[0, 0], [0, 1], [1, 1], [1, 2], [2, 2],[2, 3], [3, 3], [3, 4]]\n",
    "y = [0, 0, 1, 1, 2, 2, 3, 3]\n",
    "# 8 training examples with 4 UNIQUE labels (0, 1, 2, 3), i.e. 4 class/category classification problem"
   ]
  },
  {
   "cell_type": "markdown",
   "metadata": {},
   "source": [
    "### 1.3.1 ovo: one-vs-one"
   ]
  },
  {
   "cell_type": "code",
   "execution_count": 83,
   "metadata": {},
   "outputs": [
    {
     "data": {
      "text/plain": [
       "SVC(decision_function_shape='ovo')"
      ]
     },
     "execution_count": 83,
     "metadata": {},
     "output_type": "execute_result"
    }
   ],
   "source": [
    "# decision_function_shape='ovo' indicates that we build one-against-one classifiers\n",
    "clf = svm.SVC(decision_function_shape='ovo')  \n",
    "clf.fit(X, y)"
   ]
  },
  {
   "cell_type": "code",
   "execution_count": 84,
   "metadata": {},
   "outputs": [
    {
     "name": "stdout",
     "output_type": "stream",
     "text": [
      "[1]\n"
     ]
    }
   ],
   "source": [
    "# Classification/Prediction\n",
    "print(clf.predict([[1.5, 1.5]]))"
   ]
  },
  {
   "cell_type": "code",
   "execution_count": 85,
   "metadata": {},
   "outputs": [
    {
     "name": "stdout",
     "output_type": "stream",
     "text": [
      "[3]\n"
     ]
    }
   ],
   "source": [
    "# Classification/Prediction\n",
    "print(clf.predict([[3.5, 3.5]]))"
   ]
  },
  {
   "cell_type": "code",
   "execution_count": 86,
   "metadata": {},
   "outputs": [],
   "source": [
    "dec = clf.decision_function([[1.5, 1.5]])"
   ]
  },
  {
   "cell_type": "code",
   "execution_count": 87,
   "metadata": {},
   "outputs": [
    {
     "data": {
      "text/plain": [
       "6"
      ]
     },
     "execution_count": 87,
     "metadata": {},
     "output_type": "execute_result"
    }
   ],
   "source": [
    "dec.shape[1]    # 4 classes: 4*(4-1)/2 = 6, i.e. 6 decision functions, according to 1 vs 1 fashion"
   ]
  },
  {
   "cell_type": "markdown",
   "metadata": {},
   "source": [
    "### 1.3.2 ovr: one-vs-rest"
   ]
  },
  {
   "cell_type": "code",
   "execution_count": 88,
   "metadata": {},
   "outputs": [
    {
     "data": {
      "text/plain": [
       "SVC()"
      ]
     },
     "execution_count": 88,
     "metadata": {},
     "output_type": "execute_result"
    }
   ],
   "source": [
    "# decision_function_shape='ovr' indicates that we build one-against-rest classifiers\n",
    "clf.decision_function_shape = \"ovr\"\n",
    "clf.fit(X, y) "
   ]
  },
  {
   "cell_type": "code",
   "execution_count": 89,
   "metadata": {},
   "outputs": [
    {
     "name": "stdout",
     "output_type": "stream",
     "text": [
      "[[0, 0], [0, 1], [1, 1], [1, 2], [2, 2], [2, 3], [3, 3], [3, 4]]\n",
      "[0, 0, 1, 1, 2, 2, 3, 3]\n"
     ]
    }
   ],
   "source": [
    "print (X)\n",
    "print (y)"
   ]
  },
  {
   "cell_type": "code",
   "execution_count": 90,
   "metadata": {},
   "outputs": [
    {
     "name": "stdout",
     "output_type": "stream",
     "text": [
      "[1]\n"
     ]
    }
   ],
   "source": [
    "# Classification/Prediction\n",
    "print(clf.predict([[1.5, 1.5]]))"
   ]
  },
  {
   "cell_type": "code",
   "execution_count": 91,
   "metadata": {},
   "outputs": [
    {
     "name": "stdout",
     "output_type": "stream",
     "text": [
      "[3]\n"
     ]
    }
   ],
   "source": [
    "# Classification/Prediction\n",
    "print(clf.predict([[3.5, 3.5]]))"
   ]
  },
  {
   "cell_type": "code",
   "execution_count": 92,
   "metadata": {},
   "outputs": [
    {
     "data": {
      "text/plain": [
       "4"
      ]
     },
     "execution_count": 92,
     "metadata": {},
     "output_type": "execute_result"
    }
   ],
   "source": [
    "dec = clf.decision_function([[1.5, 1.5]])\n",
    "dec.shape[1] # 4 classes and 4 classifiers,  according to 1 vs rest fashion"
   ]
  },
  {
   "cell_type": "markdown",
   "metadata": {},
   "source": [
    "### 1.3.3 LinearSVC implements “one-vs-the-rest” multi-class strategy, training n models. Clearly, it uses linear model (as its name shows)"
   ]
  },
  {
   "cell_type": "code",
   "execution_count": 93,
   "metadata": {},
   "outputs": [
    {
     "data": {
      "text/plain": [
       "LinearSVC()"
      ]
     },
     "execution_count": 93,
     "metadata": {},
     "output_type": "execute_result"
    }
   ],
   "source": [
    "lin_clf = svm.LinearSVC()  #Note the difference with svm.SVC whether you can choose from different kernels\n",
    "lin_clf.fit(X, y) "
   ]
  },
  {
   "cell_type": "code",
   "execution_count": 94,
   "metadata": {},
   "outputs": [
    {
     "name": "stdout",
     "output_type": "stream",
     "text": [
      "[1]\n"
     ]
    }
   ],
   "source": [
    "# Classification/Prediction\n",
    "print(clf.predict([[1.5, 1.5]]))"
   ]
  },
  {
   "cell_type": "code",
   "execution_count": 95,
   "metadata": {},
   "outputs": [
    {
     "name": "stdout",
     "output_type": "stream",
     "text": [
      "[3]\n"
     ]
    }
   ],
   "source": [
    "# Classification/Prediction\n",
    "print(clf.predict([[3.5, 3.5]]))"
   ]
  },
  {
   "cell_type": "code",
   "execution_count": 96,
   "metadata": {},
   "outputs": [
    {
     "data": {
      "text/plain": [
       "4"
      ]
     },
     "execution_count": 96,
     "metadata": {},
     "output_type": "execute_result"
    }
   ],
   "source": [
    "dec = lin_clf.decision_function([[1.5, 1.5]])\n",
    "dec.shape[1]  # 4 classes and 4 classifiers,  according to 1 vs rest fashion using linear kernel"
   ]
  },
  {
   "cell_type": "markdown",
   "metadata": {
    "collapsed": true
   },
   "source": [
    "# 2.   SVM for Regression (SVR) "
   ]
  },
  {
   "cell_type": "code",
   "execution_count": 97,
   "metadata": {},
   "outputs": [],
   "source": [
    "from sklearn import svm\n",
    "\n",
    "# Prepare training data- note label y consists of real-values, so we are doing regression\n",
    "X = [[0, 0], [0.2, 0.3], [0.5, 0.7], [1.0, 1.2], [1.2, 1.4], [1.4, 1.6],\n",
    "     [1.6, 1.8], [1.8, 2]]\n",
    "y = [0.1, 0.25, 0.6, 1.1, 1.3, 1.45, 1.7, 1.9]"
   ]
  },
  {
   "cell_type": "markdown",
   "metadata": {},
   "source": [
    "## Note our target variable y's values - NOT Discrete CLASS LABEL; \n",
    "## Instead, they are continous/numeric/real values"
   ]
  },
  {
   "cell_type": "code",
   "execution_count": 98,
   "metadata": {},
   "outputs": [
    {
     "data": {
      "text/plain": [
       "SVR()"
      ]
     },
     "execution_count": 98,
     "metadata": {},
     "output_type": "execute_result"
    }
   ],
   "source": [
    "clf = svm.SVR()  # We want to build SVR model\n",
    "clf.fit(X, y)    # by default, we also use rbf kernel"
   ]
  },
  {
   "cell_type": "code",
   "execution_count": 99,
   "metadata": {},
   "outputs": [
    {
     "data": {
      "text/plain": [
       "array([0.73803486])"
      ]
     },
     "execution_count": 99,
     "metadata": {},
     "output_type": "execute_result"
    }
   ],
   "source": [
    "# Regression/Prediction\n",
    "clf.predict([[0.5, 0.8]])"
   ]
  },
  {
   "cell_type": "code",
   "execution_count": 100,
   "metadata": {},
   "outputs": [
    {
     "data": {
      "text/plain": [
       "array([1.0403844])"
      ]
     },
     "execution_count": 100,
     "metadata": {},
     "output_type": "execute_result"
    }
   ],
   "source": [
    "# Regression/Prediction\n",
    "clf.predict([[1, 1]])"
   ]
  },
  {
   "cell_type": "code",
   "execution_count": 101,
   "metadata": {},
   "outputs": [
    {
     "data": {
      "text/plain": [
       "array([1.56944981])"
      ]
     },
     "execution_count": 101,
     "metadata": {},
     "output_type": "execute_result"
    }
   ],
   "source": [
    "# Regression/Prediction\n",
    "clf.predict([[2, 1.5]])"
   ]
  },
  {
   "cell_type": "code",
   "execution_count": 102,
   "metadata": {},
   "outputs": [
    {
     "data": {
      "text/plain": [
       "SVR(kernel='linear')"
      ]
     },
     "execution_count": 102,
     "metadata": {},
     "output_type": "execute_result"
    }
   ],
   "source": [
    "# Let us change to linear kernel\n",
    "clf = svm.SVR(kernel='linear')\n",
    "clf.fit(X, y)"
   ]
  },
  {
   "cell_type": "code",
   "execution_count": 103,
   "metadata": {},
   "outputs": [
    {
     "data": {
      "text/plain": [
       "array([0.70385324])"
      ]
     },
     "execution_count": 103,
     "metadata": {},
     "output_type": "execute_result"
    }
   ],
   "source": [
    "clf.predict([[0.5, 0.8]])"
   ]
  },
  {
   "cell_type": "code",
   "execution_count": 104,
   "metadata": {},
   "outputs": [
    {
     "data": {
      "text/plain": [
       "array([1.00715599])"
      ]
     },
     "execution_count": 104,
     "metadata": {},
     "output_type": "execute_result"
    }
   ],
   "source": [
    "clf.predict([[1, 1]])"
   ]
  },
  {
   "cell_type": "code",
   "execution_count": 105,
   "metadata": {},
   "outputs": [
    {
     "data": {
      "text/plain": [
       "array([1.65899085])"
      ]
     },
     "execution_count": 105,
     "metadata": {},
     "output_type": "execute_result"
    }
   ],
   "source": [
    "clf.predict([[2, 1.5]])"
   ]
  },
  {
   "cell_type": "markdown",
   "metadata": {},
   "source": [
    "### You may note the process is same with classification. The only differences are \n",
    "* 1. We use SVR \n",
    "* 2. Labels are real values (training data looks different)"
   ]
  },
  {
   "cell_type": "markdown",
   "metadata": {
    "collapsed": true
   },
   "source": [
    "# 3. One Class SVM          "
   ]
  },
  {
   "cell_type": "code",
   "execution_count": 106,
   "metadata": {},
   "outputs": [],
   "source": [
    "import numpy as np  # We will generate some numbers\n",
    "from sklearn import svm\n",
    "import matplotlib.pyplot as plt   # We will visulize the results. \n",
    "import matplotlib.font_manager"
   ]
  },
  {
   "cell_type": "markdown",
   "metadata": {},
   "source": [
    "## 3.1 Prepare/generate data: understand linspace function\n",
    "### linspace(start, stop, num=50, endpoint=True, retstep=False, dtype=None)\n",
    "### Returns `num` evenly spaced samples, calculated over the interval [`start`, `stop`]."
   ]
  },
  {
   "cell_type": "code",
   "execution_count": 107,
   "metadata": {},
   "outputs": [
    {
     "name": "stdout",
     "output_type": "stream",
     "text": [
      "Help on function linspace in module numpy:\n",
      "\n",
      "linspace(start, stop, num=50, endpoint=True, retstep=False, dtype=None, axis=0)\n",
      "    Return evenly spaced numbers over a specified interval.\n",
      "    \n",
      "    Returns `num` evenly spaced samples, calculated over the\n",
      "    interval [`start`, `stop`].\n",
      "    \n",
      "    The endpoint of the interval can optionally be excluded.\n",
      "    \n",
      "    .. versionchanged:: 1.16.0\n",
      "        Non-scalar `start` and `stop` are now supported.\n",
      "    \n",
      "    Parameters\n",
      "    ----------\n",
      "    start : array_like\n",
      "        The starting value of the sequence.\n",
      "    stop : array_like\n",
      "        The end value of the sequence, unless `endpoint` is set to False.\n",
      "        In that case, the sequence consists of all but the last of ``num + 1``\n",
      "        evenly spaced samples, so that `stop` is excluded.  Note that the step\n",
      "        size changes when `endpoint` is False.\n",
      "    num : int, optional\n",
      "        Number of samples to generate. Default is 50. Must be non-negative.\n",
      "    endpoint : bool, optional\n",
      "        If True, `stop` is the last sample. Otherwise, it is not included.\n",
      "        Default is True.\n",
      "    retstep : bool, optional\n",
      "        If True, return (`samples`, `step`), where `step` is the spacing\n",
      "        between samples.\n",
      "    dtype : dtype, optional\n",
      "        The type of the output array.  If `dtype` is not given, infer the data\n",
      "        type from the other input arguments.\n",
      "    \n",
      "        .. versionadded:: 1.9.0\n",
      "    \n",
      "    axis : int, optional\n",
      "        The axis in the result to store the samples.  Relevant only if start\n",
      "        or stop are array-like.  By default (0), the samples will be along a\n",
      "        new axis inserted at the beginning. Use -1 to get an axis at the end.\n",
      "    \n",
      "        .. versionadded:: 1.16.0\n",
      "    \n",
      "    Returns\n",
      "    -------\n",
      "    samples : ndarray\n",
      "        There are `num` equally spaced samples in the closed interval\n",
      "        ``[start, stop]`` or the half-open interval ``[start, stop)``\n",
      "        (depending on whether `endpoint` is True or False).\n",
      "    step : float, optional\n",
      "        Only returned if `retstep` is True\n",
      "    \n",
      "        Size of spacing between samples.\n",
      "    \n",
      "    \n",
      "    See Also\n",
      "    --------\n",
      "    arange : Similar to `linspace`, but uses a step size (instead of the\n",
      "             number of samples).\n",
      "    geomspace : Similar to `linspace`, but with numbers spaced evenly on a log\n",
      "                scale (a geometric progression).\n",
      "    logspace : Similar to `geomspace`, but with the end points specified as\n",
      "               logarithms.\n",
      "    \n",
      "    Examples\n",
      "    --------\n",
      "    >>> np.linspace(2.0, 3.0, num=5)\n",
      "    array([2.  , 2.25, 2.5 , 2.75, 3.  ])\n",
      "    >>> np.linspace(2.0, 3.0, num=5, endpoint=False)\n",
      "    array([2. ,  2.2,  2.4,  2.6,  2.8])\n",
      "    >>> np.linspace(2.0, 3.0, num=5, retstep=True)\n",
      "    (array([2.  ,  2.25,  2.5 ,  2.75,  3.  ]), 0.25)\n",
      "    \n",
      "    Graphical illustration:\n",
      "    \n",
      "    >>> import matplotlib.pyplot as plt\n",
      "    >>> N = 8\n",
      "    >>> y = np.zeros(N)\n",
      "    >>> x1 = np.linspace(0, 10, N, endpoint=True)\n",
      "    >>> x2 = np.linspace(0, 10, N, endpoint=False)\n",
      "    >>> plt.plot(x1, y, 'o')\n",
      "    [<matplotlib.lines.Line2D object at 0x...>]\n",
      "    >>> plt.plot(x2, y + 0.5, 'o')\n",
      "    [<matplotlib.lines.Line2D object at 0x...>]\n",
      "    >>> plt.ylim([-0.5, 1])\n",
      "    (-0.5, 1)\n",
      "    >>> plt.show()\n",
      "\n"
     ]
    }
   ],
   "source": [
    "help (np.linspace)"
   ]
  },
  {
   "cell_type": "code",
   "execution_count": 108,
   "metadata": {},
   "outputs": [
    {
     "data": {
      "text/plain": [
       "array([2.  , 2.25, 2.5 , 2.75, 3.  ])"
      ]
     },
     "execution_count": 108,
     "metadata": {},
     "output_type": "execute_result"
    }
   ],
   "source": [
    "np.linspace(2.0, 3.0, num=5)\n",
    "# Generate 5 numbers from 2 to 3 (inclusive)"
   ]
  },
  {
   "cell_type": "code",
   "execution_count": 109,
   "metadata": {},
   "outputs": [
    {
     "data": {
      "text/plain": [
       "array([2. , 2.2, 2.4, 2.6, 2.8])"
      ]
     },
     "execution_count": 109,
     "metadata": {},
     "output_type": "execute_result"
    }
   ],
   "source": [
    "#endpoint=False\n",
    "np.linspace(2.0, 3.0, num=5, endpoint=False)\n",
    "# We want 5 numbers, but we do not want to include endpoint 3 "
   ]
  },
  {
   "cell_type": "code",
   "execution_count": 110,
   "metadata": {},
   "outputs": [
    {
     "data": {
      "text/plain": [
       "(array([2.  , 2.25, 2.5 , 2.75, 3.  ]), 0.25)"
      ]
     },
     "execution_count": 110,
     "metadata": {},
     "output_type": "execute_result"
    }
   ],
   "source": [
    "#What if I want to know the step?\n",
    "np.linspace(2.0, 3.0, num=5, retstep=True)\n",
    "#retstep : bool, optional\n",
    "# If True, return both (`samples`, `step`), where `step` is the spacing between samples."
   ]
  },
  {
   "cell_type": "code",
   "execution_count": 111,
   "metadata": {},
   "outputs": [],
   "source": [
    "## Graphical illustration"
   ]
  },
  {
   "cell_type": "code",
   "execution_count": 112,
   "metadata": {},
   "outputs": [
    {
     "data": {
      "text/plain": [
       "array([0., 0., 0., 0., 0., 0., 0., 0.])"
      ]
     },
     "execution_count": 112,
     "metadata": {},
     "output_type": "execute_result"
    }
   ],
   "source": [
    "import matplotlib.pyplot as plt\n",
    "N = 8\n",
    "y = np.zeros(N)   # Generate zeros (N)\n",
    "y"
   ]
  },
  {
   "cell_type": "code",
   "execution_count": 113,
   "metadata": {},
   "outputs": [
    {
     "data": {
      "text/plain": [
       "array([ 0.        ,  1.42857143,  2.85714286,  4.28571429,  5.71428571,\n",
       "        7.14285714,  8.57142857, 10.        ])"
      ]
     },
     "execution_count": 113,
     "metadata": {},
     "output_type": "execute_result"
    }
   ],
   "source": [
    "# Generate 8 numbers, starting with 0, ending with 10, inclusive endpoint\n",
    "x1 = np.linspace(0, 10, N, endpoint=True)\n",
    "x1"
   ]
  },
  {
   "cell_type": "code",
   "execution_count": 114,
   "metadata": {},
   "outputs": [
    {
     "data": {
      "text/plain": [
       "array([0.  , 1.25, 2.5 , 3.75, 5.  , 6.25, 7.5 , 8.75])"
      ]
     },
     "execution_count": 114,
     "metadata": {},
     "output_type": "execute_result"
    }
   ],
   "source": [
    "# Generate 8 numbers, starting with 0, ending with 10, exclusive endpoint\n",
    "x2 = np.linspace(0, 10, N, endpoint=False)\n",
    "x2"
   ]
  },
  {
   "cell_type": "code",
   "execution_count": 115,
   "metadata": {},
   "outputs": [
    {
     "data": {
      "image/png": "[encoded data removed]",
      "text/plain": [
       "<Figure size 432x288 with 1 Axes>"
      ]
     },
     "metadata": {
      "needs_background": "light"
     },
     "output_type": "display_data"
    }
   ],
   "source": [
    "plt.plot(x1, y, 'o')\n",
    "plt.plot(x2, y + 0.5, 'o')   # y+0.5 and we use x2\n",
    "plt.ylim([-0.5, 1]) # Y-axis limits\n",
    "plt.show()"
   ]
  },
  {
   "cell_type": "markdown",
   "metadata": {},
   "source": [
    "## 3.2 Prepare data: understand meshgrid function\n",
    "### meshgrid: Return coordinate matrices from coordinate vectors"
   ]
  },
  {
   "cell_type": "code",
   "execution_count": 116,
   "metadata": {
    "scrolled": true
   },
   "outputs": [],
   "source": [
    "# help (np.meshgrid)"
   ]
  },
  {
   "cell_type": "code",
   "execution_count": 117,
   "metadata": {},
   "outputs": [],
   "source": [
    "#nx, ny = (3, 2)\n",
    "#print (nx)\n",
    "#print (ny)\n",
    "#generate 3 numbers from [0, 1]\n",
    "#x = np.linspace(0, 1, nx)\n",
    "#x\n",
    "#generate 2 numbers from [0, 1]\n",
    "#y = np.linspace(0, 1, ny)\n",
    "#y\n",
    "# x=[0, 0.5, 1]\n",
    "# y=[0, 1]\n",
    "#xv, yv = np.meshgrid(x, y)\n",
    "#xv\n",
    "#yv\n",
    "#xv, yv = np.meshgrid(x, y, sparse=True)  # make sparse output arrays\n",
    "#xv\n",
    "#yv"
   ]
  },
  {
   "cell_type": "code",
   "execution_count": 118,
   "metadata": {},
   "outputs": [],
   "source": [
    "x = np.arange(-5, 5, 0.1)  # from -5 to 5 (exclusive) with step 0.1\n",
    "y = np.arange(-5, 5, 0.1) # from -5 to 5 (exclusive) with step 0.1\n",
    "xx, yy = np.meshgrid(x, y, sparse=True)"
   ]
  },
  {
   "cell_type": "code",
   "execution_count": 119,
   "metadata": {},
   "outputs": [
    {
     "data": {
      "text/plain": [
       "array([[-5.00000000e+00],\n",
       "       [-4.90000000e+00],\n",
       "       [-4.80000000e+00],\n",
       "       [-4.70000000e+00],\n",
       "       [-4.60000000e+00],\n",
       "       [-4.50000000e+00],\n",
       "       [-4.40000000e+00],\n",
       "       [-4.30000000e+00],\n",
       "       [-4.20000000e+00],\n",
       "       [-4.10000000e+00],\n",
       "       [-4.00000000e+00],\n",
       "       [-3.90000000e+00],\n",
       "       [-3.80000000e+00],\n",
       "       [-3.70000000e+00],\n",
       "       [-3.60000000e+00],\n",
       "       [-3.50000000e+00],\n",
       "       [-3.40000000e+00],\n",
       "       [-3.30000000e+00],\n",
       "       [-3.20000000e+00],\n",
       "       [-3.10000000e+00],\n",
       "       [-3.00000000e+00],\n",
       "       [-2.90000000e+00],\n",
       "       [-2.80000000e+00],\n",
       "       [-2.70000000e+00],\n",
       "       [-2.60000000e+00],\n",
       "       [-2.50000000e+00],\n",
       "       [-2.40000000e+00],\n",
       "       [-2.30000000e+00],\n",
       "       [-2.20000000e+00],\n",
       "       [-2.10000000e+00],\n",
       "       [-2.00000000e+00],\n",
       "       [-1.90000000e+00],\n",
       "       [-1.80000000e+00],\n",
       "       [-1.70000000e+00],\n",
       "       [-1.60000000e+00],\n",
       "       [-1.50000000e+00],\n",
       "       [-1.40000000e+00],\n",
       "       [-1.30000000e+00],\n",
       "       [-1.20000000e+00],\n",
       "       [-1.10000000e+00],\n",
       "       [-1.00000000e+00],\n",
       "       [-9.00000000e-01],\n",
       "       [-8.00000000e-01],\n",
       "       [-7.00000000e-01],\n",
       "       [-6.00000000e-01],\n",
       "       [-5.00000000e-01],\n",
       "       [-4.00000000e-01],\n",
       "       [-3.00000000e-01],\n",
       "       [-2.00000000e-01],\n",
       "       [-1.00000000e-01],\n",
       "       [-1.77635684e-14],\n",
       "       [ 1.00000000e-01],\n",
       "       [ 2.00000000e-01],\n",
       "       [ 3.00000000e-01],\n",
       "       [ 4.00000000e-01],\n",
       "       [ 5.00000000e-01],\n",
       "       [ 6.00000000e-01],\n",
       "       [ 7.00000000e-01],\n",
       "       [ 8.00000000e-01],\n",
       "       [ 9.00000000e-01],\n",
       "       [ 1.00000000e+00],\n",
       "       [ 1.10000000e+00],\n",
       "       [ 1.20000000e+00],\n",
       "       [ 1.30000000e+00],\n",
       "       [ 1.40000000e+00],\n",
       "       [ 1.50000000e+00],\n",
       "       [ 1.60000000e+00],\n",
       "       [ 1.70000000e+00],\n",
       "       [ 1.80000000e+00],\n",
       "       [ 1.90000000e+00],\n",
       "       [ 2.00000000e+00],\n",
       "       [ 2.10000000e+00],\n",
       "       [ 2.20000000e+00],\n",
       "       [ 2.30000000e+00],\n",
       "       [ 2.40000000e+00],\n",
       "       [ 2.50000000e+00],\n",
       "       [ 2.60000000e+00],\n",
       "       [ 2.70000000e+00],\n",
       "       [ 2.80000000e+00],\n",
       "       [ 2.90000000e+00],\n",
       "       [ 3.00000000e+00],\n",
       "       [ 3.10000000e+00],\n",
       "       [ 3.20000000e+00],\n",
       "       [ 3.30000000e+00],\n",
       "       [ 3.40000000e+00],\n",
       "       [ 3.50000000e+00],\n",
       "       [ 3.60000000e+00],\n",
       "       [ 3.70000000e+00],\n",
       "       [ 3.80000000e+00],\n",
       "       [ 3.90000000e+00],\n",
       "       [ 4.00000000e+00],\n",
       "       [ 4.10000000e+00],\n",
       "       [ 4.20000000e+00],\n",
       "       [ 4.30000000e+00],\n",
       "       [ 4.40000000e+00],\n",
       "       [ 4.50000000e+00],\n",
       "       [ 4.60000000e+00],\n",
       "       [ 4.70000000e+00],\n",
       "       [ 4.80000000e+00],\n",
       "       [ 4.90000000e+00]])"
      ]
     },
     "execution_count": 119,
     "metadata": {},
     "output_type": "execute_result"
    }
   ],
   "source": [
    "yy"
   ]
  },
  {
   "cell_type": "code",
   "execution_count": 120,
   "metadata": {},
   "outputs": [
    {
     "data": {
      "image/png": "[encoded data removed]",
      "text/plain": [
       "<Figure size 432x288 with 1 Axes>"
      ]
     },
     "metadata": {
      "needs_background": "light"
     },
     "output_type": "display_data"
    }
   ],
   "source": [
    "z = np.sin(xx**2 + yy**2) / (xx**2 + yy**2)\n",
    "h = plt.contourf(x,y,z)  # draw contour lines and filled contours\n",
    "plt.show()"
   ]
  },
  {
   "cell_type": "code",
   "execution_count": 121,
   "metadata": {},
   "outputs": [
    {
     "data": {
      "image/png": "[encoded data removed]",
      "text/plain": [
       "<Figure size 432x288 with 1 Axes>"
      ]
     },
     "metadata": {
      "needs_background": "light"
     },
     "output_type": "display_data"
    }
   ],
   "source": [
    "z = np.sin(xx**2 + yy**2) \n",
    "h = plt.contourf(x,y,z)  # draw contour lines and filled contours\n",
    "plt.show()"
   ]
  },
  {
   "cell_type": "markdown",
   "metadata": {},
   "source": [
    "## 3.3. Prepare data: understand normal distribution by using random.randn function\n",
    "### np.random.randn\n",
    "\n",
    "> Return a sample (or samples) from the standard **normal distribution.**\n",
    "\n",
    "> If positive, int_like or int-convertible arguments are provided, `randn` generates an array of shape ``(d0, d1, ..., dn)``, filled\n",
    "with random floats sampled from a univariate \"normal\" (Gaussian)\n",
    "distribution of mean 0 and variance 1\n",
    "\n",
    "> For random samples from : math:`N(\\mu, \\sigma^2)`, use:\n",
    "``sigma * np.random.randn(...) + mu``"
   ]
  },
  {
   "cell_type": "code",
   "execution_count": 122,
   "metadata": {},
   "outputs": [
    {
     "data": {
      "text/plain": [
       "0.08440947516426607"
      ]
     },
     "execution_count": 122,
     "metadata": {},
     "output_type": "execute_result"
    }
   ],
   "source": [
    "# Run this multiple times, each has different random value\n",
    "np.random.randn()"
   ]
  },
  {
   "cell_type": "code",
   "execution_count": 123,
   "metadata": {},
   "outputs": [
    {
     "data": {
      "text/plain": [
       "array([[ 1.11934829, -0.3281259 ,  0.75681285,  0.39759326],\n",
       "       [ 0.37573439, -2.35814895, -0.89753672,  0.69759572]])"
      ]
     },
     "execution_count": 123,
     "metadata": {},
     "output_type": "execute_result"
    }
   ],
   "source": [
    "# Generate 2-by-4 array of samples\n",
    "np.random.randn (2, 4)"
   ]
  },
  {
   "cell_type": "code",
   "execution_count": 124,
   "metadata": {},
   "outputs": [
    {
     "data": {
      "text/plain": [
       "array([[5.8270524 , 4.67477208, 7.72323628, 5.77629286],\n",
       "       [5.26529674, 0.19580688, 0.91853154, 0.99405353]])"
      ]
     },
     "execution_count": 124,
     "metadata": {},
     "output_type": "execute_result"
    }
   ],
   "source": [
    "# For random samples from :math:N(\\mu, \\sigma^2), \n",
    "# 2-by-4 array of samples from N(3, 6.25), i.e. wih mu=3, sigma=2.5 (6.25=2.5^2)  \n",
    "# The standard deviation is the square root of the variance, 6.25 is variance, \n",
    "# 2.5 is standard deviation sigma\n",
    "# sigma * np.random.randn (...)   + mu\n",
    "2.5     * np.random.randn (2, 4)  + 3\n",
    "# mu=3, while sigma=2.5, variance =6.25"
   ]
  },
  {
   "cell_type": "code",
   "execution_count": 125,
   "metadata": {
    "scrolled": false
   },
   "outputs": [],
   "source": [
    "# help (np.random.randn)"
   ]
  },
  {
   "cell_type": "markdown",
   "metadata": {},
   "source": [
    "## 3.4 Prepare data: understand uniform distribution function by uniform function\n",
    "\n",
    "> uniform(...) method of mtrand.RandomState instance\n",
    ">> uniform(low=0.0, high=1.0, size=None)\n",
    "    \n",
    "> Draw samples from a uniform distribution.\n",
    "    \n",
    ">>Samples are uniformly distributed over the half-open interval ``[low, high)`` (includes low, but excludes high).  In other words,\n",
    "any value within the given interval is equally likely to be drawn\n",
    "by `uniform`.\n"
   ]
  },
  {
   "cell_type": "code",
   "execution_count": 126,
   "metadata": {},
   "outputs": [],
   "source": [
    "# help (np.random.uniform)"
   ]
  },
  {
   "cell_type": "code",
   "execution_count": 127,
   "metadata": {},
   "outputs": [
    {
     "data": {
      "text/plain": [
       "array([-0.39612813, -0.80482552, -0.58379391, -0.28386058, -0.2505864 ,\n",
       "       -0.75063167, -0.14991522, -0.04521714, -0.59139782, -0.2438592 ,\n",
       "       -0.49028142, -0.213812  , -0.95217484, -0.83707918, -0.06822208,\n",
       "       -0.3760021 , -0.27606087, -0.9013931 , -0.30167384, -0.22193831,\n",
       "       -0.52587542, -0.96532335, -0.1067764 , -0.77666775, -0.33050942,\n",
       "       -0.79476378, -0.68488803, -0.38333321, -0.47908863, -0.30303244,\n",
       "       -0.66389765, -0.3574414 , -0.85227543, -0.07389812, -0.36127949,\n",
       "       -0.7243089 , -0.45812703, -0.72144953, -0.00609541, -0.04248753,\n",
       "       -0.66239486, -0.87864046, -0.2888026 , -0.25064897, -0.17858573,\n",
       "       -0.22423267, -0.79070486, -0.81507449, -0.39578747, -0.57216605,\n",
       "       -0.54986395, -0.82679609, -0.3195789 , -0.167899  , -0.2755895 ,\n",
       "       -0.90884169, -0.2008891 , -0.97661546, -0.70193808, -0.91651427,\n",
       "       -0.95968107, -0.98567129, -0.30407952, -0.1972837 , -0.85341632,\n",
       "       -0.62368533, -0.76761993, -0.87874126, -0.07167954, -0.62665928,\n",
       "       -0.08908486, -0.28177848, -0.30211597, -0.21197722, -0.96079609,\n",
       "       -0.22100648, -0.4913464 , -0.52265671, -0.20340053, -0.83341698,\n",
       "       -0.69475392, -0.27678367, -0.40904935, -0.02467592, -0.5844678 ,\n",
       "       -0.24506718, -0.24469729, -0.69417866, -0.86229393, -0.36899998,\n",
       "       -0.06907843, -0.89924674, -0.54082096, -0.29160135, -0.53035004,\n",
       "       -0.12470003, -0.01970515, -0.27343058, -0.10253551, -0.81176735])"
      ]
     },
     "execution_count": 127,
     "metadata": {},
     "output_type": "execute_result"
    }
   ],
   "source": [
    "#Draw samples from the distribution:\n",
    "# -1:  Lower boundary; 0:  upper boundary , 100 numbers\n",
    "s = np.random.uniform(-1, 0, 100)\n",
    "s"
   ]
  },
  {
   "cell_type": "code",
   "execution_count": 128,
   "metadata": {},
   "outputs": [
    {
     "data": {
      "text/plain": [
       "True"
      ]
     },
     "execution_count": 128,
     "metadata": {},
     "output_type": "execute_result"
    }
   ],
   "source": [
    "#All values are within the given interval:\n",
    "np.all(s >= -1)"
   ]
  },
  {
   "cell_type": "code",
   "execution_count": 129,
   "metadata": {},
   "outputs": [
    {
     "data": {
      "text/plain": [
       "True"
      ]
     },
     "execution_count": 129,
     "metadata": {},
     "output_type": "execute_result"
    }
   ],
   "source": [
    "np.all(s < 0)"
   ]
  },
  {
   "cell_type": "code",
   "execution_count": 130,
   "metadata": {},
   "outputs": [
    {
     "data": {
      "text/plain": [
       "False"
      ]
     },
     "execution_count": 130,
     "metadata": {},
     "output_type": "execute_result"
    }
   ],
   "source": [
    "np.all(s > -0.5)"
   ]
  },
  {
   "cell_type": "code",
   "execution_count": 131,
   "metadata": {},
   "outputs": [
    {
     "data": {
      "image/png": "[encoded data removed]",
      "text/plain": [
       "<Figure size 432x288 with 1 Axes>"
      ]
     },
     "metadata": {
      "needs_background": "light"
     },
     "output_type": "display_data"
    }
   ],
   "source": [
    "# Display the histogram of the samples, along with the probability density function:\n",
    "import matplotlib.pyplot as plt\n",
    "count, bins, ignored = plt.hist(s, 20)  # 20 bins\n",
    "plt.plot(bins, np.ones_like(bins), linewidth=5, color='r')\n",
    "plt.show()"
   ]
  },
  {
   "cell_type": "markdown",
   "metadata": {},
   "source": [
    "# 3.5 Start to prepare data: for one Class SVM"
   ]
  },
  {
   "cell_type": "code",
   "execution_count": 132,
   "metadata": {},
   "outputs": [],
   "source": [
    "xx, yy = np.meshgrid(np.linspace(-5, 5, 500), np.linspace(-5, 5, 500))"
   ]
  },
  {
   "cell_type": "code",
   "execution_count": 133,
   "metadata": {},
   "outputs": [
    {
     "data": {
      "text/plain": [
       "array([[-5.        , -4.97995992, -4.95991984, ...,  4.95991984,\n",
       "         4.97995992,  5.        ],\n",
       "       [-5.        , -4.97995992, -4.95991984, ...,  4.95991984,\n",
       "         4.97995992,  5.        ],\n",
       "       [-5.        , -4.97995992, -4.95991984, ...,  4.95991984,\n",
       "         4.97995992,  5.        ],\n",
       "       ...,\n",
       "       [-5.        , -4.97995992, -4.95991984, ...,  4.95991984,\n",
       "         4.97995992,  5.        ],\n",
       "       [-5.        , -4.97995992, -4.95991984, ...,  4.95991984,\n",
       "         4.97995992,  5.        ],\n",
       "       [-5.        , -4.97995992, -4.95991984, ...,  4.95991984,\n",
       "         4.97995992,  5.        ]])"
      ]
     },
     "execution_count": 133,
     "metadata": {},
     "output_type": "execute_result"
    }
   ],
   "source": [
    "xx"
   ]
  },
  {
   "cell_type": "markdown",
   "metadata": {},
   "source": [
    "## 1. Construct training data (normal distribution, with $\\mu$=0, $\\sigma$ =0.3)"
   ]
  },
  {
   "cell_type": "code",
   "execution_count": 134,
   "metadata": {},
   "outputs": [],
   "source": [
    "# 100-by-2 array of samples from N(0, 0.09):  #(\\mu=0, \\sigma^2 =0.3^2), \n",
    "X = 0.3 * np.random.randn(100, 2) + 0"
   ]
  },
  {
   "cell_type": "code",
   "execution_count": 135,
   "metadata": {},
   "outputs": [
    {
     "data": {
      "text/plain": [
       "array([-0.24974901,  0.15015433])"
      ]
     },
     "execution_count": 135,
     "metadata": {},
     "output_type": "execute_result"
    }
   ],
   "source": [
    "X[0]"
   ]
  },
  {
   "cell_type": "code",
   "execution_count": 136,
   "metadata": {},
   "outputs": [
    {
     "data": {
      "text/plain": [
       "array([[ 1.75025099,  2.15015433],\n",
       "       [ 1.59402202,  1.55164941],\n",
       "       [ 1.66044812,  2.60144334],\n",
       "       [ 2.11659581,  1.56845089],\n",
       "       [ 1.89462444,  1.96278927],\n",
       "       [ 2.37530522,  1.46126947],\n",
       "       [ 2.45759275,  2.02234749],\n",
       "       [ 2.38002626,  2.11304224],\n",
       "       [ 1.78284839,  2.38484556],\n",
       "       [ 1.52339616,  2.17684664],\n",
       "       [ 1.75665682,  2.14591032],\n",
       "       [ 2.06429034,  1.62678354],\n",
       "       [ 2.14260868,  2.51530123],\n",
       "       [ 1.90237469,  1.71854762],\n",
       "       [ 2.25434582,  2.24866301],\n",
       "       [ 2.18294284,  2.28278935],\n",
       "       [ 2.00061651,  2.14158899],\n",
       "       [ 2.22169978,  1.96581933],\n",
       "       [ 2.28104298,  2.28825244],\n",
       "       [ 2.11802504,  2.34130696],\n",
       "       [ 2.07255339,  2.0388074 ],\n",
       "       [ 2.20481813,  2.12617873],\n",
       "       [ 2.27945999,  1.75514986],\n",
       "       [ 2.24078404,  2.23807834],\n",
       "       [ 1.74714007,  1.63539343],\n",
       "       [ 2.07709309,  2.14434009],\n",
       "       [ 2.42891362,  1.8765459 ],\n",
       "       [ 1.78209103,  1.66345345],\n",
       "       [ 1.88401233,  2.14479968],\n",
       "       [ 1.78269201,  1.55075756],\n",
       "       [ 1.98537028,  2.41540014],\n",
       "       [ 2.32865366,  1.93650095],\n",
       "       [ 2.54276606,  2.03080069],\n",
       "       [ 2.15438431,  1.7786351 ],\n",
       "       [ 2.26515616,  1.77759743],\n",
       "       [ 2.07357616,  1.99319934],\n",
       "       [ 2.29172816,  1.42627142],\n",
       "       [ 2.00957815,  1.98404738],\n",
       "       [ 1.64242455,  1.83191987],\n",
       "       [ 1.72202191,  2.03234091],\n",
       "       [ 1.76550629,  2.00764526],\n",
       "       [ 1.9738792 ,  1.67878277],\n",
       "       [ 1.72777752,  1.61638661],\n",
       "       [ 1.84260205,  2.04479017],\n",
       "       [ 1.97385741,  2.50635711],\n",
       "       [ 1.52181767,  2.50066734],\n",
       "       [ 1.70046119,  2.07402792],\n",
       "       [ 2.4477414 ,  2.41423809],\n",
       "       [ 1.87666901,  1.69712048],\n",
       "       [ 1.37724743,  1.87554271],\n",
       "       [ 1.86165163,  1.83866206],\n",
       "       [ 2.27859184,  1.66639442],\n",
       "       [ 2.23953703,  2.19374866],\n",
       "       [ 1.85466232,  2.28925937],\n",
       "       [ 1.98516822,  1.93761378],\n",
       "       [ 2.01441381,  1.67246675],\n",
       "       [ 2.271224  ,  2.12712561],\n",
       "       [ 1.60026114,  1.69712181],\n",
       "       [ 2.13019948,  1.79808028],\n",
       "       [ 2.44269268,  1.87154992],\n",
       "       [ 1.47154665,  2.18856366],\n",
       "       [ 2.2892714 ,  1.77883326],\n",
       "       [ 2.52942364,  2.09851249],\n",
       "       [ 2.16187538,  2.15948514],\n",
       "       [ 1.97161979,  1.9609225 ],\n",
       "       [ 1.93805773,  1.66732557],\n",
       "       [ 2.01836848,  1.2477351 ],\n",
       "       [ 2.4301964 ,  2.0686071 ],\n",
       "       [ 2.3126124 ,  1.68767205],\n",
       "       [ 1.80965626,  2.35369832],\n",
       "       [ 2.3248284 ,  2.17219968],\n",
       "       [ 1.75727003,  1.82653577],\n",
       "       [ 2.47305279,  1.51993554],\n",
       "       [ 1.47208806,  1.7886967 ],\n",
       "       [ 1.92008868,  1.72953933],\n",
       "       [ 2.18055928,  1.95983483],\n",
       "       [ 2.12430683,  2.32201609],\n",
       "       [ 2.25655407,  1.62466249],\n",
       "       [ 2.0387275 ,  1.97345913],\n",
       "       [ 2.52455877,  2.28219268],\n",
       "       [ 2.04784377,  1.44283436],\n",
       "       [ 1.83640022,  1.60360279],\n",
       "       [ 1.84378824,  2.32569511],\n",
       "       [ 2.199483  ,  2.07088323],\n",
       "       [ 2.25200199,  2.39933615],\n",
       "       [ 2.32034705,  1.99674767],\n",
       "       [ 1.65030833,  2.25207158],\n",
       "       [ 2.6403639 ,  1.97925271],\n",
       "       [ 1.55174732,  2.10873367],\n",
       "       [ 1.92133604,  2.08547642],\n",
       "       [ 1.97706614,  1.80102606],\n",
       "       [ 2.07488501,  1.70609582],\n",
       "       [ 2.40001351,  2.05827179],\n",
       "       [ 1.89677365,  1.56280724],\n",
       "       [ 1.89498267,  1.80633742],\n",
       "       [ 1.66228917,  2.21035167],\n",
       "       [ 1.35553789,  1.72916468],\n",
       "       [ 1.73444638,  1.98377012],\n",
       "       [ 2.11941484,  2.01341931],\n",
       "       [ 1.53672897,  2.1309799 ],\n",
       "       [-2.24974901, -1.84984567],\n",
       "       [-2.40597798, -2.44835059],\n",
       "       [-2.33955188, -1.39855666],\n",
       "       [-1.88340419, -2.43154911],\n",
       "       [-2.10537556, -2.03721073],\n",
       "       [-1.62469478, -2.53873053],\n",
       "       [-1.54240725, -1.97765251],\n",
       "       [-1.61997374, -1.88695776],\n",
       "       [-2.21715161, -1.61515444],\n",
       "       [-2.47660384, -1.82315336],\n",
       "       [-2.24334318, -1.85408968],\n",
       "       [-1.93570966, -2.37321646],\n",
       "       [-1.85739132, -1.48469877],\n",
       "       [-2.09762531, -2.28145238],\n",
       "       [-1.74565418, -1.75133699],\n",
       "       [-1.81705716, -1.71721065],\n",
       "       [-1.99938349, -1.85841101],\n",
       "       [-1.77830022, -2.03418067],\n",
       "       [-1.71895702, -1.71174756],\n",
       "       [-1.88197496, -1.65869304],\n",
       "       [-1.92744661, -1.9611926 ],\n",
       "       [-1.79518187, -1.87382127],\n",
       "       [-1.72054001, -2.24485014],\n",
       "       [-1.75921596, -1.76192166],\n",
       "       [-2.25285993, -2.36460657],\n",
       "       [-1.92290691, -1.85565991],\n",
       "       [-1.57108638, -2.1234541 ],\n",
       "       [-2.21790897, -2.33654655],\n",
       "       [-2.11598767, -1.85520032],\n",
       "       [-2.21730799, -2.44924244],\n",
       "       [-2.01462972, -1.58459986],\n",
       "       [-1.67134634, -2.06349905],\n",
       "       [-1.45723394, -1.96919931],\n",
       "       [-1.84561569, -2.2213649 ],\n",
       "       [-1.73484384, -2.22240257],\n",
       "       [-1.92642384, -2.00680066],\n",
       "       [-1.70827184, -2.57372858],\n",
       "       [-1.99042185, -2.01595262],\n",
       "       [-2.35757545, -2.16808013],\n",
       "       [-2.27797809, -1.96765909],\n",
       "       [-2.23449371, -1.99235474],\n",
       "       [-2.0261208 , -2.32121723],\n",
       "       [-2.27222248, -2.38361339],\n",
       "       [-2.15739795, -1.95520983],\n",
       "       [-2.02614259, -1.49364289],\n",
       "       [-2.47818233, -1.49933266],\n",
       "       [-2.29953881, -1.92597208],\n",
       "       [-1.5522586 , -1.58576191],\n",
       "       [-2.12333099, -2.30287952],\n",
       "       [-2.62275257, -2.12445729],\n",
       "       [-2.13834837, -2.16133794],\n",
       "       [-1.72140816, -2.33360558],\n",
       "       [-1.76046297, -1.80625134],\n",
       "       [-2.14533768, -1.71074063],\n",
       "       [-2.01483178, -2.06238622],\n",
       "       [-1.98558619, -2.32753325],\n",
       "       [-1.728776  , -1.87287439],\n",
       "       [-2.39973886, -2.30287819],\n",
       "       [-1.86980052, -2.20191972],\n",
       "       [-1.55730732, -2.12845008],\n",
       "       [-2.52845335, -1.81143634],\n",
       "       [-1.7107286 , -2.22116674],\n",
       "       [-1.47057636, -1.90148751],\n",
       "       [-1.83812462, -1.84051486],\n",
       "       [-2.02838021, -2.0390775 ],\n",
       "       [-2.06194227, -2.33267443],\n",
       "       [-1.98163152, -2.7522649 ],\n",
       "       [-1.5698036 , -1.9313929 ],\n",
       "       [-1.6873876 , -2.31232795],\n",
       "       [-2.19034374, -1.64630168],\n",
       "       [-1.6751716 , -1.82780032],\n",
       "       [-2.24272997, -2.17346423],\n",
       "       [-1.52694721, -2.48006446],\n",
       "       [-2.52791194, -2.2113033 ],\n",
       "       [-2.07991132, -2.27046067],\n",
       "       [-1.81944072, -2.04016517],\n",
       "       [-1.87569317, -1.67798391],\n",
       "       [-1.74344593, -2.37533751],\n",
       "       [-1.9612725 , -2.02654087],\n",
       "       [-1.47544123, -1.71780732],\n",
       "       [-1.95215623, -2.55716564],\n",
       "       [-2.16359978, -2.39639721],\n",
       "       [-2.15621176, -1.67430489],\n",
       "       [-1.800517  , -1.92911677],\n",
       "       [-1.74799801, -1.60066385],\n",
       "       [-1.67965295, -2.00325233],\n",
       "       [-2.34969167, -1.74792842],\n",
       "       [-1.3596361 , -2.02074729],\n",
       "       [-2.44825268, -1.89126633],\n",
       "       [-2.07866396, -1.91452358],\n",
       "       [-2.02293386, -2.19897394],\n",
       "       [-1.92511499, -2.29390418],\n",
       "       [-1.59998649, -1.94172821],\n",
       "       [-2.10322635, -2.43719276],\n",
       "       [-2.10501733, -2.19366258],\n",
       "       [-2.33771083, -1.78964833],\n",
       "       [-2.64446211, -2.27083532],\n",
       "       [-2.26555362, -2.01622988],\n",
       "       [-1.88058516, -1.98658069],\n",
       "       [-2.46327103, -1.8690201 ]])"
      ]
     },
     "execution_count": 136,
     "metadata": {},
     "output_type": "execute_result"
    }
   ],
   "source": [
    "# Generate 200 train data (normal distribution)\n",
    "X_train = np.r_[X + 2, X - 2]     \n",
    "# np.r_: Stack arrays into one\n",
    "# X+2: 100 2D vectors\n",
    "# X-2: 100 2D vectors\n",
    "# X-2 is on the bottom of X+2\n",
    "X_train"
   ]
  },
  {
   "cell_type": "code",
   "execution_count": 137,
   "metadata": {},
   "outputs": [
    {
     "data": {
      "text/plain": [
       "(200, 2)"
      ]
     },
     "execution_count": 137,
     "metadata": {},
     "output_type": "execute_result"
    }
   ],
   "source": [
    "X_train.shape"
   ]
  },
  {
   "cell_type": "markdown",
   "metadata": {},
   "source": [
    "## 2. Construct test data (normal distribution, with $\\mu$=0, $\\sigma$ =0.3)"
   ]
  },
  {
   "cell_type": "code",
   "execution_count": 138,
   "metadata": {},
   "outputs": [
    {
     "data": {
      "text/plain": [
       "array([[ 2.15208377,  1.76945309],\n",
       "       [ 2.44083896,  1.81651033],\n",
       "       [ 2.19950158,  2.66328659],\n",
       "       [ 2.03208656,  2.07934119],\n",
       "       [ 1.86665061,  1.8161121 ],\n",
       "       [ 1.64348767,  2.15762738],\n",
       "       [ 1.78642557,  2.81306348],\n",
       "       [ 1.77343365,  1.92603288],\n",
       "       [ 2.24330103,  2.30744345],\n",
       "       [ 1.99066455,  1.96366899],\n",
       "       [ 1.91785808,  1.84287217],\n",
       "       [ 2.29385833,  1.79452063],\n",
       "       [ 2.31359098,  1.45111144],\n",
       "       [ 1.72069161,  2.08488846],\n",
       "       [ 2.05938239,  2.14745095],\n",
       "       [ 1.52924778,  1.70485626],\n",
       "       [ 1.9113127 ,  1.57035454],\n",
       "       [ 2.61912005,  1.70013386],\n",
       "       [ 1.89765112,  2.46602454],\n",
       "       [ 2.3085223 ,  2.02194479],\n",
       "       [-1.84791623, -2.23054691],\n",
       "       [-1.55916104, -2.18348967],\n",
       "       [-1.80049842, -1.33671341],\n",
       "       [-1.96791344, -1.92065881],\n",
       "       [-2.13334939, -2.1838879 ],\n",
       "       [-2.35651233, -1.84237262],\n",
       "       [-2.21357443, -1.18693652],\n",
       "       [-2.22656635, -2.07396712],\n",
       "       [-1.75669897, -1.69255655],\n",
       "       [-2.00933545, -2.03633101],\n",
       "       [-2.08214192, -2.15712783],\n",
       "       [-1.70614167, -2.20547937],\n",
       "       [-1.68640902, -2.54888856],\n",
       "       [-2.27930839, -1.91511154],\n",
       "       [-1.94061761, -1.85254905],\n",
       "       [-2.47075222, -2.29514374],\n",
       "       [-2.0886873 , -2.42964546],\n",
       "       [-1.38087995, -2.29986614],\n",
       "       [-2.10234888, -1.53397546],\n",
       "       [-1.6914777 , -1.97805521]])"
      ]
     },
     "execution_count": 138,
     "metadata": {},
     "output_type": "execute_result"
    }
   ],
   "source": [
    "# Generate 40 regular novel observations (normal distribution)\n",
    "#20-by-2 array of samples from N(0, 0.09):\n",
    "# Same \\mu and \\sigma\n",
    "X = 0.3 * np.random.randn(20, 2)+0\n",
    "X_test = np.r_[X + 2, X - 2]\n",
    "# X+2: 20 2D vectors\n",
    "# X-2: 20 2D vectors\n",
    "X_test"
   ]
  },
  {
   "cell_type": "code",
   "execution_count": 139,
   "metadata": {},
   "outputs": [
    {
     "data": {
      "text/plain": [
       "(40, 2)"
      ]
     },
     "execution_count": 139,
     "metadata": {},
     "output_type": "execute_result"
    }
   ],
   "source": [
    "X_test.shape"
   ]
  },
  {
   "cell_type": "markdown",
   "metadata": {},
   "source": [
    "## Note both of training and test data have the same normal distribution, with same mean and same standard Deviation/Variance"
   ]
  },
  {
   "cell_type": "markdown",
   "metadata": {},
   "source": [
    "# Below we generate 40 abnormal novel observations (uniform distribution)\n",
    "## Different distribution!!!\n",
    "## Uniform distribution is different from normal distribution, \n",
    "## that is why we they could belong to outliers, although they may not always be"
   ]
  },
  {
   "cell_type": "markdown",
   "metadata": {},
   "source": [
    "## 3. Construct outlier data set (uniform distribution) "
   ]
  },
  {
   "cell_type": "code",
   "execution_count": 140,
   "metadata": {},
   "outputs": [
    {
     "data": {
      "text/plain": [
       "array([[-1.34870055,  3.26621135],\n",
       "       [-2.78586404, -1.06072116],\n",
       "       [-3.52059564,  3.9996378 ],\n",
       "       [ 1.8104036 ,  1.6102797 ],\n",
       "       [ 1.90810744, -2.4576326 ],\n",
       "       [ 3.22054894,  3.54288183],\n",
       "       [ 1.69104598, -1.45123788],\n",
       "       [ 2.59822298,  3.146684  ],\n",
       "       [ 1.45633868,  0.91134776],\n",
       "       [-3.95152492, -3.85162865],\n",
       "       [-3.64272977,  0.19101644],\n",
       "       [-2.85686228,  3.45815195],\n",
       "       [-3.12802723, -2.65278604],\n",
       "       [ 1.56037741, -2.94854102],\n",
       "       [ 0.57390972,  1.34711646],\n",
       "       [ 0.02274132, -3.70210529],\n",
       "       [-2.43700598, -1.05160288],\n",
       "       [-0.06541455,  1.33078799],\n",
       "       [ 1.88225721,  0.59188405],\n",
       "       [-3.439617  , -2.41911451]])"
      ]
     },
     "execution_count": 140,
     "metadata": {},
     "output_type": "execute_result"
    }
   ],
   "source": [
    "# Generate 40 examples, folloing uniform distribution\n",
    "X_outliers = np.random.uniform(low=-4, high=4, size=(20, 2)) # Generate 20 2d data following \n",
    "X_outliers "
   ]
  },
  {
   "cell_type": "code",
   "execution_count": 141,
   "metadata": {},
   "outputs": [
    {
     "data": {
      "text/plain": [
       "(20, 2)"
      ]
     },
     "execution_count": 141,
     "metadata": {},
     "output_type": "execute_result"
    }
   ],
   "source": [
    "X_outliers.shape"
   ]
  },
  {
   "cell_type": "markdown",
   "metadata": {},
   "source": [
    "## 3.6 Build One Class SVM Classifier "
   ]
  },
  {
   "cell_type": "code",
   "execution_count": 142,
   "metadata": {},
   "outputs": [
    {
     "data": {
      "text/plain": [
       "OneClassSVM(gamma=0.1, nu=0.05)"
      ]
     },
     "execution_count": 142,
     "metadata": {},
     "output_type": "execute_result"
    }
   ],
   "source": [
    "clf = svm.OneClassSVM(nu=0.05, kernel=\"rbf\", gamma=0.1)    # Build One Class SVM, with rbf kernel\n",
    "# nu is a important parameter\n",
    "# nu : float, default=0.5\n",
    "# An upper bound on the fraction of training errors and \n",
    "# a lower bound of the fraction of support vectors. Should be in the interval (0, 1]. By default 0.5\n",
    "# If you set it to 0.1, you are guaranteed to find at most 10% of your training examples \n",
    "# being misclassified (you keep 90% of positive data correctly classify) and \n",
    "# at least 10% of your training examples being support vectors (could be classified wrongly). \n",
    "# This parameter is extremely important for the one class or positive class boundary\n",
    "clf.fit(X_train)  # fit the model using training data"
   ]
  },
  {
   "cell_type": "code",
   "execution_count": 143,
   "metadata": {},
   "outputs": [
    {
     "name": "stdout",
     "output_type": "stream",
     "text": [
      "Help on class OneClassSVM in module sklearn.svm._classes:\n",
      "\n",
      "class OneClassSVM(sklearn.base.OutlierMixin, sklearn.svm._base.BaseLibSVM)\n",
      " |  OneClassSVM(*, kernel='rbf', degree=3, gamma='scale', coef0=0.0, tol=0.001, nu=0.5, shrinking=True, cache_size=200, verbose=False, max_iter=-1)\n",
      " |  \n",
      " |  Unsupervised Outlier Detection.\n",
      " |  \n",
      " |  Estimate the support of a high-dimensional distribution.\n",
      " |  \n",
      " |  The implementation is based on libsvm.\n",
      " |  \n",
      " |  Read more in the :ref:`User Guide <outlier_detection>`.\n",
      " |  \n",
      " |  Parameters\n",
      " |  ----------\n",
      " |  kernel : {'linear', 'poly', 'rbf', 'sigmoid', 'precomputed'}, default='rbf'\n",
      " |       Specifies the kernel type to be used in the algorithm.\n",
      " |       It must be one of 'linear', 'poly', 'rbf', 'sigmoid', 'precomputed' or\n",
      " |       a callable.\n",
      " |       If none is given, 'rbf' will be used. If a callable is given it is\n",
      " |       used to precompute the kernel matrix.\n",
      " |  \n",
      " |  degree : int, default=3\n",
      " |      Degree of the polynomial kernel function ('poly').\n",
      " |      Ignored by all other kernels.\n",
      " |  \n",
      " |  gamma : {'scale', 'auto'} or float, default='scale'\n",
      " |      Kernel coefficient for 'rbf', 'poly' and 'sigmoid'.\n",
      " |  \n",
      " |      - if ``gamma='scale'`` (default) is passed then it uses\n",
      " |        1 / (n_features * X.var()) as value of gamma,\n",
      " |      - if 'auto', uses 1 / n_features.\n",
      " |  \n",
      " |      .. versionchanged:: 0.22\n",
      " |         The default value of ``gamma`` changed from 'auto' to 'scale'.\n",
      " |  \n",
      " |  coef0 : float, default=0.0\n",
      " |      Independent term in kernel function.\n",
      " |      It is only significant in 'poly' and 'sigmoid'.\n",
      " |  \n",
      " |  tol : float, default=1e-3\n",
      " |      Tolerance for stopping criterion.\n",
      " |  \n",
      " |  nu : float, default=0.5\n",
      " |      An upper bound on the fraction of training\n",
      " |      errors and a lower bound of the fraction of support\n",
      " |      vectors. Should be in the interval (0, 1]. By default 0.5\n",
      " |      will be taken.\n",
      " |  \n",
      " |  shrinking : bool, default=True\n",
      " |      Whether to use the shrinking heuristic.\n",
      " |      See the :ref:`User Guide <shrinking_svm>`.\n",
      " |  \n",
      " |  cache_size : float, default=200\n",
      " |      Specify the size of the kernel cache (in MB).\n",
      " |  \n",
      " |  verbose : bool, default=False\n",
      " |      Enable verbose output. Note that this setting takes advantage of a\n",
      " |      per-process runtime setting in libsvm that, if enabled, may not work\n",
      " |      properly in a multithreaded context.\n",
      " |  \n",
      " |  max_iter : int, default=-1\n",
      " |      Hard limit on iterations within solver, or -1 for no limit.\n",
      " |  \n",
      " |  Attributes\n",
      " |  ----------\n",
      " |  class_weight_ : ndarray of shape (n_classes,)\n",
      " |      Multipliers of parameter C for each class.\n",
      " |      Computed based on the ``class_weight`` parameter.\n",
      " |  \n",
      " |  coef_ : ndarray of shape (1, n_features)\n",
      " |      Weights assigned to the features (coefficients in the primal\n",
      " |      problem). This is only available in the case of a linear kernel.\n",
      " |  \n",
      " |      `coef_` is readonly property derived from `dual_coef_` and\n",
      " |      `support_vectors_`.\n",
      " |  \n",
      " |  dual_coef_ : ndarray of shape (1, n_SV)\n",
      " |      Coefficients of the support vectors in the decision function.\n",
      " |  \n",
      " |  fit_status_ : int\n",
      " |      0 if correctly fitted, 1 otherwise (will raise warning)\n",
      " |  \n",
      " |  intercept_ : ndarray of shape (1,)\n",
      " |      Constant in the decision function.\n",
      " |  \n",
      " |  n_support_ : ndarray of shape (n_classes,), dtype=int32\n",
      " |      Number of support vectors for each class.\n",
      " |  \n",
      " |  offset_ : float\n",
      " |      Offset used to define the decision function from the raw scores.\n",
      " |      We have the relation: decision_function = score_samples - `offset_`.\n",
      " |      The offset is the opposite of `intercept_` and is provided for\n",
      " |      consistency with other outlier detection algorithms.\n",
      " |  \n",
      " |      .. versionadded:: 0.20\n",
      " |  \n",
      " |  shape_fit_ : tuple of int of shape (n_dimensions_of_X,)\n",
      " |      Array dimensions of training vector ``X``.\n",
      " |  \n",
      " |  support_ : ndarray of shape (n_SV,)\n",
      " |      Indices of support vectors.\n",
      " |  \n",
      " |  support_vectors_ : ndarray of shape (n_SV, n_features)\n",
      " |      Support vectors.\n",
      " |  \n",
      " |  Examples\n",
      " |  --------\n",
      " |  >>> from sklearn.svm import OneClassSVM\n",
      " |  >>> X = [[0], [0.44], [0.45], [0.46], [1]]\n",
      " |  >>> clf = OneClassSVM(gamma='auto').fit(X)\n",
      " |  >>> clf.predict(X)\n",
      " |  array([-1,  1,  1,  1, -1])\n",
      " |  >>> clf.score_samples(X)\n",
      " |  array([1.7798..., 2.0547..., 2.0556..., 2.0561..., 1.7332...])\n",
      " |  \n",
      " |  Method resolution order:\n",
      " |      OneClassSVM\n",
      " |      sklearn.base.OutlierMixin\n",
      " |      sklearn.svm._base.BaseLibSVM\n",
      " |      sklearn.base.BaseEstimator\n",
      " |      builtins.object\n",
      " |  \n",
      " |  Methods defined here:\n",
      " |  \n",
      " |  __init__(self, *, kernel='rbf', degree=3, gamma='scale', coef0=0.0, tol=0.001, nu=0.5, shrinking=True, cache_size=200, verbose=False, max_iter=-1)\n",
      " |      Initialize self.  See help(type(self)) for accurate signature.\n",
      " |  \n",
      " |  decision_function(self, X)\n",
      " |      Signed distance to the separating hyperplane.\n",
      " |      \n",
      " |      Signed distance is positive for an inlier and negative for an outlier.\n",
      " |      \n",
      " |      Parameters\n",
      " |      ----------\n",
      " |      X : array-like of shape (n_samples, n_features)\n",
      " |          The data matrix.\n",
      " |      \n",
      " |      Returns\n",
      " |      -------\n",
      " |      dec : ndarray of shape (n_samples,)\n",
      " |          Returns the decision function of the samples.\n",
      " |  \n",
      " |  fit(self, X, y=None, sample_weight=None, **params)\n",
      " |      Detects the soft boundary of the set of samples X.\n",
      " |      \n",
      " |      Parameters\n",
      " |      ----------\n",
      " |      X : {array-like, sparse matrix} of shape (n_samples, n_features)\n",
      " |          Set of samples, where n_samples is the number of samples and\n",
      " |          n_features is the number of features.\n",
      " |      \n",
      " |      sample_weight : array-like of shape (n_samples,), default=None\n",
      " |          Per-sample weights. Rescale C per sample. Higher weights\n",
      " |          force the classifier to put more emphasis on these points.\n",
      " |      \n",
      " |      y : Ignored\n",
      " |          not used, present for API consistency by convention.\n",
      " |      \n",
      " |      Returns\n",
      " |      -------\n",
      " |      self : object\n",
      " |      \n",
      " |      Notes\n",
      " |      -----\n",
      " |      If X is not a C-ordered contiguous array it is copied.\n",
      " |  \n",
      " |  predict(self, X)\n",
      " |      Perform classification on samples in X.\n",
      " |      \n",
      " |      For a one-class model, +1 or -1 is returned.\n",
      " |      \n",
      " |      Parameters\n",
      " |      ----------\n",
      " |      X : {array-like, sparse matrix} of shape (n_samples, n_features) or                 (n_samples_test, n_samples_train)\n",
      " |          For kernel=\"precomputed\", the expected shape of X is\n",
      " |          (n_samples_test, n_samples_train).\n",
      " |      \n",
      " |      Returns\n",
      " |      -------\n",
      " |      y_pred : ndarray of shape (n_samples,)\n",
      " |          Class labels for samples in X.\n",
      " |  \n",
      " |  score_samples(self, X)\n",
      " |      Raw scoring function of the samples.\n",
      " |      \n",
      " |      Parameters\n",
      " |      ----------\n",
      " |      X : array-like of shape (n_samples, n_features)\n",
      " |          The data matrix.\n",
      " |      \n",
      " |      Returns\n",
      " |      -------\n",
      " |      score_samples : ndarray of shape (n_samples,)\n",
      " |          Returns the (unshifted) scoring function of the samples.\n",
      " |  \n",
      " |  ----------------------------------------------------------------------\n",
      " |  Readonly properties defined here:\n",
      " |  \n",
      " |  probA_\n",
      " |  \n",
      " |  probB_\n",
      " |  \n",
      " |  ----------------------------------------------------------------------\n",
      " |  Data and other attributes defined here:\n",
      " |  \n",
      " |  __abstractmethods__ = frozenset()\n",
      " |  \n",
      " |  ----------------------------------------------------------------------\n",
      " |  Methods inherited from sklearn.base.OutlierMixin:\n",
      " |  \n",
      " |  fit_predict(self, X, y=None)\n",
      " |      Perform fit on X and returns labels for X.\n",
      " |      \n",
      " |      Returns -1 for outliers and 1 for inliers.\n",
      " |      \n",
      " |      Parameters\n",
      " |      ----------\n",
      " |      X : {array-like, sparse matrix, dataframe} of shape             (n_samples, n_features)\n",
      " |      \n",
      " |      y : Ignored\n",
      " |          Not used, present for API consistency by convention.\n",
      " |      \n",
      " |      Returns\n",
      " |      -------\n",
      " |      y : ndarray of shape (n_samples,)\n",
      " |          1 for inliers, -1 for outliers.\n",
      " |  \n",
      " |  ----------------------------------------------------------------------\n",
      " |  Data descriptors inherited from sklearn.base.OutlierMixin:\n",
      " |  \n",
      " |  __dict__\n",
      " |      dictionary for instance variables (if defined)\n",
      " |  \n",
      " |  __weakref__\n",
      " |      list of weak references to the object (if defined)\n",
      " |  \n",
      " |  ----------------------------------------------------------------------\n",
      " |  Readonly properties inherited from sklearn.svm._base.BaseLibSVM:\n",
      " |  \n",
      " |  coef_\n",
      " |  \n",
      " |  n_support_\n",
      " |  \n",
      " |  ----------------------------------------------------------------------\n",
      " |  Methods inherited from sklearn.base.BaseEstimator:\n",
      " |  \n",
      " |  __getstate__(self)\n",
      " |  \n",
      " |  __repr__(self, N_CHAR_MAX=700)\n",
      " |      Return repr(self).\n",
      " |  \n",
      " |  __setstate__(self, state)\n",
      " |  \n",
      " |  get_params(self, deep=True)\n",
      " |      Get parameters for this estimator.\n",
      " |      \n",
      " |      Parameters\n",
      " |      ----------\n",
      " |      deep : bool, default=True\n",
      " |          If True, will return the parameters for this estimator and\n",
      " |          contained subobjects that are estimators.\n",
      " |      \n",
      " |      Returns\n",
      " |      -------\n",
      " |      params : dict\n",
      " |          Parameter names mapped to their values.\n",
      " |  \n",
      " |  set_params(self, **params)\n",
      " |      Set the parameters of this estimator.\n",
      " |      \n",
      " |      The method works on simple estimators as well as on nested objects\n",
      " |      (such as :class:`~sklearn.pipeline.Pipeline`). The latter have\n",
      " |      parameters of the form ``<component>__<parameter>`` so that it's\n",
      " |      possible to update each component of a nested object.\n",
      " |      \n",
      " |      Parameters\n",
      " |      ----------\n",
      " |      **params : dict\n",
      " |          Estimator parameters.\n",
      " |      \n",
      " |      Returns\n",
      " |      -------\n",
      " |      self : estimator instance\n",
      " |          Estimator instance.\n",
      "\n"
     ]
    }
   ],
   "source": [
    "help(svm.OneClassSVM)"
   ]
  },
  {
   "cell_type": "markdown",
   "metadata": {},
   "source": [
    "### Make Prediction on 3 data sets, i.e. training, test and outliers data sets"
   ]
  },
  {
   "cell_type": "markdown",
   "metadata": {},
   "source": [
    "### 1. training (normal)"
   ]
  },
  {
   "cell_type": "code",
   "execution_count": 144,
   "metadata": {},
   "outputs": [
    {
     "data": {
      "text/plain": [
       "array([ 1,  1, -1,  1,  1,  1,  1,  1,  1,  1,  1,  1,  1,  1,  1,  1,  1,\n",
       "        1,  1,  1,  1,  1,  1,  1,  1,  1,  1,  1,  1,  1,  1,  1,  1,  1,\n",
       "        1,  1,  1,  1,  1,  1,  1,  1,  1,  1,  1, -1,  1,  1,  1,  1,  1,\n",
       "        1,  1,  1,  1,  1,  1,  1,  1,  1,  1,  1,  1,  1,  1,  1, -1,  1,\n",
       "        1,  1,  1,  1, -1,  1,  1,  1,  1,  1,  1,  1,  1,  1,  1,  1,  1,\n",
       "        1,  1, -1,  1,  1,  1,  1,  1,  1,  1,  1,  1,  1,  1,  1,  1,  1,\n",
       "        1,  1,  1,  1,  1,  1,  1,  1,  1,  1,  1,  1,  1,  1,  1,  1,  1,\n",
       "        1,  1,  1,  1,  1,  1,  1,  1,  1,  1,  1,  1,  1,  1,  1,  1,  1,\n",
       "        1,  1,  1,  1,  1,  1,  1,  1,  1, -1,  1,  1,  1,  1,  1,  1,  1,\n",
       "        1,  1,  1,  1,  1,  1,  1,  1,  1,  1,  1,  1,  1, -1,  1,  1,  1,\n",
       "        1,  1, -1,  1,  1,  1,  1,  1,  1,  1,  1,  1,  1,  1,  1,  1,  1,\n",
       "        1,  1,  1,  1,  1,  1,  1,  1,  1,  1,  1,  1,  1], dtype=int64)"
      ]
     },
     "execution_count": 144,
     "metadata": {},
     "output_type": "execute_result"
    }
   ],
   "source": [
    "y_pred_train = clf.predict(X_train)   # CLOSE TEST, i.e. predict the training data using the model\n",
    "y_pred_train"
   ]
  },
  {
   "cell_type": "markdown",
   "metadata": {},
   "source": [
    "### Examples are considered as outliers if their predicted labels are -1 \n",
    "### In other words, training model represents normal distribution, so they should be labeled 1"
   ]
  },
  {
   "cell_type": "code",
   "execution_count": 145,
   "metadata": {},
   "outputs": [
    {
     "data": {
      "text/plain": [
       "8"
      ]
     },
     "execution_count": 145,
     "metadata": {},
     "output_type": "execute_result"
    }
   ],
   "source": [
    "# If prediction result is -1, meaning error. \n",
    "# Default label for training a One Class SVM is 1\n",
    "n_error_train = y_pred_train[y_pred_train == -1].size\n",
    "n_error_train"
   ]
  },
  {
   "cell_type": "markdown",
   "metadata": {},
   "source": [
    "### 2. Test (normal)"
   ]
  },
  {
   "cell_type": "code",
   "execution_count": 146,
   "metadata": {},
   "outputs": [
    {
     "data": {
      "text/plain": [
       "array([ 1,  1, -1,  1,  1,  1, -1,  1,  1,  1,  1,  1,  1,  1,  1,  1,  1,\n",
       "       -1,  1,  1,  1,  1,  1,  1,  1,  1, -1,  1,  1,  1,  1,  1,  1,  1,\n",
       "        1,  1,  1, -1,  1,  1], dtype=int64)"
      ]
     },
     "execution_count": 146,
     "metadata": {},
     "output_type": "execute_result"
    }
   ],
   "source": [
    "y_pred_test = clf.predict(X_test)  # Predict the test set (following normal distribution)\n",
    "y_pred_test"
   ]
  },
  {
   "cell_type": "code",
   "execution_count": 147,
   "metadata": {},
   "outputs": [
    {
     "data": {
      "text/plain": [
       "5"
      ]
     },
     "execution_count": 147,
     "metadata": {},
     "output_type": "execute_result"
    }
   ],
   "source": [
    "# If prediction result is -1, meaning error. \n",
    "# Default label for training a One Class SVM is 1\n",
    "n_error_test = y_pred_test[y_pred_test == -1].size\n",
    "n_error_test"
   ]
  },
  {
   "cell_type": "markdown",
   "metadata": {},
   "source": [
    "### 3. outlier (uniform distribution)"
   ]
  },
  {
   "cell_type": "code",
   "execution_count": 148,
   "metadata": {},
   "outputs": [
    {
     "data": {
      "text/plain": [
       "array([-1, -1, -1,  1, -1, -1, -1, -1, -1, -1, -1, -1, -1, -1, -1, -1, -1,\n",
       "       -1, -1, -1], dtype=int64)"
      ]
     },
     "execution_count": 148,
     "metadata": {},
     "output_type": "execute_result"
    }
   ],
   "source": [
    "y_pred_outliers = clf.predict(X_outliers)   \n",
    "# Predict the outlier examples (following uniform distribution)\n",
    "y_pred_outliers"
   ]
  },
  {
   "cell_type": "code",
   "execution_count": 149,
   "metadata": {},
   "outputs": [
    {
     "data": {
      "text/plain": [
       "1"
      ]
     },
     "execution_count": 149,
     "metadata": {},
     "output_type": "execute_result"
    }
   ],
   "source": [
    "# Default label for training a One Class SVM is 1\n",
    "# Note for the outliers (different distributions), \n",
    "# their labels are supposed different from the training, i.e. should be -1\n",
    "# So, if we predict them as class 1, then means error. \n",
    "# If we predict them as class -1, then our predictions are correct\n",
    "n_error_outliers = y_pred_outliers[y_pred_outliers == 1].size\n",
    "n_error_outliers"
   ]
  },
  {
   "cell_type": "markdown",
   "metadata": {},
   "source": [
    "## It means we identify outliers correctly (all outliers)"
   ]
  },
  {
   "cell_type": "code",
   "execution_count": 150,
   "metadata": {},
   "outputs": [
    {
     "data": {
      "image/png": "[encoded data removed]",
      "text/plain": [
       "<Figure size 432x288 with 1 Axes>"
      ]
     },
     "metadata": {
      "needs_background": "light"
     },
     "output_type": "display_data"
    }
   ],
   "source": [
    "# plot the line, the points, and the nearest vectors to the plane\n",
    "Z = clf.decision_function(np.c_[xx.ravel(), yy.ravel()])\n",
    "Z = Z.reshape(xx.shape)\n",
    "\n",
    "plt.title(\"Novelty Detection\")\n",
    "plt.contourf(xx, yy, Z, levels=np.linspace(Z.min(), 0, 7), cmap=plt.cm.Blues_r)\n",
    "a = plt.contour(xx, yy, Z, levels=[0], linewidths=2, colors='red')\n",
    "plt.contourf(xx, yy, Z, levels=[0, Z.max()], colors='orange')\n",
    "\n",
    "b1 = plt.scatter(X_train[:, 0], X_train[:, 1], c='white')\n",
    "b2 = plt.scatter(X_test[:, 0], X_test[:, 1], c='green')\n",
    "c = plt.scatter(X_outliers[:, 0], X_outliers[:, 1], c='red')\n",
    "plt.axis('tight')\n",
    "plt.xlim((-5, 5))\n",
    "plt.ylim((-5, 5))\n",
    "plt.legend([a.collections[0], b1, b2, c],\n",
    "           [\"learned frontier\", \"training observations\",\n",
    "            \"new regular observations\", \"new abnormal observations\"],\n",
    "           loc=\"upper left\",\n",
    "           prop=matplotlib.font_manager.FontProperties(size=11))\n",
    "plt.xlabel(\n",
    "    \"error train: %d/200 ; errors novel regular: %d/40 ; \"\n",
    "    \"errors novel abnormal: %d/40\"\n",
    "    % (n_error_train, n_error_test, n_error_outliers))\n",
    "plt.show()"
   ]
  },
  {
   "cell_type": "markdown",
   "metadata": {},
   "source": [
    "### One classSVM will not try to classify all training examples correctly, although it aims to classify majarity training examples correctly.  "
   ]
  },
  {
   "cell_type": "markdown",
   "metadata": {
    "collapsed": true
   },
   "source": [
    "# One Class SVM Classifier can be used for anormaly detection, although it may not be always accurate"
   ]
  },
  {
   "cell_type": "markdown",
   "metadata": {},
   "source": [
    "# Homework: You can tune different nu value and see how it affects the results"
   ]
  }
 ],
 "metadata": {
  "kernelspec": {
   "display_name": "Python 3 (ipykernel)",
   "language": "python",
   "name": "python3"
  },
  "language_info": {
   "codemirror_mode": {
    "name": "ipython",
    "version": 3
   },
   "file_extension": ".py",
   "mimetype": "text/x-python",
   "name": "python",
   "nbconvert_exporter": "python",
   "pygments_lexer": "ipython3",
   "version": "3.10.6"
  }
 },
 "nbformat": 4,
 "nbformat_minor": 1
}

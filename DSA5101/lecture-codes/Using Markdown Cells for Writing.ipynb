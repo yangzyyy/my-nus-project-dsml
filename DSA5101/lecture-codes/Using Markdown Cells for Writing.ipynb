{
 "cells": [
  {
   "cell_type": "markdown",
   "metadata": {
    "nbpresent": {
     "id": "33d67844-e696-4b98-964c-c1a7877ac113"
    }
   },
   "source": [
    "# Using Markdown Cells for Writing"
   ]
  },
  {
   "cell_type": "markdown",
   "metadata": {
    "nbpresent": {
     "id": "c8ebc9d9-83b3-4b92-b5fd-7f2cbcd67043"
    }
   },
   "source": [
    "# Every cell in this demostration has used the Markdown cell type, instead of code type.\n",
    "\n",
    "# We will demo its 10 capabilities\n"
   ]
  },
  {
   "cell_type": "markdown",
   "metadata": {
    "nbpresent": {
     "id": "c9a6d4c9-2eee-46f0-90b0-fbb7fc681d64"
    }
   },
   "source": [
    "# 1. Header 1"
   ]
  },
  {
   "cell_type": "markdown",
   "metadata": {
    "nbpresent": {
     "id": "26191ac8-4a0a-42df-bc09-cf17fa6e9982"
    }
   },
   "source": [
    "## Header 2"
   ]
  },
  {
   "cell_type": "markdown",
   "metadata": {
    "nbpresent": {
     "id": "37f8db3a-6ffc-4fcc-8d4e-d940b9060a67"
    }
   },
   "source": [
    "### Header 3"
   ]
  },
  {
   "cell_type": "markdown",
   "metadata": {
    "nbpresent": {
     "id": "405a0e75-118d-46f1-801f-fb22a23c27d9"
    }
   },
   "source": [
    "#### Header 4"
   ]
  },
  {
   "cell_type": "markdown",
   "metadata": {
    "nbpresent": {
     "id": "93a6ad39-2d9b-46de-ad5d-c780279ed54f"
    }
   },
   "source": [
    "# 2. Block Elements"
   ]
  },
  {
   "cell_type": "markdown",
   "metadata": {
    "nbpresent": {
     "id": "368b83c3-4d94-4210-b535-fd7a0e1fcd68"
    }
   },
   "source": [
    ">blah blah block quote blah blah block quote blah blah block quote blah blah block quote blah blah block quote blah blah block quote blah blah block quote blah blah block quote "
   ]
  },
  {
   "cell_type": "markdown",
   "metadata": {
    "nbpresent": {
     "id": "9c14067f-1979-46e9-a371-fff7a17feeb1"
    }
   },
   "source": [
    ">blah blah block quote blah blah block quote blah blah block  \n",
    "block quote blah blah block block quote blah blah block  \n",
    ">>quote blah blah block quote blah blah  \n",
    "block block quote blah blah block   \n",
    ">>>quote blah blah block quote blah blah block quote blah blah block quote"
   ]
  },
  {
   "cell_type": "markdown",
   "metadata": {
    "nbpresent": {
     "id": "4efecbb1-3126-46e9-a1b6-f1b7031b8429"
    }
   },
   "source": [
    "# 3. Lists"
   ]
  },
  {
   "cell_type": "markdown",
   "metadata": {
    "nbpresent": {
     "id": "722b24b3-8119-49e2-beb0-9be01dae50b6"
    }
   },
   "source": [
    "#### Groceries:\n",
    "\n",
    "0. Fruit:\n",
    "    6. Pears\n",
    "    0. Peaches\n",
    "    3. Plums\n",
    "    4. Apples \n",
    "        2. Granny Smith \n",
    "        7. Gala\n",
    "    * Oranges\n",
    "    - Berries \n",
    "        8. Strawberries \n",
    "        + Blueberries\n",
    "        * Raspberries\n",
    "    - Bananas\n",
    "9. Bread:\n",
    "    9. Whole Wheat\n",
    "        0. With oats on crust\n",
    "        0. Without oats on crust\n",
    "    0. Rye \n",
    "    0. White\n",
    "0. Dairy:\n",
    "    0. Milk\n",
    "        0. Whole\n",
    "        0. Skim\n",
    "    0. Cheese\n",
    "        0. Wisconsin Cheddar\n",
    "        0. Pepper Jack\n"
   ]
  },
  {
   "cell_type": "markdown",
   "metadata": {
    "nbpresent": {
     "id": "5ebee126-7a3a-4b27-9e6d-99e3d07ff7f7"
    }
   },
   "source": [
    "# 4. Bulleted Lists"
   ]
  },
  {
   "cell_type": "markdown",
   "metadata": {
    "nbpresent": {
     "id": "cedaf2aa-f28d-42cc-8400-0984af233c49"
    }
   },
   "source": [
    "#### Groceries:\n",
    "\n",
    "* Fruit:\n",
    "    * Pears\n",
    "    0. Peaches\n",
    "    3. Plums\n",
    "    4. Apples \n",
    "        - Granny Smith \n",
    "        7. Gala\n",
    "    * Oranges\n",
    "    - Berries \n",
    "        - Strawberries \n",
    "        + Blueberries\n",
    "        * Raspberries\n",
    "    - Bananas\n",
    "9. Bread:\n",
    "    * Whole Wheat\n",
    "        * With oats on crust\n",
    "        0. Without oats on crust\n",
    "    + Rye \n",
    "    0. White\n",
    "0. Dairy:\n",
    "    * Milk\n",
    "        + Whole\n",
    "        0. Skim\n",
    "    - Cheese\n",
    "        - Wisconsin Cheddar\n",
    "        0. Pepper Jack"
   ]
  },
  {
   "cell_type": "markdown",
   "metadata": {
    "nbpresent": {
     "id": "4b15b7c8-404c-4aca-8b80-ff86b47e72a3"
    }
   },
   "source": [
    "# 5. Hyperlink\n",
    "\n",
    "http://en.wikipedia.org\n",
    "\n",
    "[click this link for Xiaoli's NTU Web page](https://personal.ntu.edu.sg/xlli/)\n"
   ]
  },
  {
   "cell_type": "markdown",
   "metadata": {
    "nbpresent": {
     "id": "111f7642-6867-4194-9df4-fd1d204d20e2"
    }
   },
   "source": [
    "\n",
    "# 6. Tables\n",
    "\n",
    "## In Markdown, you can make a table by using vertical bars and dashes to define the cell and header borders:\n",
    "\n",
    "|Header|Header|Header|Header|\n",
    "|------|------|------|------|\n",
    "|Cell  |Cell  |Cell  | Cell |\n",
    "|Cell  |Cell  |Cell  | Cell |\n",
    "|Cell  |Cell  |Cell  | Cell |\n",
    "|Cell  |Cell  |Cell  | Cell |\n",
    "\n"
   ]
  },
  {
   "cell_type": "markdown",
   "metadata": {
    "nbpresent": {
     "id": "c02deaca-6a26-4cb6-9a83-a9b72f8ef95a"
    }
   },
   "source": [
    "Header|Header|Header|Header\n",
    "-|-|-|-\n",
    "Cell|Cell|Cell|Cell\n",
    "Cell|Cell|Cell|Cell\n",
    "Cell|Cell|Cell|Cell\n",
    "Cell|Cell|Cell|Cell"
   ]
  },
  {
   "cell_type": "markdown",
   "metadata": {
    "nbpresent": {
     "id": "ee3c8e44-1dea-433e-9ee5-54fe52d7f7f9"
    }
   },
   "source": [
    "# 7. Reference Links"
   ]
  },
  {
   "cell_type": "markdown",
   "metadata": {
    "nbpresent": {
     "id": "07358d22-d0a7-439d-9287-bda6dee91f33"
    }
   },
   "source": [
    "This is [a reference] [identification tag for link]\n",
    "[identification tag for link]: http://en.wikipedia.org/wiki/Chile \"Wikipedia Article About Chile\"\n",
    "\n",
    "### Note when mouse hovers over of reference, what will happen"
   ]
  },
  {
   "cell_type": "markdown",
   "metadata": {
    "nbpresent": {
     "id": "4d26ce7e-c59c-49f7-9da0-9fdfdfebccad"
    }
   },
   "source": [
    "# 8. Style and Emphasis"
   ]
  },
  {
   "cell_type": "markdown",
   "metadata": {
    "nbpresent": {
     "id": "68d799eb-538b-4abf-8bb4-fdee9bb857d1"
    }
   },
   "source": [
    "\n",
    "*Italics*\n",
    "\n",
    "\n",
    "_Italics_\n",
    "\n",
    "\n",
    "\n",
    "**Bold**\n",
    "\n",
    "\n",
    "__Bold__\n",
    "\n"
   ]
  },
  {
   "cell_type": "markdown",
   "metadata": {
    "nbpresent": {
     "id": "91815111-aaa2-490a-bd3c-efbafb5cdc06"
    }
   },
   "source": [
    "# 9. Images\n",
    "\n",
    "![][giraffe]\n",
    "\n",
    "[giraffe]:http://upload.wikimedia.org/wikipedia/commons/thumb/b/b7/South_African_Giraffe,_head.jpg/877px-South_African_Giraffe,_head.jpg \"Picture of a Giraffe\""
   ]
  },
  {
   "cell_type": "markdown",
   "metadata": {
    "nbpresent": {
     "id": "cbb1f3d1-c846-4483-94e6-3b0fc9323e7e"
    }
   },
   "source": [
    "# 10. LaTeX Math"
   ]
  },
  {
   "cell_type": "markdown",
   "metadata": {
    "nbpresent": {
     "id": "0c120f51-67de-40ed-8e6a-1a007401bbd6"
    }
   },
   "source": [
    "Jupyter Notebooks' Markdown cells support LateX for formatting mathematical equations. To tell Markdown to interpret your text as LaTex, surround your input with dollar signs like this:\n",
    "\n",
    "\n",
    "$z=\\dfrac{2x}{3y}$\n",
    "\n",
    "\n",
    "\n",
    "z=2x3y  \n",
    "\n",
    "\n",
    "An equation can be very complex:\n",
    "$F(k) = \\int_{-\\infty}^{\\infty} f(x) e^{2\\pi i k} dx$\n",
    "\n",
    "\n",
    "\n",
    "F(k)=∫ ∞ −∞ f(x)e 2πik dx \n",
    "F(k)=∫−∞∞f(x)e2πikdx\n",
    "\n",
    "\n",
    "If you want your LaTex equations to be indented towards the center of the cell, surround your input with two dollar signs on each side like this:\n",
    "\n",
    "\n",
    "\n",
    "$$2x+3y=z$$\n",
    "\n",
    "\n",
    "\n",
    "2x+3y=z "
   ]
  },
  {
   "cell_type": "code",
   "execution_count": null,
   "metadata": {},
   "outputs": [],
   "source": []
  }
 ],
 "metadata": {
  "anaconda-cloud": {},
  "kernelspec": {
   "display_name": "Python 3 (ipykernel)",
   "language": "python",
   "name": "python3"
  },
  "language_info": {
   "codemirror_mode": {
    "name": "ipython",
    "version": 3
   },
   "file_extension": ".py",
   "mimetype": "text/x-python",
   "name": "python",
   "nbconvert_exporter": "python",
   "pygments_lexer": "ipython3",
   "version": "3.10.6"
  }
 },
 "nbformat": 4,
 "nbformat_minor": 1
}

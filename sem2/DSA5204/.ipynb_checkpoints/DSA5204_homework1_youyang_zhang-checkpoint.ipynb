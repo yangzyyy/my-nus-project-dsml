{
 "cells": [
  {
   "cell_type": "markdown",
   "metadata": {
    "id": "Tsz_YDZvcEJo"
   },
   "source": [
    "# Preface\n",
    "\n",
    "Objectives:\n",
    "1. Learn to use the `keras` API\n",
    "2. Explore how performance of fully connected neural networks depend on its hyper-parameters\n",
    "3. Explore the effect of learning rate and batch size on training and testing performance\n",
    "\n",
    "Due: 4 Feb 2023"
   ]
  },
  {
   "cell_type": "code",
   "execution_count": 1,
   "metadata": {
    "executionInfo": {
     "elapsed": 4623,
     "status": "ok",
     "timestamp": 1675509073370,
     "user": {
      "displayName": "Youyang Zhang",
      "userId": "01365052532827648070"
     },
     "user_tz": -480
    },
    "id": "kmhqaZoucEJq"
   },
   "outputs": [],
   "source": [
    "import tensorflow as tf\n",
    "import seaborn as sns\n",
    "import matplotlib.pyplot as plt\n",
    "import pandas as pd\n",
    "sns.set(font_scale=1.5)"
   ]
  },
  {
   "cell_type": "markdown",
   "metadata": {
    "id": "aXoZE1oNcEJr"
   },
   "source": [
    "# The Fashion MNIST Dataset\n",
    "\n",
    "As mentioned in class the saying,\n",
    "> *If you model works for MNIST, it may not work for anything else, but if it doesn't work for MNIST, it won't work for anything else*\n",
    "\n",
    "Here in this notebook you will go beyond the MNIST dataset, albeit only a little bit. We will use the [Fashion MNIST](https://github.com/zalandoresearch/fashion-mnist) dataset, which is designed to replace MNIST as the new minimal dataset to test vision tasks. \n",
    "\n",
    "It is a dataset of Zalando's article images—consisting of a training set of 60,000 examples and a test set of 10,000 examples. Each example is a 28x28 grayscale image, associated with a label from 10 classes. Thus, it is almost exactly like the MNIST dataset for digit recognition, but the classification problem is generally harder.\n",
    "\n",
    "\n",
    "Here are some example images:\n",
    "![Fashion MNIST](https://markusthill.github.io/images/2017-10-12-zalandos-fashion-mnist-dataset/zalando10x10.jpeg)"
   ]
  },
  {
   "cell_type": "markdown",
   "metadata": {
    "id": "4PAmGIEWcEJs"
   },
   "source": [
    "# Importing the Dataset\n",
    "\n",
    "Just like MNIST, this dataset is found in the `tf.keras.datasets` module."
   ]
  },
  {
   "cell_type": "code",
   "execution_count": 2,
   "metadata": {
    "colab": {
     "base_uri": "https://localhost:8080/"
    },
    "executionInfo": {
     "elapsed": 1573,
     "status": "ok",
     "timestamp": 1675509081087,
     "user": {
      "displayName": "Youyang Zhang",
      "userId": "01365052532827648070"
     },
     "user_tz": -480
    },
    "id": "jpBIOHswcEJs",
    "outputId": "9cce758f-a1d4-4912-c4e2-683945ca9bed"
   },
   "outputs": [
    {
     "name": "stdout",
     "output_type": "stream",
     "text": [
      "Downloading data from https://storage.googleapis.com/tensorflow/tf-keras-datasets/train-labels-idx1-ubyte.gz\n",
      "29515/29515 [==============================] - 0s 0us/step\n",
      "Downloading data from https://storage.googleapis.com/tensorflow/tf-keras-datasets/train-images-idx3-ubyte.gz\n",
      "26421880/26421880 [==============================] - 0s 0us/step\n",
      "Downloading data from https://storage.googleapis.com/tensorflow/tf-keras-datasets/t10k-labels-idx1-ubyte.gz\n",
      "5148/5148 [==============================] - 0s 0us/step\n",
      "Downloading data from https://storage.googleapis.com/tensorflow/tf-keras-datasets/t10k-images-idx3-ubyte.gz\n",
      "4422102/4422102 [==============================] - 0s 0us/step\n"
     ]
    }
   ],
   "source": [
    "(x_train, y_train), (x_test, y_test) = tf.keras.datasets.fashion_mnist.load_data()"
   ]
  },
  {
   "cell_type": "markdown",
   "metadata": {
    "id": "Ail2DeimcEJs"
   },
   "source": [
    "The following is a dictionary of labels that will map the y_train/y_test labels into words"
   ]
  },
  {
   "cell_type": "code",
   "execution_count": 3,
   "metadata": {
    "executionInfo": {
     "elapsed": 18,
     "status": "ok",
     "timestamp": 1675509085821,
     "user": {
      "displayName": "Youyang Zhang",
      "userId": "01365052532827648070"
     },
     "user_tz": -480
    },
    "id": "L8AZYlQNcEJs"
   },
   "outputs": [],
   "source": [
    "label_dict = {\n",
    "    0: 'T-shirt/top',\n",
    "    1: 'Trouser',\n",
    "    2: 'Pullover',\n",
    "    3: 'Dress',\n",
    "    4: 'Coat',\n",
    "    5: 'Sandal',\n",
    "    6: 'Shirt',\n",
    "    7: 'Sneaker',\n",
    "    8: 'Bag',\n",
    "    9: 'Ankle boot',\n",
    "}\n",
    "labels_train = [label_dict[u] for u in y_train]\n",
    "labels_test = [label_dict[u] for u in y_test]"
   ]
  },
  {
   "cell_type": "code",
   "execution_count": 4,
   "metadata": {
    "colab": {
     "base_uri": "https://localhost:8080/",
     "height": 317
    },
    "executionInfo": {
     "elapsed": 1873,
     "status": "ok",
     "timestamp": 1675509091681,
     "user": {
      "displayName": "Youyang Zhang",
      "userId": "01365052532827648070"
     },
     "user_tz": -480
    },
    "id": "O91adnzdcEJt",
    "outputId": "c2c6f94e-3f4e-4467-ad9a-a4d5919bca38"
   },
   "outputs": [
    {
     "data": {
      "text/plain": [
       "Text(0.5, 1.0, 'Label = Ankle boot')"
      ]
     },
     "execution_count": 4,
     "metadata": {},
     "output_type": "execute_result"
    },
    {
     "data": {
      "image/png": "[encoded data removed]",
      "text/plain": [
       "<Figure size 432x288 with 2 Axes>"
      ]
     },
     "metadata": {},
     "output_type": "display_data"
    }
   ],
   "source": [
    "ax = sns.heatmap(x_train[0], cmap='Greys')\n",
    "ax.set_title(f'Label = {labels_train[0]}')"
   ]
  },
  {
   "cell_type": "markdown",
   "metadata": {
    "id": "gcm9JETIcEJt"
   },
   "source": [
    "# Task 1: Build a Shallow NN for Classification\n",
    "\n",
    "Build and train a shallow (one-hidden-layer) neural network with 128 hidden nodes to classify these images. Remember to perform appropriate preprocessing steps, such as normalization and one-hot representations.\n",
    "\n",
    "Evaluate carefully the performance of your training and the final model's performance. Discuss any interesting phenomena you discover.\n",
    "\n",
    "### Step1: Preprocessing: normalization and one-hot encoding"
   ]
  },
  {
   "cell_type": "code",
   "execution_count": 5,
   "metadata": {
    "executionInfo": {
     "elapsed": 399,
     "status": "ok",
     "timestamp": 1675509097017,
     "user": {
      "displayName": "Youyang Zhang",
      "userId": "01365052532827648070"
     },
     "user_tz": -480
    },
    "id": "wPLPVX8GlgBV"
   },
   "outputs": [],
   "source": [
    "# reshape and normalization\n",
    "x_train = x_train.reshape(-1, 784) / 255.0\n",
    "x_test = x_test.reshape(-1, 784) / 255.0\n",
    "\n",
    "# one-hot encoding for labels\n",
    "y_train = tf.keras.utils.to_categorical(y_train)\n",
    "y_test = tf.keras.utils.to_categorical(y_test)"
   ]
  },
  {
   "cell_type": "markdown",
   "metadata": {
    "id": "EtMXcFxb9nMW"
   },
   "source": [
    "### Step2: Build model with one hidden layer\n",
    "#### **Hidden Layer**\n",
    "<i>Units</i> = 128, <i>Activation function</i> = ReLU\n",
    "#### **Output Layer**\n",
    "<i>Units</i> = 10, <i>Activation function</i>: softmax\n",
    "#### **Training Configuration**\n",
    "<i>Optimizer</i>: SGD with learning rate 0.25, <i>Loss function</i>: Cross-Entropy, <i>Metrics</i>: Accuracy"
   ]
  },
  {
   "cell_type": "code",
   "execution_count": 6,
   "metadata": {
    "executionInfo": {
     "elapsed": 392,
     "status": "ok",
     "timestamp": 1675509103304,
     "user": {
      "displayName": "Youyang Zhang",
      "userId": "01365052532827648070"
     },
     "user_tz": -480
    },
    "id": "mPHJdk4QlzTc"
   },
   "outputs": [],
   "source": [
    "from tensorflow.keras import Sequential\n",
    "from tensorflow.keras.layers import Dense\n",
    "from tensorflow.keras.optimizers import SGD\n",
    "\n",
    "base_model = Sequential([\n",
    "    Dense(units=128, activation='relu'),\n",
    "    Dense(units=10, activation='softmax')\n",
    "])\n",
    "\n",
    "base_model.compile(loss='categorical_crossentropy', optimizer=SGD(learning_rate=0.25), metrics=['accuracy'])"
   ]
  },
  {
   "cell_type": "markdown",
   "metadata": {
    "id": "4GhxQ4eu-Ghx"
   },
   "source": [
    "### Step3: Train Model\n",
    "**Hyper-parameters**:\n",
    "1. Number of epochs to train the model: 100\n",
    "2. Number of samples per gradient update: training data size (60000)\n",
    "3. Validation split: 0.2 (use 20% of training data as validation)"
   ]
  },
  {
   "cell_type": "code",
   "execution_count": 7,
   "metadata": {
    "colab": {
     "base_uri": "https://localhost:8080/"
    },
    "executionInfo": {
     "elapsed": 82775,
     "status": "ok",
     "timestamp": 1675509194603,
     "user": {
      "displayName": "Youyang Zhang",
      "userId": "01365052532827648070"
     },
     "user_tz": -480
    },
    "id": "1HKqWVn9mfNJ",
    "outputId": "35173928-9ad5-4570-eafb-a24c76a57956"
   },
   "outputs": [
    {
     "name": "stdout",
     "output_type": "stream",
     "text": [
      "Epoch 1/100\n",
      "1/1 [==============================] - 1s 1s/step - loss: 2.5209 - accuracy: 0.1444 - val_loss: 2.1260 - val_accuracy: 0.2566\n",
      "Epoch 2/100\n",
      "1/1 [==============================] - 0s 373ms/step - loss: 2.1265 - accuracy: 0.2585 - val_loss: 1.9388 - val_accuracy: 0.4928\n",
      "Epoch 3/100\n",
      "1/1 [==============================] - 0s 368ms/step - loss: 1.9372 - accuracy: 0.4933 - val_loss: 1.6194 - val_accuracy: 0.5229\n",
      "Epoch 4/100\n",
      "1/1 [==============================] - 0s 377ms/step - loss: 1.6332 - accuracy: 0.5206 - val_loss: 1.6409 - val_accuracy: 0.5311\n",
      "Epoch 5/100\n",
      "1/1 [==============================] - 0s 365ms/step - loss: 1.6349 - accuracy: 0.5301 - val_loss: 1.4286 - val_accuracy: 0.5488\n",
      "Epoch 6/100\n",
      "1/1 [==============================] - 0s 398ms/step - loss: 1.4326 - accuracy: 0.5481 - val_loss: 1.3197 - val_accuracy: 0.5666\n",
      "Epoch 7/100\n",
      "1/1 [==============================] - 0s 435ms/step - loss: 1.3273 - accuracy: 0.5611 - val_loss: 1.3498 - val_accuracy: 0.5778\n",
      "Epoch 8/100\n",
      "1/1 [==============================] - 0s 433ms/step - loss: 1.3425 - accuracy: 0.5777 - val_loss: 1.3165 - val_accuracy: 0.6412\n",
      "Epoch 9/100\n",
      "1/1 [==============================] - 0s 427ms/step - loss: 1.3416 - accuracy: 0.6334 - val_loss: 1.1834 - val_accuracy: 0.5733\n",
      "Epoch 10/100\n",
      "1/1 [==============================] - 0s 420ms/step - loss: 1.1996 - accuracy: 0.5707 - val_loss: 1.2627 - val_accuracy: 0.5512\n",
      "Epoch 11/100\n",
      "1/1 [==============================] - 0s 452ms/step - loss: 1.2623 - accuracy: 0.5479 - val_loss: 1.1599 - val_accuracy: 0.6101\n",
      "Epoch 12/100\n",
      "1/1 [==============================] - 0s 429ms/step - loss: 1.1695 - accuracy: 0.6094 - val_loss: 1.0939 - val_accuracy: 0.6567\n",
      "Epoch 13/100\n",
      "1/1 [==============================] - 0s 420ms/step - loss: 1.1069 - accuracy: 0.6506 - val_loss: 1.0243 - val_accuracy: 0.6384\n",
      "Epoch 14/100\n",
      "1/1 [==============================] - 0s 359ms/step - loss: 1.0398 - accuracy: 0.6298 - val_loss: 0.9623 - val_accuracy: 0.6312\n",
      "Epoch 15/100\n",
      "1/1 [==============================] - 0s 363ms/step - loss: 0.9699 - accuracy: 0.6265 - val_loss: 0.9634 - val_accuracy: 0.6395\n",
      "Epoch 16/100\n",
      "1/1 [==============================] - 0s 420ms/step - loss: 0.9751 - accuracy: 0.6360 - val_loss: 0.9547 - val_accuracy: 0.6374\n",
      "Epoch 17/100\n",
      "1/1 [==============================] - 0s 444ms/step - loss: 0.9621 - accuracy: 0.6341 - val_loss: 0.9724 - val_accuracy: 0.6672\n",
      "Epoch 18/100\n",
      "1/1 [==============================] - 0s 419ms/step - loss: 0.9761 - accuracy: 0.6637 - val_loss: 0.8415 - val_accuracy: 0.7072\n",
      "Epoch 19/100\n",
      "1/1 [==============================] - 0s 368ms/step - loss: 0.8528 - accuracy: 0.7023 - val_loss: 0.8380 - val_accuracy: 0.6931\n",
      "Epoch 20/100\n",
      "1/1 [==============================] - 0s 356ms/step - loss: 0.8457 - accuracy: 0.6898 - val_loss: 0.8269 - val_accuracy: 0.7099\n",
      "Epoch 21/100\n",
      "1/1 [==============================] - 0s 360ms/step - loss: 0.8401 - accuracy: 0.7040 - val_loss: 0.8935 - val_accuracy: 0.6973\n",
      "Epoch 22/100\n",
      "1/1 [==============================] - 0s 371ms/step - loss: 0.8946 - accuracy: 0.6944 - val_loss: 0.8483 - val_accuracy: 0.7168\n",
      "Epoch 23/100\n",
      "1/1 [==============================] - 0s 365ms/step - loss: 0.8654 - accuracy: 0.7102 - val_loss: 0.8392 - val_accuracy: 0.7052\n",
      "Epoch 24/100\n",
      "1/1 [==============================] - 0s 408ms/step - loss: 0.8435 - accuracy: 0.7028 - val_loss: 0.8028 - val_accuracy: 0.7163\n",
      "Epoch 25/100\n",
      "1/1 [==============================] - 0s 421ms/step - loss: 0.8171 - accuracy: 0.7097 - val_loss: 0.8064 - val_accuracy: 0.7128\n",
      "Epoch 26/100\n",
      "1/1 [==============================] - 0s 401ms/step - loss: 0.8117 - accuracy: 0.7087 - val_loss: 0.7901 - val_accuracy: 0.7040\n",
      "Epoch 27/100\n",
      "1/1 [==============================] - 0s 365ms/step - loss: 0.8028 - accuracy: 0.6982 - val_loss: 0.8442 - val_accuracy: 0.7005\n",
      "Epoch 28/100\n",
      "1/1 [==============================] - 0s 358ms/step - loss: 0.8480 - accuracy: 0.6978 - val_loss: 0.8981 - val_accuracy: 0.7099\n",
      "Epoch 29/100\n",
      "1/1 [==============================] - 0s 367ms/step - loss: 0.9064 - accuracy: 0.7043 - val_loss: 0.7865 - val_accuracy: 0.7395\n",
      "Epoch 30/100\n",
      "1/1 [==============================] - 0s 372ms/step - loss: 0.7947 - accuracy: 0.7327 - val_loss: 0.7858 - val_accuracy: 0.7153\n",
      "Epoch 31/100\n",
      "1/1 [==============================] - 0s 392ms/step - loss: 0.7939 - accuracy: 0.7140 - val_loss: 0.7564 - val_accuracy: 0.7517\n",
      "Epoch 32/100\n",
      "1/1 [==============================] - 0s 373ms/step - loss: 0.7654 - accuracy: 0.7424 - val_loss: 0.7528 - val_accuracy: 0.7222\n",
      "Epoch 33/100\n",
      "1/1 [==============================] - 0s 351ms/step - loss: 0.7602 - accuracy: 0.7219 - val_loss: 0.7368 - val_accuracy: 0.7561\n",
      "Epoch 34/100\n",
      "1/1 [==============================] - 0s 389ms/step - loss: 0.7459 - accuracy: 0.7474 - val_loss: 0.7380 - val_accuracy: 0.7270\n",
      "Epoch 35/100\n",
      "1/1 [==============================] - 0s 432ms/step - loss: 0.7446 - accuracy: 0.7279 - val_loss: 0.7266 - val_accuracy: 0.7538\n",
      "Epoch 36/100\n",
      "1/1 [==============================] - 0s 456ms/step - loss: 0.7353 - accuracy: 0.7468 - val_loss: 0.7376 - val_accuracy: 0.7285\n",
      "Epoch 37/100\n",
      "1/1 [==============================] - 0s 448ms/step - loss: 0.7436 - accuracy: 0.7295 - val_loss: 0.7240 - val_accuracy: 0.7403\n",
      "Epoch 38/100\n",
      "1/1 [==============================] - 0s 424ms/step - loss: 0.7307 - accuracy: 0.7352 - val_loss: 0.7467 - val_accuracy: 0.7289\n",
      "Epoch 39/100\n",
      "1/1 [==============================] - 0s 418ms/step - loss: 0.7529 - accuracy: 0.7267 - val_loss: 0.7482 - val_accuracy: 0.7182\n",
      "Epoch 40/100\n",
      "1/1 [==============================] - 0s 361ms/step - loss: 0.7486 - accuracy: 0.7159 - val_loss: 0.7458 - val_accuracy: 0.7214\n",
      "Epoch 41/100\n",
      "1/1 [==============================] - 0s 359ms/step - loss: 0.7556 - accuracy: 0.7194 - val_loss: 0.7801 - val_accuracy: 0.7217\n",
      "Epoch 42/100\n",
      "1/1 [==============================] - 0s 376ms/step - loss: 0.7758 - accuracy: 0.7208 - val_loss: 0.7290 - val_accuracy: 0.7360\n",
      "Epoch 43/100\n",
      "1/1 [==============================] - 0s 383ms/step - loss: 0.7431 - accuracy: 0.7327 - val_loss: 0.6991 - val_accuracy: 0.7551\n",
      "Epoch 44/100\n",
      "1/1 [==============================] - 0s 389ms/step - loss: 0.6999 - accuracy: 0.7524 - val_loss: 0.6809 - val_accuracy: 0.7488\n",
      "Epoch 45/100\n",
      "1/1 [==============================] - 0s 424ms/step - loss: 0.6915 - accuracy: 0.7452 - val_loss: 0.6800 - val_accuracy: 0.7620\n",
      "Epoch 46/100\n",
      "1/1 [==============================] - 0s 420ms/step - loss: 0.6815 - accuracy: 0.7603 - val_loss: 0.6733 - val_accuracy: 0.7477\n",
      "Epoch 47/100\n",
      "1/1 [==============================] - 0s 404ms/step - loss: 0.6825 - accuracy: 0.7433 - val_loss: 0.6914 - val_accuracy: 0.7496\n",
      "Epoch 48/100\n",
      "1/1 [==============================] - 0s 372ms/step - loss: 0.6919 - accuracy: 0.7484 - val_loss: 0.6791 - val_accuracy: 0.7377\n",
      "Epoch 49/100\n",
      "1/1 [==============================] - 0s 371ms/step - loss: 0.6868 - accuracy: 0.7356 - val_loss: 0.7011 - val_accuracy: 0.7410\n",
      "Epoch 50/100\n",
      "1/1 [==============================] - 0s 367ms/step - loss: 0.7016 - accuracy: 0.7392 - val_loss: 0.6797 - val_accuracy: 0.7393\n",
      "Epoch 51/100\n",
      "1/1 [==============================] - 0s 369ms/step - loss: 0.6848 - accuracy: 0.7372 - val_loss: 0.6784 - val_accuracy: 0.7441\n",
      "Epoch 52/100\n",
      "1/1 [==============================] - 0s 390ms/step - loss: 0.6814 - accuracy: 0.7441 - val_loss: 0.6877 - val_accuracy: 0.7461\n",
      "Epoch 53/100\n",
      "1/1 [==============================] - 0s 420ms/step - loss: 0.6900 - accuracy: 0.7473 - val_loss: 0.6667 - val_accuracy: 0.7563\n",
      "Epoch 54/100\n",
      "1/1 [==============================] - 0s 445ms/step - loss: 0.6729 - accuracy: 0.7521 - val_loss: 0.6981 - val_accuracy: 0.7397\n",
      "Epoch 55/100\n",
      "1/1 [==============================] - 0s 366ms/step - loss: 0.6981 - accuracy: 0.7437 - val_loss: 0.6671 - val_accuracy: 0.7710\n",
      "Epoch 56/100\n",
      "1/1 [==============================] - 0s 389ms/step - loss: 0.6756 - accuracy: 0.7637 - val_loss: 0.6548 - val_accuracy: 0.7578\n",
      "Epoch 57/100\n",
      "1/1 [==============================] - 0s 407ms/step - loss: 0.6555 - accuracy: 0.7594 - val_loss: 0.6500 - val_accuracy: 0.7770\n",
      "Epoch 58/100\n",
      "1/1 [==============================] - 0s 367ms/step - loss: 0.6574 - accuracy: 0.7705 - val_loss: 0.6413 - val_accuracy: 0.7733\n",
      "Epoch 59/100\n",
      "1/1 [==============================] - 0s 374ms/step - loss: 0.6414 - accuracy: 0.7738 - val_loss: 0.6530 - val_accuracy: 0.7754\n",
      "Epoch 60/100\n",
      "1/1 [==============================] - 0s 382ms/step - loss: 0.6609 - accuracy: 0.7700 - val_loss: 0.6410 - val_accuracy: 0.7728\n",
      "Epoch 61/100\n",
      "1/1 [==============================] - 0s 380ms/step - loss: 0.6401 - accuracy: 0.7758 - val_loss: 0.6560 - val_accuracy: 0.7724\n",
      "Epoch 62/100\n",
      "1/1 [==============================] - 0s 384ms/step - loss: 0.6640 - accuracy: 0.7676 - val_loss: 0.6394 - val_accuracy: 0.7763\n",
      "Epoch 63/100\n",
      "1/1 [==============================] - 0s 495ms/step - loss: 0.6382 - accuracy: 0.7790 - val_loss: 0.6437 - val_accuracy: 0.7680\n",
      "Epoch 64/100\n",
      "1/1 [==============================] - 0s 484ms/step - loss: 0.6509 - accuracy: 0.7655 - val_loss: 0.6395 - val_accuracy: 0.7771\n",
      "Epoch 65/100\n",
      "1/1 [==============================] - 0s 393ms/step - loss: 0.6378 - accuracy: 0.7807 - val_loss: 0.6369 - val_accuracy: 0.7630\n",
      "Epoch 66/100\n",
      "1/1 [==============================] - 0s 348ms/step - loss: 0.6437 - accuracy: 0.7612 - val_loss: 0.6453 - val_accuracy: 0.7703\n",
      "Epoch 67/100\n",
      "1/1 [==============================] - 0s 366ms/step - loss: 0.6430 - accuracy: 0.7741 - val_loss: 0.6368 - val_accuracy: 0.7553\n",
      "Epoch 68/100\n",
      "1/1 [==============================] - 0s 371ms/step - loss: 0.6426 - accuracy: 0.7537 - val_loss: 0.6605 - val_accuracy: 0.7569\n",
      "Epoch 69/100\n",
      "1/1 [==============================] - 0s 365ms/step - loss: 0.6580 - accuracy: 0.7577 - val_loss: 0.6575 - val_accuracy: 0.7523\n",
      "Epoch 70/100\n",
      "1/1 [==============================] - 0s 375ms/step - loss: 0.6618 - accuracy: 0.7501 - val_loss: 0.6518 - val_accuracy: 0.7594\n",
      "Epoch 71/100\n",
      "1/1 [==============================] - 0s 360ms/step - loss: 0.6504 - accuracy: 0.7563 - val_loss: 0.6522 - val_accuracy: 0.7593\n",
      "Epoch 72/100\n",
      "1/1 [==============================] - 0s 350ms/step - loss: 0.6548 - accuracy: 0.7596 - val_loss: 0.6202 - val_accuracy: 0.7797\n",
      "Epoch 73/100\n",
      "1/1 [==============================] - 0s 399ms/step - loss: 0.6208 - accuracy: 0.7777 - val_loss: 0.6231 - val_accuracy: 0.7694\n",
      "Epoch 74/100\n",
      "1/1 [==============================] - 0s 432ms/step - loss: 0.6243 - accuracy: 0.7719 - val_loss: 0.6081 - val_accuracy: 0.7834\n",
      "Epoch 75/100\n",
      "1/1 [==============================] - 0s 430ms/step - loss: 0.6102 - accuracy: 0.7813 - val_loss: 0.6221 - val_accuracy: 0.7678\n",
      "Epoch 76/100\n",
      "1/1 [==============================] - 0s 421ms/step - loss: 0.6213 - accuracy: 0.7706 - val_loss: 0.6081 - val_accuracy: 0.7807\n",
      "Epoch 77/100\n",
      "1/1 [==============================] - 0s 423ms/step - loss: 0.6115 - accuracy: 0.7781 - val_loss: 0.6244 - val_accuracy: 0.7628\n",
      "Epoch 78/100\n",
      "1/1 [==============================] - 0s 405ms/step - loss: 0.6221 - accuracy: 0.7676 - val_loss: 0.6047 - val_accuracy: 0.7850\n",
      "Epoch 79/100\n",
      "1/1 [==============================] - 0s 371ms/step - loss: 0.6089 - accuracy: 0.7791 - val_loss: 0.6091 - val_accuracy: 0.7717\n",
      "Epoch 80/100\n",
      "1/1 [==============================] - 0s 380ms/step - loss: 0.6065 - accuracy: 0.7776 - val_loss: 0.5956 - val_accuracy: 0.7872\n",
      "Epoch 81/100\n",
      "1/1 [==============================] - 0s 416ms/step - loss: 0.5998 - accuracy: 0.7834 - val_loss: 0.5955 - val_accuracy: 0.7845\n",
      "Epoch 82/100\n",
      "1/1 [==============================] - 0s 436ms/step - loss: 0.5925 - accuracy: 0.7897 - val_loss: 0.5913 - val_accuracy: 0.7898\n",
      "Epoch 83/100\n",
      "1/1 [==============================] - 1s 737ms/step - loss: 0.5957 - accuracy: 0.7865 - val_loss: 0.5910 - val_accuracy: 0.7894\n",
      "Epoch 84/100\n",
      "1/1 [==============================] - 1s 538ms/step - loss: 0.5872 - accuracy: 0.7940 - val_loss: 0.5966 - val_accuracy: 0.7898\n",
      "Epoch 85/100\n",
      "1/1 [==============================] - 1s 721ms/step - loss: 0.6018 - accuracy: 0.7856 - val_loss: 0.5908 - val_accuracy: 0.7914\n",
      "Epoch 86/100\n",
      "1/1 [==============================] - 0s 447ms/step - loss: 0.5864 - accuracy: 0.7957 - val_loss: 0.6058 - val_accuracy: 0.7839\n",
      "Epoch 87/100\n",
      "1/1 [==============================] - 0s 433ms/step - loss: 0.6116 - accuracy: 0.7831 - val_loss: 0.5954 - val_accuracy: 0.7917\n",
      "Epoch 88/100\n",
      "1/1 [==============================] - 0s 427ms/step - loss: 0.5906 - accuracy: 0.7955 - val_loss: 0.6065 - val_accuracy: 0.7761\n",
      "Epoch 89/100\n",
      "1/1 [==============================] - 0s 365ms/step - loss: 0.6111 - accuracy: 0.7765 - val_loss: 0.6165 - val_accuracy: 0.7803\n",
      "Epoch 90/100\n",
      "1/1 [==============================] - 0s 367ms/step - loss: 0.6110 - accuracy: 0.7851 - val_loss: 0.6148 - val_accuracy: 0.7628\n",
      "Epoch 91/100\n",
      "1/1 [==============================] - 0s 375ms/step - loss: 0.6180 - accuracy: 0.7635 - val_loss: 0.6343 - val_accuracy: 0.7694\n",
      "Epoch 92/100\n",
      "1/1 [==============================] - 0s 357ms/step - loss: 0.6290 - accuracy: 0.7719 - val_loss: 0.6204 - val_accuracy: 0.7645\n",
      "Epoch 93/100\n",
      "1/1 [==============================] - 0s 368ms/step - loss: 0.6217 - accuracy: 0.7656 - val_loss: 0.6050 - val_accuracy: 0.7827\n",
      "Epoch 94/100\n",
      "1/1 [==============================] - 0s 372ms/step - loss: 0.6016 - accuracy: 0.7853 - val_loss: 0.5949 - val_accuracy: 0.7783\n",
      "Epoch 95/100\n",
      "1/1 [==============================] - 0s 360ms/step - loss: 0.5952 - accuracy: 0.7817 - val_loss: 0.5778 - val_accuracy: 0.7985\n",
      "Epoch 96/100\n",
      "1/1 [==============================] - 0s 389ms/step - loss: 0.5759 - accuracy: 0.7996 - val_loss: 0.5770 - val_accuracy: 0.7893\n",
      "Epoch 97/100\n",
      "1/1 [==============================] - 0s 427ms/step - loss: 0.5759 - accuracy: 0.7930 - val_loss: 0.5698 - val_accuracy: 0.7993\n",
      "Epoch 98/100\n",
      "1/1 [==============================] - 0s 429ms/step - loss: 0.5687 - accuracy: 0.7999 - val_loss: 0.5792 - val_accuracy: 0.7837\n",
      "Epoch 99/100\n",
      "1/1 [==============================] - 0s 381ms/step - loss: 0.5764 - accuracy: 0.7910 - val_loss: 0.5726 - val_accuracy: 0.7933\n",
      "Epoch 100/100\n",
      "1/1 [==============================] - 0s 394ms/step - loss: 0.5725 - accuracy: 0.7936 - val_loss: 0.5922 - val_accuracy: 0.7770\n"
     ]
    }
   ],
   "source": [
    "history = base_model.fit(x=x_train,\n",
    "                    y=y_train,\n",
    "                    epochs=100,\n",
    "                    batch_size=x_train.shape[0],\n",
    "                    validation_split=0.2\n",
    "                    )"
   ]
  },
  {
   "cell_type": "markdown",
   "metadata": {
    "id": "etKrf-Tr_Dvd"
   },
   "source": [
    "### Step4: Examine Training Curve\n",
    "With increasing number of epochs, loss function dcreases and model accuracy increases, which indicates that model performance will get better with higher number of epochs, but it will take a long time to finish training.\n",
    "\n",
    "After 100 epochs, model accuracy on validation set reaches **77.7%**."
   ]
  },
  {
   "cell_type": "code",
   "execution_count": 8,
   "metadata": {
    "colab": {
     "base_uri": "https://localhost:8080/",
     "height": 593
    },
    "executionInfo": {
     "elapsed": 883,
     "status": "ok",
     "timestamp": 1675509209391,
     "user": {
      "displayName": "Youyang Zhang",
      "userId": "01365052532827648070"
     },
     "user_tz": -480
    },
    "id": "Cvi0vm8joQKR",
    "outputId": "3a6ba451-cb7b-408a-984a-7663f511bfe0"
   },
   "outputs": [
    {
     "data": {
      "text/plain": [
       "<matplotlib.axes._subplots.AxesSubplot at 0x7fec010f3cd0>"
      ]
     },
     "execution_count": 8,
     "metadata": {},
     "output_type": "execute_result"
    },
    {
     "data": {
      "image/png": "[encoded data removed]",
      "text/plain": [
       "<Figure size 432x288 with 1 Axes>"
      ]
     },
     "metadata": {},
     "output_type": "display_data"
    },
    {
     "data": {
      "image/png": "[encoded data removed]",
      "text/plain": [
       "<Figure size 432x288 with 1 Axes>"
      ]
     },
     "metadata": {},
     "output_type": "display_data"
    }
   ],
   "source": [
    "history = pd.DataFrame(history.history)\n",
    "history.plot(y=['loss', 'val_loss'], title='Loss')\n",
    "history.plot(y=['accuracy', 'val_accuracy'], title='Accuracy')"
   ]
  },
  {
   "cell_type": "markdown",
   "metadata": {
    "id": "uH7DASGMAu8h"
   },
   "source": [
    "### Step5: Evaluate Model Performance: Confusion Matrix\n",
    "The test set has **overall accuracy as 76.9%**.\n",
    "Most categories have high accuracies except label 6 (shirts). Shirts can be easily mislabelled as coats, pullovers, or t-shirts.\n"
   ]
  },
  {
   "cell_type": "code",
   "execution_count": 9,
   "metadata": {
    "colab": {
     "base_uri": "https://localhost:8080/"
    },
    "executionInfo": {
     "elapsed": 813,
     "status": "ok",
     "timestamp": 1675509225780,
     "user": {
      "displayName": "Youyang Zhang",
      "userId": "01365052532827648070"
     },
     "user_tz": -480
    },
    "id": "5IMQnDiNLTMR",
    "outputId": "4d315bfa-7817-443d-fdae-884bdab4e19a"
   },
   "outputs": [
    {
     "name": "stdout",
     "output_type": "stream",
     "text": [
      "{'loss': 0.6145200133323669, 'accuracy': 0.7689999938011169}\n"
     ]
    }
   ],
   "source": [
    "# Evaluate the model on test set\n",
    "base_score = base_model.evaluate(x_test, y_test, verbose=0, return_dict=True)\n",
    "# Print test accuracy\n",
    "print(base_score)\n",
    "\n",
    "score_df = pd.DataFrame([base_score.values()], columns=[list(base_score.keys())])\n",
    "score_df.index = ['Baseline']"
   ]
  },
  {
   "cell_type": "code",
   "execution_count": 10,
   "metadata": {
    "colab": {
     "base_uri": "https://localhost:8080/",
     "height": 312
    },
    "executionInfo": {
     "elapsed": 1842,
     "status": "ok",
     "timestamp": 1675509241421,
     "user": {
      "displayName": "Youyang Zhang",
      "userId": "01365052532827648070"
     },
     "user_tz": -480
    },
    "id": "q5BL61vRovzU",
    "outputId": "ab061c1d-3632-480a-dc97-842283f52628"
   },
   "outputs": [
    {
     "name": "stdout",
     "output_type": "stream",
     "text": [
      "313/313 [==============================] - 1s 1ms/step\n"
     ]
    },
    {
     "data": {
      "text/plain": [
       "<matplotlib.axes._subplots.AxesSubplot at 0x7febfe779160>"
      ]
     },
     "execution_count": 10,
     "metadata": {},
     "output_type": "execute_result"
    },
    {
     "data": {
      "image/png": "[encoded data removed]",
      "text/plain": [
       "<Figure size 432x288 with 2 Axes>"
      ]
     },
     "metadata": {},
     "output_type": "display_data"
    }
   ],
   "source": [
    "from sklearn.metrics import confusion_matrix\n",
    "\n",
    "y_test_predict = base_model.predict(x_test)\n",
    "cmatrix = confusion_matrix(y_true=y_test.argmax(1), y_pred=y_test_predict.argmax(1))\n",
    "sns.heatmap(cmatrix, annot=True, fmt=\"d\")"
   ]
  },
  {
   "cell_type": "markdown",
   "metadata": {
    "id": "Vbn3TNurcEJt"
   },
   "source": [
    "# Task 2: Dependence on Hyper-parameters\n",
    "\n",
    "Now, investigate the dependence of the neural network's performance on some hyper-parameters. In particular, you should investigate the dependence on the following:\n",
    "\n",
    "1. Number of hidden nodes\n",
    "2. The activation function\n",
    "3. Loss functions\n",
    "\n",
    "Discuss any interesting findings and insights.\n",
    "\n",
    "**KeraTuner is used for parameter tuning.**"
   ]
  },
  {
   "cell_type": "code",
   "execution_count": 11,
   "metadata": {
    "colab": {
     "base_uri": "https://localhost:8080/"
    },
    "executionInfo": {
     "elapsed": 4976,
     "status": "ok",
     "timestamp": 1675509253638,
     "user": {
      "displayName": "Youyang Zhang",
      "userId": "01365052532827648070"
     },
     "user_tz": -480
    },
    "id": "uNfGj_ulBwNV",
    "outputId": "1f60e7f7-0d29-446b-9a5a-41705f81685a"
   },
   "outputs": [
    {
     "name": "stdout",
     "output_type": "stream",
     "text": [
      "Looking in indexes: https://pypi.org/simple, https://us-python.pkg.dev/colab-wheels/public/simple/\n",
      "Collecting keras-tuner\n",
      "  Downloading keras_tuner-1.2.0-py3-none-any.whl (168 kB)\n",
      "\u001b[2K     \u001b[90m━━━━━━━━━━━━━━━━━━━━━━━━━━━━━━━━━━━━━━\u001b[0m \u001b[32m168.1/168.1 KB\u001b[0m \u001b[31m10.4 MB/s\u001b[0m eta \u001b[36m0:00:00\u001b[0m\n",
      "\u001b[?25hRequirement already satisfied: ipython in /usr/local/lib/python3.8/dist-packages (from keras-tuner) (7.9.0)\n",
      "Collecting kt-legacy\n",
      "  Downloading kt_legacy-1.0.4-py3-none-any.whl (9.6 kB)\n",
      "Requirement already satisfied: requests in /usr/local/lib/python3.8/dist-packages (from keras-tuner) (2.25.1)\n",
      "Requirement already satisfied: packaging in /usr/local/lib/python3.8/dist-packages (from keras-tuner) (23.0)\n",
      "Requirement already satisfied: tensorflow>=2.0 in /usr/local/lib/python3.8/dist-packages (from keras-tuner) (2.9.2)\n",
      "Requirement already satisfied: termcolor>=1.1.0 in /usr/local/lib/python3.8/dist-packages (from tensorflow>=2.0->keras-tuner) (2.2.0)\n",
      "Requirement already satisfied: keras-preprocessing>=1.1.1 in /usr/local/lib/python3.8/dist-packages (from tensorflow>=2.0->keras-tuner) (1.1.2)\n",
      "Requirement already satisfied: protobuf<3.20,>=3.9.2 in /usr/local/lib/python3.8/dist-packages (from tensorflow>=2.0->keras-tuner) (3.19.6)\n",
      "Requirement already satisfied: grpcio<2.0,>=1.24.3 in /usr/local/lib/python3.8/dist-packages (from tensorflow>=2.0->keras-tuner) (1.51.1)\n",
      "Requirement already satisfied: tensorflow-estimator<2.10.0,>=2.9.0rc0 in /usr/local/lib/python3.8/dist-packages (from tensorflow>=2.0->keras-tuner) (2.9.0)\n",
      "Requirement already satisfied: setuptools in /usr/local/lib/python3.8/dist-packages (from tensorflow>=2.0->keras-tuner) (57.4.0)\n",
      "Requirement already satisfied: opt-einsum>=2.3.2 in /usr/local/lib/python3.8/dist-packages (from tensorflow>=2.0->keras-tuner) (3.3.0)\n",
      "Requirement already satisfied: tensorboard<2.10,>=2.9 in /usr/local/lib/python3.8/dist-packages (from tensorflow>=2.0->keras-tuner) (2.9.1)\n",
      "Requirement already satisfied: astunparse>=1.6.0 in /usr/local/lib/python3.8/dist-packages (from tensorflow>=2.0->keras-tuner) (1.6.3)\n",
      "Requirement already satisfied: gast<=0.4.0,>=0.2.1 in /usr/local/lib/python3.8/dist-packages (from tensorflow>=2.0->keras-tuner) (0.4.0)\n",
      "Requirement already satisfied: tensorflow-io-gcs-filesystem>=0.23.1 in /usr/local/lib/python3.8/dist-packages (from tensorflow>=2.0->keras-tuner) (0.30.0)\n",
      "Requirement already satisfied: numpy>=1.20 in /usr/local/lib/python3.8/dist-packages (from tensorflow>=2.0->keras-tuner) (1.21.6)\n",
      "Requirement already satisfied: six>=1.12.0 in /usr/local/lib/python3.8/dist-packages (from tensorflow>=2.0->keras-tuner) (1.15.0)\n",
      "Requirement already satisfied: h5py>=2.9.0 in /usr/local/lib/python3.8/dist-packages (from tensorflow>=2.0->keras-tuner) (3.1.0)\n",
      "Requirement already satisfied: keras<2.10.0,>=2.9.0rc0 in /usr/local/lib/python3.8/dist-packages (from tensorflow>=2.0->keras-tuner) (2.9.0)\n",
      "Requirement already satisfied: flatbuffers<2,>=1.12 in /usr/local/lib/python3.8/dist-packages (from tensorflow>=2.0->keras-tuner) (1.12)\n",
      "Requirement already satisfied: typing-extensions>=3.6.6 in /usr/local/lib/python3.8/dist-packages (from tensorflow>=2.0->keras-tuner) (4.4.0)\n",
      "Requirement already satisfied: libclang>=13.0.0 in /usr/local/lib/python3.8/dist-packages (from tensorflow>=2.0->keras-tuner) (15.0.6.1)\n",
      "Requirement already satisfied: absl-py>=1.0.0 in /usr/local/lib/python3.8/dist-packages (from tensorflow>=2.0->keras-tuner) (1.4.0)\n",
      "Requirement already satisfied: google-pasta>=0.1.1 in /usr/local/lib/python3.8/dist-packages (from tensorflow>=2.0->keras-tuner) (0.2.0)\n",
      "Requirement already satisfied: wrapt>=1.11.0 in /usr/local/lib/python3.8/dist-packages (from tensorflow>=2.0->keras-tuner) (1.14.1)\n",
      "Requirement already satisfied: pygments in /usr/local/lib/python3.8/dist-packages (from ipython->keras-tuner) (2.6.1)\n",
      "Requirement already satisfied: pexpect in /usr/local/lib/python3.8/dist-packages (from ipython->keras-tuner) (4.8.0)\n",
      "Collecting jedi>=0.10\n",
      "  Downloading jedi-0.18.2-py2.py3-none-any.whl (1.6 MB)\n",
      "\u001b[2K     \u001b[90m━━━━━━━━━━━━━━━━━━━━━━━━━━━━━━━━━━━━━━━━\u001b[0m \u001b[32m1.6/1.6 MB\u001b[0m \u001b[31m60.7 MB/s\u001b[0m eta \u001b[36m0:00:00\u001b[0m\n",
      "\u001b[?25hRequirement already satisfied: pickleshare in /usr/local/lib/python3.8/dist-packages (from ipython->keras-tuner) (0.7.5)\n",
      "Requirement already satisfied: decorator in /usr/local/lib/python3.8/dist-packages (from ipython->keras-tuner) (4.4.2)\n",
      "Requirement already satisfied: traitlets>=4.2 in /usr/local/lib/python3.8/dist-packages (from ipython->keras-tuner) (5.7.1)\n",
      "Requirement already satisfied: prompt-toolkit<2.1.0,>=2.0.0 in /usr/local/lib/python3.8/dist-packages (from ipython->keras-tuner) (2.0.10)\n",
      "Requirement already satisfied: backcall in /usr/local/lib/python3.8/dist-packages (from ipython->keras-tuner) (0.2.0)\n",
      "Requirement already satisfied: chardet<5,>=3.0.2 in /usr/local/lib/python3.8/dist-packages (from requests->keras-tuner) (4.0.0)\n",
      "Requirement already satisfied: certifi>=2017.4.17 in /usr/local/lib/python3.8/dist-packages (from requests->keras-tuner) (2022.12.7)\n",
      "Requirement already satisfied: idna<3,>=2.5 in /usr/local/lib/python3.8/dist-packages (from requests->keras-tuner) (2.10)\n",
      "Requirement already satisfied: urllib3<1.27,>=1.21.1 in /usr/local/lib/python3.8/dist-packages (from requests->keras-tuner) (1.24.3)\n",
      "Requirement already satisfied: wheel<1.0,>=0.23.0 in /usr/local/lib/python3.8/dist-packages (from astunparse>=1.6.0->tensorflow>=2.0->keras-tuner) (0.38.4)\n",
      "Requirement already satisfied: parso<0.9.0,>=0.8.0 in /usr/local/lib/python3.8/dist-packages (from jedi>=0.10->ipython->keras-tuner) (0.8.3)\n",
      "Requirement already satisfied: wcwidth in /usr/local/lib/python3.8/dist-packages (from prompt-toolkit<2.1.0,>=2.0.0->ipython->keras-tuner) (0.2.6)\n",
      "Requirement already satisfied: tensorboard-plugin-wit>=1.6.0 in /usr/local/lib/python3.8/dist-packages (from tensorboard<2.10,>=2.9->tensorflow>=2.0->keras-tuner) (1.8.1)\n",
      "Requirement already satisfied: werkzeug>=1.0.1 in /usr/local/lib/python3.8/dist-packages (from tensorboard<2.10,>=2.9->tensorflow>=2.0->keras-tuner) (1.0.1)\n",
      "Requirement already satisfied: tensorboard-data-server<0.7.0,>=0.6.0 in /usr/local/lib/python3.8/dist-packages (from tensorboard<2.10,>=2.9->tensorflow>=2.0->keras-tuner) (0.6.1)\n",
      "Requirement already satisfied: google-auth<3,>=1.6.3 in /usr/local/lib/python3.8/dist-packages (from tensorboard<2.10,>=2.9->tensorflow>=2.0->keras-tuner) (2.16.0)\n",
      "Requirement already satisfied: markdown>=2.6.8 in /usr/local/lib/python3.8/dist-packages (from tensorboard<2.10,>=2.9->tensorflow>=2.0->keras-tuner) (3.4.1)\n",
      "Requirement already satisfied: google-auth-oauthlib<0.5,>=0.4.1 in /usr/local/lib/python3.8/dist-packages (from tensorboard<2.10,>=2.9->tensorflow>=2.0->keras-tuner) (0.4.6)\n",
      "Requirement already satisfied: ptyprocess>=0.5 in /usr/local/lib/python3.8/dist-packages (from pexpect->ipython->keras-tuner) (0.7.0)\n",
      "Requirement already satisfied: rsa<5,>=3.1.4 in /usr/local/lib/python3.8/dist-packages (from google-auth<3,>=1.6.3->tensorboard<2.10,>=2.9->tensorflow>=2.0->keras-tuner) (4.9)\n",
      "Requirement already satisfied: cachetools<6.0,>=2.0.0 in /usr/local/lib/python3.8/dist-packages (from google-auth<3,>=1.6.3->tensorboard<2.10,>=2.9->tensorflow>=2.0->keras-tuner) (5.3.0)\n",
      "Requirement already satisfied: pyasn1-modules>=0.2.1 in /usr/local/lib/python3.8/dist-packages (from google-auth<3,>=1.6.3->tensorboard<2.10,>=2.9->tensorflow>=2.0->keras-tuner) (0.2.8)\n",
      "Requirement already satisfied: requests-oauthlib>=0.7.0 in /usr/local/lib/python3.8/dist-packages (from google-auth-oauthlib<0.5,>=0.4.1->tensorboard<2.10,>=2.9->tensorflow>=2.0->keras-tuner) (1.3.1)\n",
      "Requirement already satisfied: importlib-metadata>=4.4 in /usr/local/lib/python3.8/dist-packages (from markdown>=2.6.8->tensorboard<2.10,>=2.9->tensorflow>=2.0->keras-tuner) (6.0.0)\n",
      "Requirement already satisfied: zipp>=0.5 in /usr/local/lib/python3.8/dist-packages (from importlib-metadata>=4.4->markdown>=2.6.8->tensorboard<2.10,>=2.9->tensorflow>=2.0->keras-tuner) (3.12.0)\n",
      "Requirement already satisfied: pyasn1<0.5.0,>=0.4.6 in /usr/local/lib/python3.8/dist-packages (from pyasn1-modules>=0.2.1->google-auth<3,>=1.6.3->tensorboard<2.10,>=2.9->tensorflow>=2.0->keras-tuner) (0.4.8)\n",
      "Requirement already satisfied: oauthlib>=3.0.0 in /usr/local/lib/python3.8/dist-packages (from requests-oauthlib>=0.7.0->google-auth-oauthlib<0.5,>=0.4.1->tensorboard<2.10,>=2.9->tensorflow>=2.0->keras-tuner) (3.2.2)\n",
      "Installing collected packages: kt-legacy, jedi, keras-tuner\n",
      "Successfully installed jedi-0.18.2 keras-tuner-1.2.0 kt-legacy-1.0.4\n"
     ]
    }
   ],
   "source": [
    "!pip install keras-tuner --upgrade\n",
    "import keras_tuner as kt"
   ]
  },
  {
   "cell_type": "markdown",
   "metadata": {
    "id": "GiTpX4tRRkRv"
   },
   "source": [
    "### Step1: Define the Model\n",
    "\n",
    "\n",
    "*   *Number of hidden nodes*: 32 to 512 with stepsize 32\n",
    "*   *The activation function*: ReLU, Sigmoid, Tanh\n",
    "*   *Loss function*: Multi-Class Cross-Entropy Loss, Sparse Multiclass Cross-Entropy Loss, Kullback Leibler Divergence Loss\n",
    "\n",
    "\n",
    "\n"
   ]
  },
  {
   "cell_type": "code",
   "execution_count": 12,
   "metadata": {
    "executionInfo": {
     "elapsed": 305,
     "status": "ok",
     "timestamp": 1675509261800,
     "user": {
      "displayName": "Youyang Zhang",
      "userId": "01365052532827648070"
     },
     "user_tz": -480
    },
    "id": "NQ0HSXyvITvR"
   },
   "outputs": [],
   "source": [
    "def model_builder(hp):\n",
    "    model = Sequential()\n",
    "\n",
    "  # Tune the number of units in the first Dense layer\n",
    "    hp_units = hp.Int('units', min_value=32, max_value=512, step=32)\n",
    "\n",
    "  # Tune the activation function in the first Dense layer\n",
    "    hp_activation = hp.Choice('activation_function', values=['relu', 'sigmoid', 'tanh'])\n",
    "\n",
    "    model.add(Dense(units=hp_units, activation=hp_activation))\n",
    "    model.add(Dense(units=10, activation='softmax'))\n",
    "\n",
    "  # Tune the loss function for the optimizer\n",
    "    hp_loss = hp.Choice('loss_function', values=['categorical_crossentropy', 'sparse_categorical_crossentropy', 'kullback_leibler_divergence'])\n",
    "\n",
    "    model.compile(optimizer=SGD(learning_rate=0.25),\n",
    "                loss=hp_loss,\n",
    "                metrics=['accuracy'])\n",
    "\n",
    "    return model"
   ]
  },
  {
   "cell_type": "markdown",
   "metadata": {
    "id": "FadeKbnKSuOF"
   },
   "source": [
    "### Step2: Instantiate the tuner"
   ]
  },
  {
   "cell_type": "code",
   "execution_count": 13,
   "metadata": {
    "executionInfo": {
     "elapsed": 304,
     "status": "ok",
     "timestamp": 1675509266407,
     "user": {
      "displayName": "Youyang Zhang",
      "userId": "01365052532827648070"
     },
     "user_tz": -480
    },
    "id": "FVt9vTu5N0-N"
   },
   "outputs": [],
   "source": [
    "tuner = kt.Hyperband(model_builder,\n",
    "                     objective='val_accuracy',\n",
    "                     max_epochs=10,\n",
    "                     factor=3,\n",
    "                     directory='my_dir',\n",
    "                     project_name='dsa5204_hw1_kt')"
   ]
  },
  {
   "cell_type": "markdown",
   "metadata": {
    "id": "eEKBFykpTB-J"
   },
   "source": [
    "### Step3: Start the Search\n",
    "\n",
    "After tuning, here is the result.\n",
    "\n",
    "\n",
    "*   *Best Number of hidden nodes*: **96**\n",
    "*   *Best activation function*: **Tanh**\n",
    "*   *Best Loss function*: **Multi-Class Cross-Entropy Loss**\n",
    "\n"
   ]
  },
  {
   "cell_type": "code",
   "execution_count": 14,
   "metadata": {
    "colab": {
     "base_uri": "https://localhost:8080/"
    },
    "executionInfo": {
     "elapsed": 369799,
     "status": "ok",
     "timestamp": 1675509652440,
     "user": {
      "displayName": "Youyang Zhang",
      "userId": "01365052532827648070"
     },
     "user_tz": -480
    },
    "id": "cCHO3i1xN_j6",
    "outputId": "9b65aea1-7394-4c41-a66a-1c0505169443"
   },
   "outputs": [
    {
     "name": "stdout",
     "output_type": "stream",
     "text": [
      "Trial 23 Complete [00h 00m 51s]\n",
      "val_accuracy: 0.8769999742507935\n",
      "\n",
      "Best val_accuracy So Far: 0.8821666836738586\n",
      "Total elapsed time: 00h 06m 10s\n",
      "\n",
      "The hyperparameter search is complete. The optimal number of units in the first densely-connected\n",
      "layer is 96, the best activation function for the hidden layer\n",
      "is tanh, and the best loss function for compile is categorical_crossentropy.\n",
      "\n"
     ]
    }
   ],
   "source": [
    "stop_early = tf.keras.callbacks.EarlyStopping(monitor='val_loss', patience=5)\n",
    "tuner.search(x_train, y_train, epochs=20, validation_split=0.2, callbacks=[stop_early])\n",
    "\n",
    "# Get the optimal hyperparameters\n",
    "best_hps=tuner.get_best_hyperparameters(num_trials=1)[0]\n",
    "\n",
    "print(f\"\"\"\n",
    "The hyperparameter search is complete. The optimal number of units in the first densely-connected\n",
    "layer is {best_hps.get('units')}, the best activation function for the hidden layer\n",
    "is {best_hps.get('activation_function')}, and the best loss function for compile is {best_hps.get('loss_function')}.\n",
    "\"\"\")"
   ]
  },
  {
   "cell_type": "markdown",
   "metadata": {
    "id": "XAEEbYuNF3TL"
   },
   "source": [
    "### Step4: Train model with hypertuned parameters"
   ]
  },
  {
   "cell_type": "code",
   "execution_count": 15,
   "metadata": {
    "colab": {
     "base_uri": "https://localhost:8080/"
    },
    "executionInfo": {
     "elapsed": 36000,
     "status": "ok",
     "timestamp": 1675509755410,
     "user": {
      "displayName": "Youyang Zhang",
      "userId": "01365052532827648070"
     },
     "user_tz": -480
    },
    "id": "v5qzUvP_O7Jx",
    "outputId": "e2860f4d-c774-4e58-9fd9-ac1faa126d5d"
   },
   "outputs": [
    {
     "name": "stdout",
     "output_type": "stream",
     "text": [
      "Epoch 1/100\n",
      "1/1 [==============================] - 1s 1s/step - loss: 2.4592 - accuracy: 0.0575 - val_loss: 2.1013 - val_accuracy: 0.2907\n",
      "Epoch 2/100\n",
      "1/1 [==============================] - 0s 376ms/step - loss: 2.1115 - accuracy: 0.2905 - val_loss: 2.2676 - val_accuracy: 0.3473\n",
      "Epoch 3/100\n",
      "1/1 [==============================] - 0s 445ms/step - loss: 2.2590 - accuracy: 0.3512 - val_loss: 2.0820 - val_accuracy: 0.4428\n",
      "Epoch 4/100\n",
      "1/1 [==============================] - 0s 376ms/step - loss: 2.1044 - accuracy: 0.4362 - val_loss: 1.3782 - val_accuracy: 0.4673\n",
      "Epoch 5/100\n",
      "1/1 [==============================] - 0s 306ms/step - loss: 1.3828 - accuracy: 0.4671 - val_loss: 1.3837 - val_accuracy: 0.5070\n",
      "Epoch 6/100\n",
      "1/1 [==============================] - 0s 306ms/step - loss: 1.3925 - accuracy: 0.5045 - val_loss: 1.4132 - val_accuracy: 0.4602\n",
      "Epoch 7/100\n",
      "1/1 [==============================] - 0s 298ms/step - loss: 1.4210 - accuracy: 0.4560 - val_loss: 1.4911 - val_accuracy: 0.6067\n",
      "Epoch 8/100\n",
      "1/1 [==============================] - 0s 332ms/step - loss: 1.4829 - accuracy: 0.6040 - val_loss: 1.1145 - val_accuracy: 0.5458\n",
      "Epoch 9/100\n",
      "1/1 [==============================] - 0s 379ms/step - loss: 1.1157 - accuracy: 0.5468 - val_loss: 1.0911 - val_accuracy: 0.6677\n",
      "Epoch 10/100\n",
      "1/1 [==============================] - 0s 359ms/step - loss: 1.1101 - accuracy: 0.6604 - val_loss: 1.0164 - val_accuracy: 0.6482\n",
      "Epoch 11/100\n",
      "1/1 [==============================] - 0s 307ms/step - loss: 1.0181 - accuracy: 0.6471 - val_loss: 1.0367 - val_accuracy: 0.6444\n",
      "Epoch 12/100\n",
      "1/1 [==============================] - 0s 295ms/step - loss: 1.0503 - accuracy: 0.6409 - val_loss: 1.1099 - val_accuracy: 0.6217\n",
      "Epoch 13/100\n",
      "1/1 [==============================] - 0s 307ms/step - loss: 1.1087 - accuracy: 0.6206 - val_loss: 0.9767 - val_accuracy: 0.6274\n",
      "Epoch 14/100\n",
      "1/1 [==============================] - 0s 309ms/step - loss: 0.9852 - accuracy: 0.6257 - val_loss: 0.9391 - val_accuracy: 0.6432\n",
      "Epoch 15/100\n",
      "1/1 [==============================] - 0s 311ms/step - loss: 0.9462 - accuracy: 0.6409 - val_loss: 0.9023 - val_accuracy: 0.6636\n",
      "Epoch 16/100\n",
      "1/1 [==============================] - 0s 297ms/step - loss: 0.9072 - accuracy: 0.6634 - val_loss: 0.8662 - val_accuracy: 0.6740\n",
      "Epoch 17/100\n",
      "1/1 [==============================] - 0s 318ms/step - loss: 0.8766 - accuracy: 0.6732 - val_loss: 0.8649 - val_accuracy: 0.6938\n",
      "Epoch 18/100\n",
      "1/1 [==============================] - 0s 337ms/step - loss: 0.8672 - accuracy: 0.6937 - val_loss: 0.8478 - val_accuracy: 0.6996\n",
      "Epoch 19/100\n",
      "1/1 [==============================] - 0s 342ms/step - loss: 0.8613 - accuracy: 0.6940 - val_loss: 0.8542 - val_accuracy: 0.7017\n",
      "Epoch 20/100\n",
      "1/1 [==============================] - 0s 349ms/step - loss: 0.8557 - accuracy: 0.7023 - val_loss: 0.8496 - val_accuracy: 0.7186\n",
      "Epoch 21/100\n",
      "1/1 [==============================] - 0s 301ms/step - loss: 0.8639 - accuracy: 0.7133 - val_loss: 0.8171 - val_accuracy: 0.7058\n",
      "Epoch 22/100\n",
      "1/1 [==============================] - 0s 302ms/step - loss: 0.8206 - accuracy: 0.7076 - val_loss: 0.8131 - val_accuracy: 0.7257\n",
      "Epoch 23/100\n",
      "1/1 [==============================] - 0s 298ms/step - loss: 0.8240 - accuracy: 0.7207 - val_loss: 0.7960 - val_accuracy: 0.7064\n",
      "Epoch 24/100\n",
      "1/1 [==============================] - 0s 335ms/step - loss: 0.7994 - accuracy: 0.7091 - val_loss: 0.7915 - val_accuracy: 0.7333\n",
      "Epoch 25/100\n",
      "1/1 [==============================] - 0s 353ms/step - loss: 0.8020 - accuracy: 0.7289 - val_loss: 0.7621 - val_accuracy: 0.7245\n",
      "Epoch 26/100\n",
      "1/1 [==============================] - 0s 362ms/step - loss: 0.7658 - accuracy: 0.7270 - val_loss: 0.7530 - val_accuracy: 0.7442\n",
      "Epoch 27/100\n",
      "1/1 [==============================] - 0s 366ms/step - loss: 0.7625 - accuracy: 0.7387 - val_loss: 0.7342 - val_accuracy: 0.7391\n",
      "Epoch 28/100\n",
      "1/1 [==============================] - 0s 359ms/step - loss: 0.7379 - accuracy: 0.7407 - val_loss: 0.7262 - val_accuracy: 0.7512\n",
      "Epoch 29/100\n",
      "1/1 [==============================] - 0s 362ms/step - loss: 0.7350 - accuracy: 0.7473 - val_loss: 0.7150 - val_accuracy: 0.7495\n",
      "Epoch 30/100\n",
      "1/1 [==============================] - 0s 361ms/step - loss: 0.7186 - accuracy: 0.7500 - val_loss: 0.7094 - val_accuracy: 0.7552\n",
      "Epoch 31/100\n",
      "1/1 [==============================] - 0s 340ms/step - loss: 0.7175 - accuracy: 0.7531 - val_loss: 0.7059 - val_accuracy: 0.7452\n",
      "Epoch 32/100\n",
      "1/1 [==============================] - 0s 343ms/step - loss: 0.7095 - accuracy: 0.7475 - val_loss: 0.7067 - val_accuracy: 0.7520\n",
      "Epoch 33/100\n",
      "1/1 [==============================] - 0s 347ms/step - loss: 0.7134 - accuracy: 0.7503 - val_loss: 0.7220 - val_accuracy: 0.7316\n",
      "Epoch 34/100\n",
      "1/1 [==============================] - 0s 341ms/step - loss: 0.7255 - accuracy: 0.7322 - val_loss: 0.7335 - val_accuracy: 0.7233\n",
      "Epoch 35/100\n",
      "1/1 [==============================] - 0s 362ms/step - loss: 0.7367 - accuracy: 0.7248 - val_loss: 0.7476 - val_accuracy: 0.7234\n",
      "Epoch 36/100\n",
      "1/1 [==============================] - 0s 350ms/step - loss: 0.7514 - accuracy: 0.7222 - val_loss: 0.7403 - val_accuracy: 0.7289\n",
      "Epoch 37/100\n",
      "1/1 [==============================] - 0s 353ms/step - loss: 0.7401 - accuracy: 0.7317 - val_loss: 0.7058 - val_accuracy: 0.7253\n",
      "Epoch 38/100\n",
      "1/1 [==============================] - 0s 334ms/step - loss: 0.7115 - accuracy: 0.7254 - val_loss: 0.7125 - val_accuracy: 0.7451\n",
      "Epoch 39/100\n",
      "1/1 [==============================] - 0s 302ms/step - loss: 0.7121 - accuracy: 0.7485 - val_loss: 0.6875 - val_accuracy: 0.7319\n",
      "Epoch 40/100\n",
      "1/1 [==============================] - 0s 299ms/step - loss: 0.6944 - accuracy: 0.7322 - val_loss: 0.6989 - val_accuracy: 0.7527\n",
      "Epoch 41/100\n",
      "1/1 [==============================] - 0s 304ms/step - loss: 0.6983 - accuracy: 0.7556 - val_loss: 0.6762 - val_accuracy: 0.7396\n",
      "Epoch 42/100\n",
      "1/1 [==============================] - 0s 322ms/step - loss: 0.6834 - accuracy: 0.7391 - val_loss: 0.6802 - val_accuracy: 0.7611\n",
      "Epoch 43/100\n",
      "1/1 [==============================] - 0s 306ms/step - loss: 0.6801 - accuracy: 0.7640 - val_loss: 0.6611 - val_accuracy: 0.7499\n",
      "Epoch 44/100\n",
      "1/1 [==============================] - 0s 309ms/step - loss: 0.6678 - accuracy: 0.7506 - val_loss: 0.6619 - val_accuracy: 0.7681\n",
      "Epoch 45/100\n",
      "1/1 [==============================] - 0s 382ms/step - loss: 0.6624 - accuracy: 0.7722 - val_loss: 0.6474 - val_accuracy: 0.7602\n",
      "Epoch 46/100\n",
      "1/1 [==============================] - 0s 367ms/step - loss: 0.6533 - accuracy: 0.7603 - val_loss: 0.6483 - val_accuracy: 0.7731\n",
      "Epoch 47/100\n",
      "1/1 [==============================] - 0s 359ms/step - loss: 0.6490 - accuracy: 0.7782 - val_loss: 0.6373 - val_accuracy: 0.7682\n",
      "Epoch 48/100\n",
      "1/1 [==============================] - 0s 369ms/step - loss: 0.6426 - accuracy: 0.7667 - val_loss: 0.6386 - val_accuracy: 0.7778\n",
      "Epoch 49/100\n",
      "1/1 [==============================] - 0s 349ms/step - loss: 0.6392 - accuracy: 0.7812 - val_loss: 0.6296 - val_accuracy: 0.7728\n",
      "Epoch 50/100\n",
      "1/1 [==============================] - 0s 388ms/step - loss: 0.6345 - accuracy: 0.7713 - val_loss: 0.6314 - val_accuracy: 0.7812\n",
      "Epoch 51/100\n",
      "1/1 [==============================] - 0s 353ms/step - loss: 0.6317 - accuracy: 0.7837 - val_loss: 0.6236 - val_accuracy: 0.7755\n",
      "Epoch 52/100\n",
      "1/1 [==============================] - 0s 356ms/step - loss: 0.6282 - accuracy: 0.7736 - val_loss: 0.6256 - val_accuracy: 0.7831\n",
      "Epoch 53/100\n",
      "1/1 [==============================] - 0s 335ms/step - loss: 0.6257 - accuracy: 0.7851 - val_loss: 0.6187 - val_accuracy: 0.7764\n",
      "Epoch 54/100\n",
      "1/1 [==============================] - 0s 305ms/step - loss: 0.6231 - accuracy: 0.7756 - val_loss: 0.6208 - val_accuracy: 0.7845\n",
      "Epoch 55/100\n",
      "1/1 [==============================] - 0s 467ms/step - loss: 0.6205 - accuracy: 0.7868 - val_loss: 0.6145 - val_accuracy: 0.7772\n",
      "Epoch 56/100\n",
      "1/1 [==============================] - 0s 470ms/step - loss: 0.6187 - accuracy: 0.7772 - val_loss: 0.6164 - val_accuracy: 0.7855\n",
      "Epoch 57/100\n",
      "1/1 [==============================] - 0s 475ms/step - loss: 0.6157 - accuracy: 0.7880 - val_loss: 0.6109 - val_accuracy: 0.7785\n",
      "Epoch 58/100\n",
      "1/1 [==============================] - 1s 568ms/step - loss: 0.6150 - accuracy: 0.7786 - val_loss: 0.6120 - val_accuracy: 0.7857\n",
      "Epoch 59/100\n",
      "1/1 [==============================] - 0s 351ms/step - loss: 0.6110 - accuracy: 0.7891 - val_loss: 0.6078 - val_accuracy: 0.7796\n",
      "Epoch 60/100\n",
      "1/1 [==============================] - 1s 600ms/step - loss: 0.6119 - accuracy: 0.7804 - val_loss: 0.6077 - val_accuracy: 0.7849\n",
      "Epoch 61/100\n",
      "1/1 [==============================] - 0s 298ms/step - loss: 0.6063 - accuracy: 0.7892 - val_loss: 0.6067 - val_accuracy: 0.7810\n",
      "Epoch 62/100\n",
      "1/1 [==============================] - 0s 302ms/step - loss: 0.6110 - accuracy: 0.7815 - val_loss: 0.6059 - val_accuracy: 0.7817\n",
      "Epoch 63/100\n",
      "1/1 [==============================] - 0s 357ms/step - loss: 0.6041 - accuracy: 0.7862 - val_loss: 0.6144 - val_accuracy: 0.7823\n",
      "Epoch 64/100\n",
      "1/1 [==============================] - 0s 360ms/step - loss: 0.6192 - accuracy: 0.7800 - val_loss: 0.6212 - val_accuracy: 0.7657\n",
      "Epoch 65/100\n",
      "1/1 [==============================] - 0s 349ms/step - loss: 0.6187 - accuracy: 0.7692 - val_loss: 0.6467 - val_accuracy: 0.7692\n",
      "Epoch 66/100\n",
      "1/1 [==============================] - 0s 350ms/step - loss: 0.6517 - accuracy: 0.7671 - val_loss: 0.6821 - val_accuracy: 0.7499\n",
      "Epoch 67/100\n",
      "1/1 [==============================] - 0s 350ms/step - loss: 0.6789 - accuracy: 0.7534 - val_loss: 0.6513 - val_accuracy: 0.7594\n",
      "Epoch 68/100\n",
      "1/1 [==============================] - 0s 356ms/step - loss: 0.6533 - accuracy: 0.7555 - val_loss: 0.6775 - val_accuracy: 0.7532\n",
      "Epoch 69/100\n",
      "1/1 [==============================] - 0s 359ms/step - loss: 0.6751 - accuracy: 0.7537 - val_loss: 0.6227 - val_accuracy: 0.7737\n",
      "Epoch 70/100\n",
      "1/1 [==============================] - 0s 350ms/step - loss: 0.6229 - accuracy: 0.7706 - val_loss: 0.6282 - val_accuracy: 0.7602\n",
      "Epoch 71/100\n",
      "1/1 [==============================] - 0s 349ms/step - loss: 0.6274 - accuracy: 0.7605 - val_loss: 0.6102 - val_accuracy: 0.7803\n",
      "Epoch 72/100\n",
      "1/1 [==============================] - 0s 313ms/step - loss: 0.6095 - accuracy: 0.7808 - val_loss: 0.6099 - val_accuracy: 0.7667\n",
      "Epoch 73/100\n",
      "1/1 [==============================] - 0s 293ms/step - loss: 0.6101 - accuracy: 0.7679 - val_loss: 0.6047 - val_accuracy: 0.7845\n",
      "Epoch 74/100\n",
      "1/1 [==============================] - 0s 307ms/step - loss: 0.6032 - accuracy: 0.7866 - val_loss: 0.5997 - val_accuracy: 0.7706\n",
      "Epoch 75/100\n",
      "1/1 [==============================] - 0s 302ms/step - loss: 0.6003 - accuracy: 0.7743 - val_loss: 0.6000 - val_accuracy: 0.7868\n",
      "Epoch 76/100\n",
      "1/1 [==============================] - 0s 297ms/step - loss: 0.5980 - accuracy: 0.7898 - val_loss: 0.5916 - val_accuracy: 0.7773\n",
      "Epoch 77/100\n",
      "1/1 [==============================] - 0s 309ms/step - loss: 0.5925 - accuracy: 0.7797 - val_loss: 0.5944 - val_accuracy: 0.7887\n",
      "Epoch 78/100\n",
      "1/1 [==============================] - 0s 310ms/step - loss: 0.5920 - accuracy: 0.7931 - val_loss: 0.5845 - val_accuracy: 0.7829\n",
      "Epoch 79/100\n",
      "1/1 [==============================] - 0s 297ms/step - loss: 0.5854 - accuracy: 0.7843 - val_loss: 0.5882 - val_accuracy: 0.7914\n",
      "Epoch 80/100\n",
      "1/1 [==============================] - 0s 297ms/step - loss: 0.5856 - accuracy: 0.7963 - val_loss: 0.5783 - val_accuracy: 0.7876\n",
      "Epoch 81/100\n",
      "1/1 [==============================] - 0s 306ms/step - loss: 0.5792 - accuracy: 0.7891 - val_loss: 0.5824 - val_accuracy: 0.7929\n",
      "Epoch 82/100\n",
      "1/1 [==============================] - 0s 306ms/step - loss: 0.5796 - accuracy: 0.7986 - val_loss: 0.5733 - val_accuracy: 0.7912\n",
      "Epoch 83/100\n",
      "1/1 [==============================] - 0s 302ms/step - loss: 0.5742 - accuracy: 0.7921 - val_loss: 0.5776 - val_accuracy: 0.7947\n",
      "Epoch 84/100\n",
      "1/1 [==============================] - 0s 298ms/step - loss: 0.5744 - accuracy: 0.7998 - val_loss: 0.5697 - val_accuracy: 0.7934\n",
      "Epoch 85/100\n",
      "1/1 [==============================] - 0s 308ms/step - loss: 0.5707 - accuracy: 0.7940 - val_loss: 0.5738 - val_accuracy: 0.7945\n",
      "Epoch 86/100\n",
      "1/1 [==============================] - 0s 309ms/step - loss: 0.5703 - accuracy: 0.8007 - val_loss: 0.5681 - val_accuracy: 0.7943\n",
      "Epoch 87/100\n",
      "1/1 [==============================] - 0s 314ms/step - loss: 0.5693 - accuracy: 0.7943 - val_loss: 0.5713 - val_accuracy: 0.7940\n",
      "Epoch 88/100\n",
      "1/1 [==============================] - 0s 306ms/step - loss: 0.5672 - accuracy: 0.8008 - val_loss: 0.5699 - val_accuracy: 0.7931\n",
      "Epoch 89/100\n",
      "1/1 [==============================] - 0s 302ms/step - loss: 0.5717 - accuracy: 0.7944 - val_loss: 0.5700 - val_accuracy: 0.7897\n",
      "Epoch 90/100\n",
      "1/1 [==============================] - 0s 302ms/step - loss: 0.5655 - accuracy: 0.7983 - val_loss: 0.5768 - val_accuracy: 0.7922\n",
      "Epoch 91/100\n",
      "1/1 [==============================] - 0s 336ms/step - loss: 0.5794 - accuracy: 0.7934 - val_loss: 0.5716 - val_accuracy: 0.7855\n",
      "Epoch 92/100\n",
      "1/1 [==============================] - 0s 341ms/step - loss: 0.5666 - accuracy: 0.7932 - val_loss: 0.5869 - val_accuracy: 0.7921\n",
      "Epoch 93/100\n",
      "1/1 [==============================] - 0s 354ms/step - loss: 0.5900 - accuracy: 0.7900 - val_loss: 0.5821 - val_accuracy: 0.7783\n",
      "Epoch 94/100\n",
      "1/1 [==============================] - 0s 350ms/step - loss: 0.5768 - accuracy: 0.7836 - val_loss: 0.5945 - val_accuracy: 0.7883\n",
      "Epoch 95/100\n",
      "1/1 [==============================] - 0s 339ms/step - loss: 0.5972 - accuracy: 0.7850 - val_loss: 0.6016 - val_accuracy: 0.7685\n",
      "Epoch 96/100\n",
      "1/1 [==============================] - 0s 369ms/step - loss: 0.5961 - accuracy: 0.7733 - val_loss: 0.5909 - val_accuracy: 0.7859\n",
      "Epoch 97/100\n",
      "1/1 [==============================] - 0s 345ms/step - loss: 0.5920 - accuracy: 0.7832 - val_loss: 0.6034 - val_accuracy: 0.7678\n",
      "Epoch 98/100\n",
      "1/1 [==============================] - 0s 348ms/step - loss: 0.5983 - accuracy: 0.7719 - val_loss: 0.5776 - val_accuracy: 0.7921\n",
      "Epoch 99/100\n",
      "1/1 [==============================] - 0s 316ms/step - loss: 0.5771 - accuracy: 0.7896 - val_loss: 0.5861 - val_accuracy: 0.7764\n",
      "Epoch 100/100\n",
      "1/1 [==============================] - 0s 327ms/step - loss: 0.5818 - accuracy: 0.7791 - val_loss: 0.5678 - val_accuracy: 0.7968\n"
     ]
    },
    {
     "data": {
      "text/plain": [
       "<keras.callbacks.History at 0x7fec0cf8d3a0>"
      ]
     },
     "execution_count": 15,
     "metadata": {},
     "output_type": "execute_result"
    }
   ],
   "source": [
    "# Build model based on best hyper-parameters\n",
    "h_model = tuner.hypermodel.build(best_hps)\n",
    "\n",
    "# Train the hypertuned model\n",
    "h_model.fit(x_train, y_train, epochs=100, validation_split=0.2, batch_size=x_train.shape[0])"
   ]
  },
  {
   "cell_type": "markdown",
   "metadata": {
    "id": "4aATQV6PFyiV"
   },
   "source": [
    "### Step5: Compare results with base model\n",
    "Hypertuned model has higher accuracy."
   ]
  },
  {
   "cell_type": "code",
   "execution_count": 16,
   "metadata": {
    "colab": {
     "base_uri": "https://localhost:8080/",
     "height": 112
    },
    "executionInfo": {
     "elapsed": 463,
     "status": "ok",
     "timestamp": 1675509776623,
     "user": {
      "displayName": "Youyang Zhang",
      "userId": "01365052532827648070"
     },
     "user_tz": -480
    },
    "id": "1hoOPS5JFDiK",
    "outputId": "ca182b4d-4fb4-4a93-8782-20778b103834"
   },
   "outputs": [
    {
     "data": {
      "text/html": [
       "\n",
       "  <div id=\"df-8c7dd1b4-76fa-4ea0-9850-96107879a8be\">\n",
       "    <div class=\"colab-df-container\">\n",
       "      <div>\n",
       "<style scoped>\n",
       "    .dataframe tbody tr th:only-of-type {\n",
       "        vertical-align: middle;\n",
       "    }\n",
       "\n",
       "    .dataframe tbody tr th {\n",
       "        vertical-align: top;\n",
       "    }\n",
       "\n",
       "    .dataframe thead tr th {\n",
       "        text-align: left;\n",
       "    }\n",
       "</style>\n",
       "<table border=\"1\" class=\"dataframe\">\n",
       "  <thead>\n",
       "    <tr>\n",
       "      <th></th>\n",
       "      <th>loss</th>\n",
       "      <th>accuracy</th>\n",
       "    </tr>\n",
       "  </thead>\n",
       "  <tbody>\n",
       "    <tr>\n",
       "      <th>Baseline</th>\n",
       "      <td>0.614520</td>\n",
       "      <td>0.7690</td>\n",
       "    </tr>\n",
       "    <tr>\n",
       "      <th>Hypertuned</th>\n",
       "      <td>0.589701</td>\n",
       "      <td>0.7841</td>\n",
       "    </tr>\n",
       "  </tbody>\n",
       "</table>\n",
       "</div>\n",
       "      <button class=\"colab-df-convert\" onclick=\"convertToInteractive('df-8c7dd1b4-76fa-4ea0-9850-96107879a8be')\"\n",
       "              title=\"Convert this dataframe to an interactive table.\"\n",
       "              style=\"display:none;\">\n",
       "        \n",
       "  <svg xmlns=\"http://www.w3.org/2000/svg\" height=\"24px\"viewBox=\"0 0 24 24\"\n",
       "       width=\"24px\">\n",
       "    <path d=\"M0 0h24v24H0V0z\" fill=\"none\"/>\n",
       "    <path d=\"M18.56 5.44l.94 2.06.94-2.06 2.06-.94-2.06-.94-.94-2.06-.94 2.06-2.06.94zm-11 1L8.5 8.5l.94-2.06 2.06-.94-2.06-.94L8.5 2.5l-.94 2.06-2.06.94zm10 10l.94 2.06.94-2.06 2.06-.94-2.06-.94-.94-2.06-.94 2.06-2.06.94z\"/><path d=\"M17.41 7.96l-1.37-1.37c-.4-.4-.92-.59-1.43-.59-.52 0-1.04.2-1.43.59L10.3 9.45l-7.72 7.72c-.78.78-.78 2.05 0 2.83L4 21.41c.39.39.9.59 1.41.59.51 0 1.02-.2 1.41-.59l7.78-7.78 2.81-2.81c.8-.78.8-2.07 0-2.86zM5.41 20L4 18.59l7.72-7.72 1.47 1.35L5.41 20z\"/>\n",
       "  </svg>\n",
       "      </button>\n",
       "      \n",
       "  <style>\n",
       "    .colab-df-container {\n",
       "      display:flex;\n",
       "      flex-wrap:wrap;\n",
       "      gap: 12px;\n",
       "    }\n",
       "\n",
       "    .colab-df-convert {\n",
       "      background-color: #E8F0FE;\n",
       "      border: none;\n",
       "      border-radius: 50%;\n",
       "      cursor: pointer;\n",
       "      display: none;\n",
       "      fill: #1967D2;\n",
       "      height: 32px;\n",
       "      padding: 0 0 0 0;\n",
       "      width: 32px;\n",
       "    }\n",
       "\n",
       "    .colab-df-convert:hover {\n",
       "      background-color: #E2EBFA;\n",
       "      box-shadow: 0px 1px 2px rgba(60, 64, 67, 0.3), 0px 1px 3px 1px rgba(60, 64, 67, 0.15);\n",
       "      fill: #174EA6;\n",
       "    }\n",
       "\n",
       "    [theme=dark] .colab-df-convert {\n",
       "      background-color: #3B4455;\n",
       "      fill: #D2E3FC;\n",
       "    }\n",
       "\n",
       "    [theme=dark] .colab-df-convert:hover {\n",
       "      background-color: #434B5C;\n",
       "      box-shadow: 0px 1px 3px 1px rgba(0, 0, 0, 0.15);\n",
       "      filter: drop-shadow(0px 1px 2px rgba(0, 0, 0, 0.3));\n",
       "      fill: #FFFFFF;\n",
       "    }\n",
       "  </style>\n",
       "\n",
       "      <script>\n",
       "        const buttonEl =\n",
       "          document.querySelector('#df-8c7dd1b4-76fa-4ea0-9850-96107879a8be button.colab-df-convert');\n",
       "        buttonEl.style.display =\n",
       "          google.colab.kernel.accessAllowed ? 'block' : 'none';\n",
       "\n",
       "        async function convertToInteractive(key) {\n",
       "          const element = document.querySelector('#df-8c7dd1b4-76fa-4ea0-9850-96107879a8be');\n",
       "          const dataTable =\n",
       "            await google.colab.kernel.invokeFunction('convertToInteractive',\n",
       "                                                     [key], {});\n",
       "          if (!dataTable) return;\n",
       "\n",
       "          const docLinkHtml = 'Like what you see? Visit the ' +\n",
       "            '<a target=\"_blank\" href=https://colab.research.google.com/notebooks/data_table.ipynb>data table notebook</a>'\n",
       "            + ' to learn more about interactive tables.';\n",
       "          element.innerHTML = '';\n",
       "          dataTable['output_type'] = 'display_data';\n",
       "          await google.colab.output.renderOutput(dataTable, element);\n",
       "          const docLink = document.createElement('div');\n",
       "          docLink.innerHTML = docLinkHtml;\n",
       "          element.appendChild(docLink);\n",
       "        }\n",
       "      </script>\n",
       "    </div>\n",
       "  </div>\n",
       "  "
      ],
      "text/plain": [
       "                loss accuracy\n",
       "Baseline    0.614520   0.7690\n",
       "Hypertuned  0.589701   0.7841"
      ]
     },
     "execution_count": 16,
     "metadata": {},
     "output_type": "execute_result"
    }
   ],
   "source": [
    "# Evaluate the model on test set\n",
    "h_score = h_model.evaluate(x_test, y_test, verbose=0, return_dict=True)\n",
    "hyper_df = pd.DataFrame([h_score.values()], columns=[list(h_score.keys())])\n",
    "hyper_df.index = ['Hypertuned']\n",
    "score_df.append(hyper_df)"
   ]
  },
  {
   "cell_type": "code",
   "execution_count": null,
   "metadata": {
    "id": "91mc3V9VHGBd"
   },
   "outputs": [],
   "source": []
  }
 ],
 "metadata": {
  "colab": {
   "provenance": []
  },
  "kernelspec": {
   "display_name": "Python 3 (ipykernel)",
   "language": "python",
   "name": "python3"
  },
  "language_info": {
   "codemirror_mode": {
    "name": "ipython",
    "version": 3
   },
   "file_extension": ".py",
   "mimetype": "text/x-python",
   "name": "python",
   "nbconvert_exporter": "python",
   "pygments_lexer": "ipython3",
   "version": "3.10.8"
  },
  "latex_envs": {
   "LaTeX_envs_menu_present": true,
   "autoclose": false,
   "autocomplete": true,
   "bibliofile": "biblio.bib",
   "cite_by": "apalike",
   "current_citInitial": 1,
   "eqLabelWithNumbers": true,
   "eqNumInitial": 1,
   "hotkeys": {
    "equation": "Ctrl-E",
    "itemize": "Ctrl-I"
   },
   "labels_anchors": false,
   "latex_user_defs": false,
   "report_style_numbering": false,
   "user_envs_cfg": false
  },
  "toc": {
   "base_numbering": 1,
   "nav_menu": {},
   "number_sections": true,
   "sideBar": true,
   "skip_h1_title": false,
   "title_cell": "Table of Contents",
   "title_sidebar": "Contents",
   "toc_cell": false,
   "toc_position": {
    "height": "calc(100% - 180px)",
    "left": "10px",
    "top": "150px",
    "width": "259.99px"
   },
   "toc_section_display": true,
   "toc_window_display": true
  }
 },
 "nbformat": 4,
 "nbformat_minor": 1
}

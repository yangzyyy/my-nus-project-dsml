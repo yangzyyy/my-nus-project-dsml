{
 "cells": [
  {
   "cell_type": "markdown",
   "metadata": {},
   "source": [
    "# Preface\n",
    "\n",
    "In this notebook, we build a simple CNN to classify chest x-ray images into two categories, NORMAL or PNEUMONIA. In so doing, we also introduce a practically useful image data processing pipeline based on `ImageDataGenerator` in `keras`."
   ]
  },
  {
   "cell_type": "code",
   "execution_count": null,
   "metadata": {},
   "outputs": [],
   "source": [
    "import seaborn as sns\n",
    "import matplotlib.pyplot as plt\n",
    "import numpy as np\n",
    "import pandas as pd\n",
    "import pathlib\n",
    "sns.set(font_scale=1.5, style='dark')\n",
    "np.random.seed(123)"
   ]
  },
  {
   "cell_type": "markdown",
   "metadata": {},
   "source": [
    "# Downloading Dataset from Kaggle"
   ]
  },
  {
   "cell_type": "markdown",
   "metadata": {},
   "source": [
    "We will download the chest x-ray image directly from Kaggle. We will use the [kaggle API](https://github.com/Kaggle/kaggle-api).\n",
    "\n",
    "Alternatively, you can also download the data manually from [here](https://www.kaggle.com/paultimothymooney/chest-xray-pneumonia)."
   ]
  },
  {
   "cell_type": "code",
   "execution_count": null,
   "metadata": {},
   "outputs": [],
   "source": [
    "import kaggle\n",
    "kaggle.api.authenticate()\n",
    "\n",
    "kaggle.api.dataset_download_files(\n",
    "    'paultimothymooney/chest-xray-pneumonia',\n",
    "    path='./data',\n",
    "    quiet=False,\n",
    "    unzip=True,\n",
    "    force=False,\n",
    ")"
   ]
  },
  {
   "cell_type": "markdown",
   "metadata": {},
   "source": [
    "We will look at some images. We will use the `load_img` function from `keras.preprocessing` module, which uses `PIL`."
   ]
  },
  {
   "cell_type": "code",
   "execution_count": null,
   "metadata": {},
   "outputs": [],
   "source": [
    "from tensorflow.keras.preprocessing.image import load_img"
   ]
  },
  {
   "cell_type": "code",
   "execution_count": null,
   "metadata": {},
   "outputs": [],
   "source": [
    "data_dir = pathlib.Path('./data/chest_xray')\n",
    "train_dir = data_dir.joinpath('train')\n",
    "val_dir = data_dir.joinpath('val')\n",
    "test_dir = data_dir.joinpath('test')"
   ]
  },
  {
   "cell_type": "markdown",
   "metadata": {},
   "source": [
    "We compare some normal and pneumonia images."
   ]
  },
  {
   "cell_type": "code",
   "execution_count": null,
   "metadata": {},
   "outputs": [],
   "source": [
    "for i in range(5):\n",
    "    normal_image = load_img(list(train_dir.glob('NORMAL/*'))[i])\n",
    "    pneumonia_image = load_img(list(train_dir.glob('PNEUMONIA/*'))[i])\n",
    "    fig, (ax1, ax2) = plt.subplots(1, 2, figsize=(14, 5))\n",
    "    ax1.imshow(normal_image)\n",
    "    ax1.set_title('NORMAL')\n",
    "    ax2.imshow(pneumonia_image)\n",
    "    ax2.set_title('PNEUMONIA')"
   ]
  },
  {
   "cell_type": "markdown",
   "metadata": {},
   "source": [
    " To the untrained eye, it is not always straight-forward to tell which is which. Let us now build a CNN model to classify these images into NORMAL vs PNEUMONIA."
   ]
  },
  {
   "cell_type": "markdown",
   "metadata": {},
   "source": [
    "# Building A Simple CNN for Pneumonia Classification"
   ]
  },
  {
   "cell_type": "markdown",
   "metadata": {},
   "source": [
    "## Image Processing Pipeline\n",
    "\n",
    "Before building a model, let us take a look at the input data shapes and scales."
   ]
  },
  {
   "cell_type": "code",
   "execution_count": null,
   "metadata": {},
   "outputs": [],
   "source": [
    "for i in range(5):\n",
    "    normal_image = np.array(load_img(list(train_dir.glob('NORMAL/*'))[i]))\n",
    "    print(f'Shape: {normal_image.shape}, Min: {normal_image.min()}, Max: {normal_image.max()}')    "
   ]
  },
  {
   "cell_type": "markdown",
   "metadata": {},
   "source": [
    "Of course, the images will require normalization. Moreover, the image sizes are huge ($\\mathcal{O}(10^8)$ pixels) so there should be some preprocessing done. \n",
    "\n",
    "The dataset size is non-trivial (~2.5G) so it is not very efficient to load everything into memory. Instead, we can try to load the data on-the-fly during training. \n",
    "\n",
    "Both of these can be achieved by the `ImageDataGenerator` class found in `tensorflow.keras.preprocessing.image`. We will use its bare-basic functionalities for now and gradually expand on it in later lectures."
   ]
  },
  {
   "cell_type": "code",
   "execution_count": null,
   "metadata": {},
   "outputs": [],
   "source": [
    "from tensorflow.keras.preprocessing.image import ImageDataGenerator"
   ]
  },
  {
   "cell_type": "code",
   "execution_count": null,
   "metadata": {},
   "outputs": [],
   "source": [
    "data_generator = ImageDataGenerator(rescale=1./255)"
   ]
  },
  {
   "cell_type": "code",
   "execution_count": null,
   "metadata": {},
   "outputs": [],
   "source": [
    "img_size = (128, 128)\n",
    "batch_size = 16"
   ]
  },
  {
   "cell_type": "markdown",
   "metadata": {},
   "source": [
    "The `flow_from_directory` method allows on-the-fly loading and training from the directory, without the need to load in memory. This will be faster if you are using a SSD."
   ]
  },
  {
   "cell_type": "code",
   "execution_count": null,
   "metadata": {},
   "outputs": [],
   "source": [
    "train_gen = data_generator.flow_from_directory(\n",
    "    train_dir,\n",
    "    target_size=img_size,\n",
    "    batch_size=batch_size,\n",
    "    class_mode='binary')\n",
    "\n",
    "val_gen = data_generator.flow_from_directory(\n",
    "    val_dir,\n",
    "    target_size=img_size,\n",
    "    batch_size=batch_size,\n",
    "    class_mode='binary')\n",
    "\n",
    "test_gen = data_generator.flow_from_directory(\n",
    "    test_dir,\n",
    "    target_size=img_size,\n",
    "    batch_size=batch_size,\n",
    "    shuffle=False,\n",
    "    class_mode='binary')"
   ]
  },
  {
   "cell_type": "markdown",
   "metadata": {},
   "source": [
    "## Build CNN Model"
   ]
  },
  {
   "cell_type": "code",
   "execution_count": null,
   "metadata": {},
   "outputs": [],
   "source": [
    "from tensorflow.keras.models import Sequential\n",
    "from tensorflow.keras.layers import Conv2D, MaxPool2D, Flatten, Dense"
   ]
  },
  {
   "cell_type": "code",
   "execution_count": null,
   "metadata": {},
   "outputs": [],
   "source": [
    "model = Sequential()\n",
    "model.add(Conv2D(32, (3, 3), activation='relu', input_shape=(img_size[0], img_size[1], 3)))\n",
    "model.add(MaxPool2D())\n",
    "\n",
    "model.add(Conv2D(32, (3, 3),activation='relu'))\n",
    "model.add(MaxPool2D())\n",
    "\n",
    "model.add(Conv2D(64, (3, 3), activation='relu'))\n",
    "model.add(MaxPool2D())\n",
    "\n",
    "model.add(Flatten())\n",
    "model.add(Dense(64, activation='relu'))\n",
    "model.add(Dense(1, activation='sigmoid'))"
   ]
  },
  {
   "cell_type": "code",
   "execution_count": null,
   "metadata": {},
   "outputs": [],
   "source": [
    "model.compile(\n",
    "    loss='binary_crossentropy',\n",
    "    optimizer='adam',\n",
    "    metrics=['accuracy'],\n",
    ")"
   ]
  },
  {
   "cell_type": "code",
   "execution_count": null,
   "metadata": {},
   "outputs": [],
   "source": [
    "model.summary()"
   ]
  },
  {
   "cell_type": "markdown",
   "metadata": {},
   "source": [
    "## Train CNN"
   ]
  },
  {
   "cell_type": "code",
   "execution_count": null,
   "metadata": {},
   "outputs": [],
   "source": [
    "from tqdm.keras import TqdmCallback"
   ]
  },
  {
   "cell_type": "markdown",
   "metadata": {},
   "source": [
    "Since we are now working with data generators, we will need to find out how many data points are there."
   ]
  },
  {
   "cell_type": "code",
   "execution_count": null,
   "metadata": {},
   "outputs": [],
   "source": [
    "num_train = len(list(train_dir.glob('./*/*')))\n",
    "num_val = len(list(val_dir.glob('./*/*')))\n",
    "num_test = len(list(test_dir.glob('./*/*')))\n",
    "print(f'Num train: {num_train} Num val: {num_val} Num test: {num_test}')"
   ]
  },
  {
   "cell_type": "code",
   "execution_count": null,
   "metadata": {},
   "outputs": [],
   "source": [
    "model_save_dir = pathlib.Path('cnn_pneumonia_weights.h5')"
   ]
  },
  {
   "cell_type": "code",
   "execution_count": null,
   "metadata": {
    "scrolled": false
   },
   "outputs": [],
   "source": [
    "if model_save_dir.exists():\n",
    "    model.load_weights(str(model_save_dir))\n",
    "else:\n",
    "    history = model.fit(\n",
    "        train_gen,  # Instead of providing (x_train, y_train), we will use the generator constructed before\n",
    "        steps_per_epoch=num_train // batch_size,  # This is required for data generator feeding\n",
    "        epochs=10,\n",
    "        validation_data=val_gen,\n",
    "        validation_steps=num_val // batch_size,\n",
    "        verbose=0,\n",
    "        callbacks=[TqdmCallback(verbose=1)],\n",
    "        workers=8,\n",
    "    )\n",
    "    model.save_weights(str(model_save_dir))\n",
    "    results = pd.DataFrame(history.history)\n",
    "    results['epoch'] = history.epoch"
   ]
  },
  {
   "cell_type": "markdown",
   "metadata": {},
   "source": [
    "## Evaluate the Model"
   ]
  },
  {
   "cell_type": "markdown",
   "metadata": {},
   "source": [
    "Accuracy can be obtained from `evaluate`."
   ]
  },
  {
   "cell_type": "code",
   "execution_count": null,
   "metadata": {},
   "outputs": [],
   "source": [
    "loss, acc = model.evaluate(test_gen, workers=8, verbose=0)\n",
    "print(f'Loss: {loss}  Accuracy: {acc}')"
   ]
  },
  {
   "cell_type": "markdown",
   "metadata": {},
   "source": [
    "We can also look at the precision/recall and the confusion matrix."
   ]
  },
  {
   "cell_type": "code",
   "execution_count": null,
   "metadata": {},
   "outputs": [],
   "source": [
    "from sklearn.metrics import confusion_matrix, classification_report"
   ]
  },
  {
   "cell_type": "code",
   "execution_count": null,
   "metadata": {},
   "outputs": [],
   "source": [
    "y_pred = model.predict(test_gen)\n",
    "y_pred = 1 * (y_pred.squeeze() > 0.5)\n",
    "y_true = test_gen.classes\n",
    "\n",
    "print(classification_report(y_true, y_pred))"
   ]
  },
  {
   "cell_type": "code",
   "execution_count": null,
   "metadata": {},
   "outputs": [],
   "source": [
    "cmatrix = confusion_matrix(y_true, y_pred)\n",
    "\n",
    "ax = sns.heatmap(cmatrix, annot=True, fmt=\"d\")\n",
    "ax.set_xticklabels(['NORMAL', 'PNEUMONIA'])\n",
    "ax.set_yticklabels(['NORMAL', 'PNEUMONIA'], rotation=0);"
   ]
  },
  {
   "cell_type": "markdown",
   "metadata": {},
   "source": [
    "# Exercise\n",
    "\n",
    "Tweak the network and/or training procedure to improve performance. In this course we will introduce a number of such techniques along the way."
   ]
  }
 ],
 "metadata": {
  "kernelspec": {
   "display_name": "Python 3 (ipykernel)",
   "language": "python",
   "name": "python3"
  },
  "language_info": {
   "codemirror_mode": {
    "name": "ipython",
    "version": 3
   },
   "file_extension": ".py",
   "mimetype": "text/x-python",
   "name": "python",
   "nbconvert_exporter": "python",
   "pygments_lexer": "ipython3",
   "version": "3.8.8"
  },
  "latex_envs": {
   "LaTeX_envs_menu_present": true,
   "autoclose": false,
   "autocomplete": true,
   "bibliofile": "biblio.bib",
   "cite_by": "apalike",
   "current_citInitial": 1,
   "eqLabelWithNumbers": true,
   "eqNumInitial": 1,
   "hotkeys": {
    "equation": "Ctrl-E",
    "itemize": "Ctrl-I"
   },
   "labels_anchors": false,
   "latex_user_defs": false,
   "report_style_numbering": false,
   "user_envs_cfg": false
  },
  "toc": {
   "base_numbering": 1,
   "nav_menu": {},
   "number_sections": true,
   "sideBar": true,
   "skip_h1_title": false,
   "title_cell": "Table of Contents",
   "title_sidebar": "Contents",
   "toc_cell": false,
   "toc_position": {},
   "toc_section_display": true,
   "toc_window_display": true
  }
 },
 "nbformat": 4,
 "nbformat_minor": 2
}
